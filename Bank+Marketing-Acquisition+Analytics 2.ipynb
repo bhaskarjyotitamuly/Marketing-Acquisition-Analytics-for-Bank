{
 "cells": [
  {
   "cell_type": "markdown",
   "metadata": {},
   "source": [
    "## Acquisition Analytics : Bank Marketing\n",
    "\n",
    "We will understand the business objective and understand the data using univariate and multivariate analysis. Then we'll build multiple supervised learning models, choose the best among them and analyze the financial benefits of the analytics project.\n",
    "\n",
    "- Data Understanding\n",
    "- Data Cleaning\n",
    "- Data Preparation\n",
    "- Data Modelling\n",
    "- Model Evaluation"
   ]
  },
  {
   "cell_type": "markdown",
   "metadata": {},
   "source": [
    "The objective is to reduce the customer acquisition cost by targeting the ones who are likely to buy and to improve the response rate, i.e. the fraction of prospects who respond to the campaign."
   ]
  },
  {
   "cell_type": "markdown",
   "metadata": {},
   "source": [
    "### Data Understanding\n",
    "\n",
    "The first step in solving any machine learning problem is data understanding. We will import the requisite libraries and apply univariate and multivariate analysis."
   ]
  },
  {
   "cell_type": "code",
   "execution_count": 1,
   "metadata": {},
   "outputs": [],
   "source": [
    "import warnings\n",
    "warnings.filterwarnings('ignore')"
   ]
  },
  {
   "cell_type": "code",
   "execution_count": 2,
   "metadata": {},
   "outputs": [
    {
     "name": "stdout",
     "output_type": "stream",
     "text": [
      "<class 'pandas.core.frame.DataFrame'>\n",
      "RangeIndex: 41188 entries, 0 to 41187\n",
      "Data columns (total 21 columns):\n",
      "age               41188 non-null int64\n",
      "job               41188 non-null object\n",
      "marital           41188 non-null object\n",
      "education         41188 non-null object\n",
      "default           41188 non-null object\n",
      "housing           41188 non-null object\n",
      "loan              41188 non-null object\n",
      "contact           41188 non-null object\n",
      "month             41188 non-null object\n",
      "day_of_week       41188 non-null object\n",
      "duration          41188 non-null int64\n",
      "campaign          41188 non-null int64\n",
      "pdays             41188 non-null int64\n",
      "previous          41188 non-null int64\n",
      "poutcome          41188 non-null object\n",
      "emp.var.rate      41188 non-null float64\n",
      "cons.price.idx    41188 non-null float64\n",
      "cons.conf.idx     41188 non-null float64\n",
      "euribor3m         41188 non-null float64\n",
      "nr.employed       41188 non-null float64\n",
      "response          41188 non-null object\n",
      "dtypes: float64(5), int64(5), object(11)\n",
      "memory usage: 6.6+ MB\n"
     ]
    }
   ],
   "source": [
    "import numpy as np\n",
    "import pandas as pd\n",
    "import matplotlib.pyplot as plt\n",
    "import seaborn as sns\n",
    "\n",
    "loan = pd.read_csv(\"Downloads/bank_marketing.csv\", sep=\",\")\n",
    "loan.info()"
   ]
  },
  {
   "cell_type": "code",
   "execution_count": 3,
   "metadata": {},
   "outputs": [
    {
     "data": {
      "text/plain": [
       "age               0\n",
       "job               0\n",
       "marital           0\n",
       "education         0\n",
       "default           0\n",
       "housing           0\n",
       "loan              0\n",
       "contact           0\n",
       "month             0\n",
       "day_of_week       0\n",
       "duration          0\n",
       "campaign          0\n",
       "pdays             0\n",
       "previous          0\n",
       "poutcome          0\n",
       "emp.var.rate      0\n",
       "cons.price.idx    0\n",
       "cons.conf.idx     0\n",
       "euribor3m         0\n",
       "nr.employed       0\n",
       "response          0\n",
       "dtype: int64"
      ]
     },
     "execution_count": 3,
     "metadata": {},
     "output_type": "execute_result"
    }
   ],
   "source": [
    "loan.isnull().sum()"
   ]
  },
  {
   "cell_type": "markdown",
   "metadata": {},
   "source": [
    "We can note that the dataset has 41188 data entries across 21 columns, one of them being the response (Target variable). Another thing to note is that there are no null values. That is, the dataset is completely clean."
   ]
  },
  {
   "cell_type": "code",
   "execution_count": 4,
   "metadata": {},
   "outputs": [
    {
     "data": {
      "text/html": [
       "<div>\n",
       "<style scoped>\n",
       "    .dataframe tbody tr th:only-of-type {\n",
       "        vertical-align: middle;\n",
       "    }\n",
       "\n",
       "    .dataframe tbody tr th {\n",
       "        vertical-align: top;\n",
       "    }\n",
       "\n",
       "    .dataframe thead th {\n",
       "        text-align: right;\n",
       "    }\n",
       "</style>\n",
       "<table border=\"1\" class=\"dataframe\">\n",
       "  <thead>\n",
       "    <tr style=\"text-align: right;\">\n",
       "      <th></th>\n",
       "      <th>age</th>\n",
       "      <th>job</th>\n",
       "      <th>marital</th>\n",
       "      <th>education</th>\n",
       "      <th>default</th>\n",
       "      <th>housing</th>\n",
       "      <th>loan</th>\n",
       "      <th>contact</th>\n",
       "      <th>month</th>\n",
       "      <th>day_of_week</th>\n",
       "      <th>...</th>\n",
       "      <th>campaign</th>\n",
       "      <th>pdays</th>\n",
       "      <th>previous</th>\n",
       "      <th>poutcome</th>\n",
       "      <th>emp.var.rate</th>\n",
       "      <th>cons.price.idx</th>\n",
       "      <th>cons.conf.idx</th>\n",
       "      <th>euribor3m</th>\n",
       "      <th>nr.employed</th>\n",
       "      <th>response</th>\n",
       "    </tr>\n",
       "  </thead>\n",
       "  <tbody>\n",
       "    <tr>\n",
       "      <td>0</td>\n",
       "      <td>56</td>\n",
       "      <td>housemaid</td>\n",
       "      <td>married</td>\n",
       "      <td>basic.4y</td>\n",
       "      <td>no</td>\n",
       "      <td>no</td>\n",
       "      <td>no</td>\n",
       "      <td>telephone</td>\n",
       "      <td>may</td>\n",
       "      <td>mon</td>\n",
       "      <td>...</td>\n",
       "      <td>1</td>\n",
       "      <td>999</td>\n",
       "      <td>0</td>\n",
       "      <td>nonexistent</td>\n",
       "      <td>1.1</td>\n",
       "      <td>93.994</td>\n",
       "      <td>-36.4</td>\n",
       "      <td>4.857</td>\n",
       "      <td>5191.0</td>\n",
       "      <td>no</td>\n",
       "    </tr>\n",
       "    <tr>\n",
       "      <td>1</td>\n",
       "      <td>57</td>\n",
       "      <td>services</td>\n",
       "      <td>married</td>\n",
       "      <td>high.school</td>\n",
       "      <td>unknown</td>\n",
       "      <td>no</td>\n",
       "      <td>no</td>\n",
       "      <td>telephone</td>\n",
       "      <td>may</td>\n",
       "      <td>mon</td>\n",
       "      <td>...</td>\n",
       "      <td>1</td>\n",
       "      <td>999</td>\n",
       "      <td>0</td>\n",
       "      <td>nonexistent</td>\n",
       "      <td>1.1</td>\n",
       "      <td>93.994</td>\n",
       "      <td>-36.4</td>\n",
       "      <td>4.857</td>\n",
       "      <td>5191.0</td>\n",
       "      <td>no</td>\n",
       "    </tr>\n",
       "    <tr>\n",
       "      <td>2</td>\n",
       "      <td>37</td>\n",
       "      <td>services</td>\n",
       "      <td>married</td>\n",
       "      <td>high.school</td>\n",
       "      <td>no</td>\n",
       "      <td>yes</td>\n",
       "      <td>no</td>\n",
       "      <td>telephone</td>\n",
       "      <td>may</td>\n",
       "      <td>mon</td>\n",
       "      <td>...</td>\n",
       "      <td>1</td>\n",
       "      <td>999</td>\n",
       "      <td>0</td>\n",
       "      <td>nonexistent</td>\n",
       "      <td>1.1</td>\n",
       "      <td>93.994</td>\n",
       "      <td>-36.4</td>\n",
       "      <td>4.857</td>\n",
       "      <td>5191.0</td>\n",
       "      <td>no</td>\n",
       "    </tr>\n",
       "    <tr>\n",
       "      <td>3</td>\n",
       "      <td>40</td>\n",
       "      <td>admin.</td>\n",
       "      <td>married</td>\n",
       "      <td>basic.6y</td>\n",
       "      <td>no</td>\n",
       "      <td>no</td>\n",
       "      <td>no</td>\n",
       "      <td>telephone</td>\n",
       "      <td>may</td>\n",
       "      <td>mon</td>\n",
       "      <td>...</td>\n",
       "      <td>1</td>\n",
       "      <td>999</td>\n",
       "      <td>0</td>\n",
       "      <td>nonexistent</td>\n",
       "      <td>1.1</td>\n",
       "      <td>93.994</td>\n",
       "      <td>-36.4</td>\n",
       "      <td>4.857</td>\n",
       "      <td>5191.0</td>\n",
       "      <td>no</td>\n",
       "    </tr>\n",
       "    <tr>\n",
       "      <td>4</td>\n",
       "      <td>56</td>\n",
       "      <td>services</td>\n",
       "      <td>married</td>\n",
       "      <td>high.school</td>\n",
       "      <td>no</td>\n",
       "      <td>no</td>\n",
       "      <td>yes</td>\n",
       "      <td>telephone</td>\n",
       "      <td>may</td>\n",
       "      <td>mon</td>\n",
       "      <td>...</td>\n",
       "      <td>1</td>\n",
       "      <td>999</td>\n",
       "      <td>0</td>\n",
       "      <td>nonexistent</td>\n",
       "      <td>1.1</td>\n",
       "      <td>93.994</td>\n",
       "      <td>-36.4</td>\n",
       "      <td>4.857</td>\n",
       "      <td>5191.0</td>\n",
       "      <td>no</td>\n",
       "    </tr>\n",
       "  </tbody>\n",
       "</table>\n",
       "<p>5 rows × 21 columns</p>\n",
       "</div>"
      ],
      "text/plain": [
       "   age        job  marital    education  default housing loan    contact  \\\n",
       "0   56  housemaid  married     basic.4y       no      no   no  telephone   \n",
       "1   57   services  married  high.school  unknown      no   no  telephone   \n",
       "2   37   services  married  high.school       no     yes   no  telephone   \n",
       "3   40     admin.  married     basic.6y       no      no   no  telephone   \n",
       "4   56   services  married  high.school       no      no  yes  telephone   \n",
       "\n",
       "  month day_of_week  ...  campaign  pdays  previous     poutcome emp.var.rate  \\\n",
       "0   may         mon  ...         1    999         0  nonexistent          1.1   \n",
       "1   may         mon  ...         1    999         0  nonexistent          1.1   \n",
       "2   may         mon  ...         1    999         0  nonexistent          1.1   \n",
       "3   may         mon  ...         1    999         0  nonexistent          1.1   \n",
       "4   may         mon  ...         1    999         0  nonexistent          1.1   \n",
       "\n",
       "   cons.price.idx  cons.conf.idx  euribor3m  nr.employed  response  \n",
       "0          93.994          -36.4      4.857       5191.0        no  \n",
       "1          93.994          -36.4      4.857       5191.0        no  \n",
       "2          93.994          -36.4      4.857       5191.0        no  \n",
       "3          93.994          -36.4      4.857       5191.0        no  \n",
       "4          93.994          -36.4      4.857       5191.0        no  \n",
       "\n",
       "[5 rows x 21 columns]"
      ]
     },
     "execution_count": 4,
     "metadata": {},
     "output_type": "execute_result"
    }
   ],
   "source": [
    "# let's look at the first few rows of the dataframe\n",
    "loan.head()"
   ]
  },
  {
   "cell_type": "code",
   "execution_count": 5,
   "metadata": {},
   "outputs": [
    {
     "data": {
      "text/plain": [
       "Index(['age', 'job', 'marital', 'education', 'default', 'housing', 'loan',\n",
       "       'contact', 'month', 'day_of_week', 'duration', 'campaign', 'pdays',\n",
       "       'previous', 'poutcome', 'emp.var.rate', 'cons.price.idx',\n",
       "       'cons.conf.idx', 'euribor3m', 'nr.employed', 'response'],\n",
       "      dtype='object')"
      ]
     },
     "execution_count": 5,
     "metadata": {},
     "output_type": "execute_result"
    }
   ],
   "source": [
    "# Looking at all the column names\n",
    "loan.columns"
   ]
  },
  {
   "cell_type": "code",
   "execution_count": 6,
   "metadata": {},
   "outputs": [
    {
     "data": {
      "text/plain": [
       "no     36548\n",
       "yes     4640\n",
       "Name: response, dtype: int64"
      ]
     },
     "execution_count": 6,
     "metadata": {},
     "output_type": "execute_result"
    }
   ],
   "source": [
    "loan['response'].value_counts()"
   ]
  },
  {
   "cell_type": "markdown",
   "metadata": {},
   "source": [
    "As we note that the response variable has 'yes' and 'no' responses, we will convert it to 1 and 0 respectively"
   ]
  },
  {
   "cell_type": "code",
   "execution_count": 7,
   "metadata": {},
   "outputs": [],
   "source": [
    "loan['response'] = loan['response'].map({'yes': 1, 'no': 0})"
   ]
  },
  {
   "cell_type": "code",
   "execution_count": 8,
   "metadata": {},
   "outputs": [
    {
     "data": {
      "text/plain": [
       "0    0\n",
       "1    0\n",
       "2    0\n",
       "3    0\n",
       "4    0\n",
       "Name: response, dtype: int64"
      ]
     },
     "execution_count": 8,
     "metadata": {},
     "output_type": "execute_result"
    }
   ],
   "source": [
    "loan['response'].head()"
   ]
  },
  {
   "cell_type": "code",
   "execution_count": 9,
   "metadata": {},
   "outputs": [
    {
     "data": {
      "text/plain": [
       "0    36548\n",
       "1     4640\n",
       "Name: response, dtype: int64"
      ]
     },
     "execution_count": 9,
     "metadata": {},
     "output_type": "execute_result"
    }
   ],
   "source": [
    "loan['response'].value_counts()"
   ]
  },
  {
   "cell_type": "code",
   "execution_count": 10,
   "metadata": {},
   "outputs": [],
   "source": [
    "# Copy the dataset into a back up dataframe for future use\n",
    "\n",
    "loan_copy = loan"
   ]
  },
  {
   "cell_type": "code",
   "execution_count": 11,
   "metadata": {},
   "outputs": [
    {
     "data": {
      "text/plain": [
       "11.27"
      ]
     },
     "execution_count": 11,
     "metadata": {},
     "output_type": "execute_result"
    }
   ],
   "source": [
    "# Determine the percentage of people who have bought the investment product, that is those who have the response varibale as 1\n",
    "\n",
    "100*(loan['response'].sum()/loan['response'].count()).round(4)"
   ]
  },
  {
   "cell_type": "markdown",
   "metadata": {},
   "source": [
    "### Exploratory Data Analysis\n",
    "\n",
    "Now, we will do Exploratory Data Analysis on individual features and look for patterns."
   ]
  },
  {
   "cell_type": "markdown",
   "metadata": {},
   "source": [
    "First, we will look at the client data.\n",
    "\n",
    "- Age\n",
    "- Job : type of job\n",
    "- Marital : marital status\n",
    "- Education\n",
    "- Default: has credit in default?\n",
    "- Housing: has housing loan?\n",
    "- Loan: has personal loan?\n",
    "\n",
    "#### Age"
   ]
  },
  {
   "cell_type": "code",
   "execution_count": 12,
   "metadata": {},
   "outputs": [
    {
     "data": {
      "image/png": "[encoded data removed]",
      "text/plain": [
       "<Figure size 432x288 with 1 Axes>"
      ]
     },
     "metadata": {
      "needs_background": "light"
     },
     "output_type": "display_data"
    }
   ],
   "source": [
    "sns.boxplot(x='age', data=loan)\n",
    "plt.show()"
   ]
  },
  {
   "cell_type": "code",
   "execution_count": 13,
   "metadata": {},
   "outputs": [],
   "source": [
    "# Since there are a fair few data entries with age > 71, we will club all of those ages at 71 (since we can assume \n",
    "# that the behaviour will not change significantly with age at age above 70)\n",
    "\n",
    "loan['age'][loan['age']>71] =71"
   ]
  },
  {
   "cell_type": "code",
   "execution_count": 14,
   "metadata": {},
   "outputs": [
    {
     "data": {
      "image/png": "[encoded data removed]",
      "text/plain": [
       "<Figure size 432x288 with 1 Axes>"
      ]
     },
     "metadata": {
      "needs_background": "light"
     },
     "output_type": "display_data"
    }
   ],
   "source": [
    "sns.boxplot(x='age', data=loan)\n",
    "plt.show()"
   ]
  },
  {
   "cell_type": "code",
   "execution_count": 15,
   "metadata": {},
   "outputs": [],
   "source": [
    "# To understand the behaviour of people with age, we are going to bucket the age groups into brackets of 10 and \n",
    "# study the response rates\n",
    "\n",
    "bins = np.arange(10,loan['age'].max() + 10, 10)\n",
    "loan['age_bins'] = pd.cut(loan['age'], bins, include_lowest=True)\n",
    "\n",
    "# By heart this function pd.cut(),as it's a very useful function for splitting a particular numerical column of a dataset,based on the groups supplied in bins. "
   ]
  },
  {
   "cell_type": "code",
   "execution_count": 16,
   "metadata": {},
   "outputs": [],
   "source": [
    "No_of_prospect = loan.groupby('age_bins')['response'].count().reset_index(name = 'No.of_prospect')\n",
    "# It basically counts the number of clients contacted in each age_bin,and then reset_index(name = 'No.of_prospect') makes it in the form of a dataframe,with the name of the column as 'No.of_prospect'."
   ]
  },
  {
   "cell_type": "code",
   "execution_count": 17,
   "metadata": {},
   "outputs": [],
   "source": [
    "count_prospects = loan[loan['response']==1].groupby('age_bins')['response'].count().reset_index(name = 'count_prospects')\n",
    "# It basically counts the number of clients who responded in each age_bin,and then reset_index(name = 'count_prospects') makes it in the form of a dataframe,with the name of the column as 'count_prospects'."
   ]
  },
  {
   "cell_type": "code",
   "execution_count": 18,
   "metadata": {},
   "outputs": [],
   "source": [
    "agg_age = No_of_prospect.merge(count_prospects, on='age_bins')"
   ]
  },
  {
   "cell_type": "code",
   "execution_count": 19,
   "metadata": {},
   "outputs": [],
   "source": [
    "agg_age['response_rate'] = 100*(agg_age['count_prospects']/agg_age['No.of_prospect']).round(3)"
   ]
  },
  {
   "cell_type": "code",
   "execution_count": 20,
   "metadata": {},
   "outputs": [
    {
     "data": {
      "text/html": [
       "<div>\n",
       "<style scoped>\n",
       "    .dataframe tbody tr th:only-of-type {\n",
       "        vertical-align: middle;\n",
       "    }\n",
       "\n",
       "    .dataframe tbody tr th {\n",
       "        vertical-align: top;\n",
       "    }\n",
       "\n",
       "    .dataframe thead th {\n",
       "        text-align: right;\n",
       "    }\n",
       "</style>\n",
       "<table border=\"1\" class=\"dataframe\">\n",
       "  <thead>\n",
       "    <tr style=\"text-align: right;\">\n",
       "      <th></th>\n",
       "      <th>age_bins</th>\n",
       "      <th>No.of_prospect</th>\n",
       "      <th>count_prospects</th>\n",
       "      <th>response_rate</th>\n",
       "    </tr>\n",
       "  </thead>\n",
       "  <tbody>\n",
       "    <tr>\n",
       "      <td>0</td>\n",
       "      <td>(9.999, 20.0]</td>\n",
       "      <td>140</td>\n",
       "      <td>57</td>\n",
       "      <td>40.7</td>\n",
       "    </tr>\n",
       "    <tr>\n",
       "      <td>1</td>\n",
       "      <td>(20.0, 30.0]</td>\n",
       "      <td>7243</td>\n",
       "      <td>1067</td>\n",
       "      <td>14.7</td>\n",
       "    </tr>\n",
       "    <tr>\n",
       "      <td>2</td>\n",
       "      <td>(30.0, 40.0]</td>\n",
       "      <td>16385</td>\n",
       "      <td>1597</td>\n",
       "      <td>9.7</td>\n",
       "    </tr>\n",
       "    <tr>\n",
       "      <td>3</td>\n",
       "      <td>(40.0, 50.0]</td>\n",
       "      <td>10240</td>\n",
       "      <td>837</td>\n",
       "      <td>8.2</td>\n",
       "    </tr>\n",
       "    <tr>\n",
       "      <td>4</td>\n",
       "      <td>(50.0, 60.0]</td>\n",
       "      <td>6270</td>\n",
       "      <td>668</td>\n",
       "      <td>10.7</td>\n",
       "    </tr>\n",
       "    <tr>\n",
       "      <td>5</td>\n",
       "      <td>(60.0, 70.0]</td>\n",
       "      <td>488</td>\n",
       "      <td>212</td>\n",
       "      <td>43.4</td>\n",
       "    </tr>\n",
       "    <tr>\n",
       "      <td>6</td>\n",
       "      <td>(70.0, 80.0]</td>\n",
       "      <td>422</td>\n",
       "      <td>202</td>\n",
       "      <td>47.9</td>\n",
       "    </tr>\n",
       "  </tbody>\n",
       "</table>\n",
       "</div>"
      ],
      "text/plain": [
       "        age_bins  No.of_prospect  count_prospects  response_rate\n",
       "0  (9.999, 20.0]             140               57           40.7\n",
       "1   (20.0, 30.0]            7243             1067           14.7\n",
       "2   (30.0, 40.0]           16385             1597            9.7\n",
       "3   (40.0, 50.0]           10240              837            8.2\n",
       "4   (50.0, 60.0]            6270              668           10.7\n",
       "5   (60.0, 70.0]             488              212           43.4\n",
       "6   (70.0, 80.0]             422              202           47.9"
      ]
     },
     "execution_count": 20,
     "metadata": {},
     "output_type": "execute_result"
    }
   ],
   "source": [
    "agg_age"
   ]
  },
  {
   "cell_type": "code",
   "execution_count": 21,
   "metadata": {},
   "outputs": [
    {
     "data": {
      "image/png": "[encoded data removed]",
      "text/plain": [
       "<Figure size 432x288 with 1 Axes>"
      ]
     },
     "metadata": {
      "needs_background": "light"
     },
     "output_type": "display_data"
    }
   ],
   "source": [
    "ax = sns.barplot(x='age_bins', y='response_rate', data=agg_age)\n",
    "ax.set_xticklabels(ax.get_xticklabels(),rotation=30)\n",
    "plt.show()"
   ]
  },
  {
   "cell_type": "markdown",
   "metadata": {},
   "source": [
    "As we can see, the youngest and the eldest are the most likely to buy the investment product being offered by the bank."
   ]
  },
  {
   "cell_type": "code",
   "execution_count": 22,
   "metadata": {},
   "outputs": [
    {
     "data": {
      "text/html": [
       "<div>\n",
       "<style scoped>\n",
       "    .dataframe tbody tr th:only-of-type {\n",
       "        vertical-align: middle;\n",
       "    }\n",
       "\n",
       "    .dataframe tbody tr th {\n",
       "        vertical-align: top;\n",
       "    }\n",
       "\n",
       "    .dataframe thead th {\n",
       "        text-align: right;\n",
       "    }\n",
       "</style>\n",
       "<table border=\"1\" class=\"dataframe\">\n",
       "  <thead>\n",
       "    <tr style=\"text-align: right;\">\n",
       "      <th></th>\n",
       "      <th>age</th>\n",
       "      <th>job</th>\n",
       "      <th>marital</th>\n",
       "      <th>education</th>\n",
       "      <th>default</th>\n",
       "      <th>housing</th>\n",
       "      <th>loan</th>\n",
       "      <th>contact</th>\n",
       "      <th>month</th>\n",
       "      <th>day_of_week</th>\n",
       "      <th>...</th>\n",
       "      <th>pdays</th>\n",
       "      <th>previous</th>\n",
       "      <th>poutcome</th>\n",
       "      <th>emp.var.rate</th>\n",
       "      <th>cons.price.idx</th>\n",
       "      <th>cons.conf.idx</th>\n",
       "      <th>euribor3m</th>\n",
       "      <th>nr.employed</th>\n",
       "      <th>response</th>\n",
       "      <th>age_bins</th>\n",
       "    </tr>\n",
       "  </thead>\n",
       "  <tbody>\n",
       "    <tr>\n",
       "      <td>0</td>\n",
       "      <td>56</td>\n",
       "      <td>housemaid</td>\n",
       "      <td>married</td>\n",
       "      <td>basic.4y</td>\n",
       "      <td>no</td>\n",
       "      <td>no</td>\n",
       "      <td>no</td>\n",
       "      <td>telephone</td>\n",
       "      <td>may</td>\n",
       "      <td>mon</td>\n",
       "      <td>...</td>\n",
       "      <td>999</td>\n",
       "      <td>0</td>\n",
       "      <td>nonexistent</td>\n",
       "      <td>1.1</td>\n",
       "      <td>93.994</td>\n",
       "      <td>-36.4</td>\n",
       "      <td>4.857</td>\n",
       "      <td>5191.0</td>\n",
       "      <td>0</td>\n",
       "      <td>(50.0, 60.0]</td>\n",
       "    </tr>\n",
       "    <tr>\n",
       "      <td>1</td>\n",
       "      <td>57</td>\n",
       "      <td>services</td>\n",
       "      <td>married</td>\n",
       "      <td>high.school</td>\n",
       "      <td>unknown</td>\n",
       "      <td>no</td>\n",
       "      <td>no</td>\n",
       "      <td>telephone</td>\n",
       "      <td>may</td>\n",
       "      <td>mon</td>\n",
       "      <td>...</td>\n",
       "      <td>999</td>\n",
       "      <td>0</td>\n",
       "      <td>nonexistent</td>\n",
       "      <td>1.1</td>\n",
       "      <td>93.994</td>\n",
       "      <td>-36.4</td>\n",
       "      <td>4.857</td>\n",
       "      <td>5191.0</td>\n",
       "      <td>0</td>\n",
       "      <td>(50.0, 60.0]</td>\n",
       "    </tr>\n",
       "    <tr>\n",
       "      <td>2</td>\n",
       "      <td>37</td>\n",
       "      <td>services</td>\n",
       "      <td>married</td>\n",
       "      <td>high.school</td>\n",
       "      <td>no</td>\n",
       "      <td>yes</td>\n",
       "      <td>no</td>\n",
       "      <td>telephone</td>\n",
       "      <td>may</td>\n",
       "      <td>mon</td>\n",
       "      <td>...</td>\n",
       "      <td>999</td>\n",
       "      <td>0</td>\n",
       "      <td>nonexistent</td>\n",
       "      <td>1.1</td>\n",
       "      <td>93.994</td>\n",
       "      <td>-36.4</td>\n",
       "      <td>4.857</td>\n",
       "      <td>5191.0</td>\n",
       "      <td>0</td>\n",
       "      <td>(30.0, 40.0]</td>\n",
       "    </tr>\n",
       "    <tr>\n",
       "      <td>3</td>\n",
       "      <td>40</td>\n",
       "      <td>admin.</td>\n",
       "      <td>married</td>\n",
       "      <td>basic.6y</td>\n",
       "      <td>no</td>\n",
       "      <td>no</td>\n",
       "      <td>no</td>\n",
       "      <td>telephone</td>\n",
       "      <td>may</td>\n",
       "      <td>mon</td>\n",
       "      <td>...</td>\n",
       "      <td>999</td>\n",
       "      <td>0</td>\n",
       "      <td>nonexistent</td>\n",
       "      <td>1.1</td>\n",
       "      <td>93.994</td>\n",
       "      <td>-36.4</td>\n",
       "      <td>4.857</td>\n",
       "      <td>5191.0</td>\n",
       "      <td>0</td>\n",
       "      <td>(30.0, 40.0]</td>\n",
       "    </tr>\n",
       "    <tr>\n",
       "      <td>4</td>\n",
       "      <td>56</td>\n",
       "      <td>services</td>\n",
       "      <td>married</td>\n",
       "      <td>high.school</td>\n",
       "      <td>no</td>\n",
       "      <td>no</td>\n",
       "      <td>yes</td>\n",
       "      <td>telephone</td>\n",
       "      <td>may</td>\n",
       "      <td>mon</td>\n",
       "      <td>...</td>\n",
       "      <td>999</td>\n",
       "      <td>0</td>\n",
       "      <td>nonexistent</td>\n",
       "      <td>1.1</td>\n",
       "      <td>93.994</td>\n",
       "      <td>-36.4</td>\n",
       "      <td>4.857</td>\n",
       "      <td>5191.0</td>\n",
       "      <td>0</td>\n",
       "      <td>(50.0, 60.0]</td>\n",
       "    </tr>\n",
       "  </tbody>\n",
       "</table>\n",
       "<p>5 rows × 22 columns</p>\n",
       "</div>"
      ],
      "text/plain": [
       "   age        job  marital    education  default housing loan    contact  \\\n",
       "0   56  housemaid  married     basic.4y       no      no   no  telephone   \n",
       "1   57   services  married  high.school  unknown      no   no  telephone   \n",
       "2   37   services  married  high.school       no     yes   no  telephone   \n",
       "3   40     admin.  married     basic.6y       no      no   no  telephone   \n",
       "4   56   services  married  high.school       no      no  yes  telephone   \n",
       "\n",
       "  month day_of_week  ...  pdays  previous     poutcome  emp.var.rate  \\\n",
       "0   may         mon  ...    999         0  nonexistent           1.1   \n",
       "1   may         mon  ...    999         0  nonexistent           1.1   \n",
       "2   may         mon  ...    999         0  nonexistent           1.1   \n",
       "3   may         mon  ...    999         0  nonexistent           1.1   \n",
       "4   may         mon  ...    999         0  nonexistent           1.1   \n",
       "\n",
       "  cons.price.idx  cons.conf.idx  euribor3m  nr.employed  response  \\\n",
       "0         93.994          -36.4      4.857       5191.0         0   \n",
       "1         93.994          -36.4      4.857       5191.0         0   \n",
       "2         93.994          -36.4      4.857       5191.0         0   \n",
       "3         93.994          -36.4      4.857       5191.0         0   \n",
       "4         93.994          -36.4      4.857       5191.0         0   \n",
       "\n",
       "       age_bins  \n",
       "0  (50.0, 60.0]  \n",
       "1  (50.0, 60.0]  \n",
       "2  (30.0, 40.0]  \n",
       "3  (30.0, 40.0]  \n",
       "4  (50.0, 60.0]  \n",
       "\n",
       "[5 rows x 22 columns]"
      ]
     },
     "execution_count": 22,
     "metadata": {},
     "output_type": "execute_result"
    }
   ],
   "source": [
    "# Note that we have added a new column named age bucket to the table\n",
    "\n",
    "loan.head()"
   ]
  },
  {
   "cell_type": "markdown",
   "metadata": {},
   "source": [
    "Similarly, we will look at the relation between response rate and job. Note that since job is already a categorical variable, we don't need to bucket the data"
   ]
  },
  {
   "cell_type": "markdown",
   "metadata": {},
   "source": [
    "#### Job"
   ]
  },
  {
   "cell_type": "code",
   "execution_count": 23,
   "metadata": {},
   "outputs": [
    {
     "data": {
      "text/plain": [
       "admin.           10422\n",
       "blue-collar       9254\n",
       "technician        6743\n",
       "services          3969\n",
       "management        2924\n",
       "retired           1720\n",
       "entrepreneur      1456\n",
       "self-employed     1421\n",
       "housemaid         1060\n",
       "unemployed        1014\n",
       "student            875\n",
       "unknown            330\n",
       "Name: job, dtype: int64"
      ]
     },
     "execution_count": 23,
     "metadata": {},
     "output_type": "execute_result"
    }
   ],
   "source": [
    "loan['job'].value_counts()"
   ]
  },
  {
   "cell_type": "code",
   "execution_count": 24,
   "metadata": {},
   "outputs": [],
   "source": [
    "count_prospects_job = loan.groupby('job')['response'].sum().reset_index(name = 'count_prospects')"
   ]
  },
  {
   "cell_type": "code",
   "execution_count": 25,
   "metadata": {},
   "outputs": [],
   "source": [
    "No_of_prospect_job = loan.groupby('job')['response'].count().reset_index(name = 'No_of_prospects')"
   ]
  },
  {
   "cell_type": "code",
   "execution_count": 26,
   "metadata": {},
   "outputs": [],
   "source": [
    "agg_job = count_prospects_job.merge(No_of_prospect_job, on = 'job')"
   ]
  },
  {
   "cell_type": "code",
   "execution_count": 27,
   "metadata": {},
   "outputs": [],
   "source": [
    "agg_job['response_rate'] = 100*(agg_job['count_prospects']/agg_job['No_of_prospects']).round(4)"
   ]
  },
  {
   "cell_type": "code",
   "execution_count": 28,
   "metadata": {},
   "outputs": [
    {
     "data": {
      "text/html": [
       "<div>\n",
       "<style scoped>\n",
       "    .dataframe tbody tr th:only-of-type {\n",
       "        vertical-align: middle;\n",
       "    }\n",
       "\n",
       "    .dataframe tbody tr th {\n",
       "        vertical-align: top;\n",
       "    }\n",
       "\n",
       "    .dataframe thead th {\n",
       "        text-align: right;\n",
       "    }\n",
       "</style>\n",
       "<table border=\"1\" class=\"dataframe\">\n",
       "  <thead>\n",
       "    <tr style=\"text-align: right;\">\n",
       "      <th></th>\n",
       "      <th>job</th>\n",
       "      <th>count_prospects</th>\n",
       "      <th>No_of_prospects</th>\n",
       "      <th>response_rate</th>\n",
       "    </tr>\n",
       "  </thead>\n",
       "  <tbody>\n",
       "    <tr>\n",
       "      <td>0</td>\n",
       "      <td>admin.</td>\n",
       "      <td>1352</td>\n",
       "      <td>10422</td>\n",
       "      <td>12.97</td>\n",
       "    </tr>\n",
       "    <tr>\n",
       "      <td>1</td>\n",
       "      <td>blue-collar</td>\n",
       "      <td>638</td>\n",
       "      <td>9254</td>\n",
       "      <td>6.89</td>\n",
       "    </tr>\n",
       "    <tr>\n",
       "      <td>2</td>\n",
       "      <td>entrepreneur</td>\n",
       "      <td>124</td>\n",
       "      <td>1456</td>\n",
       "      <td>8.52</td>\n",
       "    </tr>\n",
       "    <tr>\n",
       "      <td>3</td>\n",
       "      <td>housemaid</td>\n",
       "      <td>106</td>\n",
       "      <td>1060</td>\n",
       "      <td>10.00</td>\n",
       "    </tr>\n",
       "    <tr>\n",
       "      <td>4</td>\n",
       "      <td>management</td>\n",
       "      <td>328</td>\n",
       "      <td>2924</td>\n",
       "      <td>11.22</td>\n",
       "    </tr>\n",
       "    <tr>\n",
       "      <td>5</td>\n",
       "      <td>retired</td>\n",
       "      <td>434</td>\n",
       "      <td>1720</td>\n",
       "      <td>25.23</td>\n",
       "    </tr>\n",
       "    <tr>\n",
       "      <td>6</td>\n",
       "      <td>self-employed</td>\n",
       "      <td>149</td>\n",
       "      <td>1421</td>\n",
       "      <td>10.49</td>\n",
       "    </tr>\n",
       "    <tr>\n",
       "      <td>7</td>\n",
       "      <td>services</td>\n",
       "      <td>323</td>\n",
       "      <td>3969</td>\n",
       "      <td>8.14</td>\n",
       "    </tr>\n",
       "    <tr>\n",
       "      <td>8</td>\n",
       "      <td>student</td>\n",
       "      <td>275</td>\n",
       "      <td>875</td>\n",
       "      <td>31.43</td>\n",
       "    </tr>\n",
       "    <tr>\n",
       "      <td>9</td>\n",
       "      <td>technician</td>\n",
       "      <td>730</td>\n",
       "      <td>6743</td>\n",
       "      <td>10.83</td>\n",
       "    </tr>\n",
       "    <tr>\n",
       "      <td>10</td>\n",
       "      <td>unemployed</td>\n",
       "      <td>144</td>\n",
       "      <td>1014</td>\n",
       "      <td>14.20</td>\n",
       "    </tr>\n",
       "    <tr>\n",
       "      <td>11</td>\n",
       "      <td>unknown</td>\n",
       "      <td>37</td>\n",
       "      <td>330</td>\n",
       "      <td>11.21</td>\n",
       "    </tr>\n",
       "  </tbody>\n",
       "</table>\n",
       "</div>"
      ],
      "text/plain": [
       "              job  count_prospects  No_of_prospects  response_rate\n",
       "0          admin.             1352            10422          12.97\n",
       "1     blue-collar              638             9254           6.89\n",
       "2    entrepreneur              124             1456           8.52\n",
       "3       housemaid              106             1060          10.00\n",
       "4      management              328             2924          11.22\n",
       "5         retired              434             1720          25.23\n",
       "6   self-employed              149             1421          10.49\n",
       "7        services              323             3969           8.14\n",
       "8         student              275              875          31.43\n",
       "9      technician              730             6743          10.83\n",
       "10     unemployed              144             1014          14.20\n",
       "11        unknown               37              330          11.21"
      ]
     },
     "execution_count": 28,
     "metadata": {},
     "output_type": "execute_result"
    }
   ],
   "source": [
    "agg_job"
   ]
  },
  {
   "cell_type": "code",
   "execution_count": 29,
   "metadata": {},
   "outputs": [
    {
     "data": {
      "image/png": "[encoded data removed]",
      "text/plain": [
       "<Figure size 432x288 with 1 Axes>"
      ]
     },
     "metadata": {
      "needs_background": "light"
     },
     "output_type": "display_data"
    }
   ],
   "source": [
    "ax = sns.barplot(x='job', y='response_rate', data=agg_job)\n",
    "ax.set_xticklabels(ax.get_xticklabels(),rotation=90)\n",
    "plt.show()"
   ]
  },
  {
   "cell_type": "markdown",
   "metadata": {},
   "source": [
    "We can draw similarities from the age response analysis where we found that the youngest and eldest were most likely to respond in a positive manner. It is rreiterated by the above analysis, where we notice that student and retired have the highest response rates."
   ]
  },
  {
   "cell_type": "markdown",
   "metadata": {},
   "source": [
    "#### Marital"
   ]
  },
  {
   "cell_type": "code",
   "execution_count": 30,
   "metadata": {},
   "outputs": [
    {
     "data": {
      "text/plain": [
       "married     24928\n",
       "single      11568\n",
       "divorced     4612\n",
       "unknown        80\n",
       "Name: marital, dtype: int64"
      ]
     },
     "execution_count": 30,
     "metadata": {},
     "output_type": "execute_result"
    }
   ],
   "source": [
    "loan['marital'].value_counts()"
   ]
  },
  {
   "cell_type": "markdown",
   "metadata": {},
   "source": [
    "Since there are 80 entries which list marital status as 'unknown', we will assign them to the biggest group, which is, 'married'."
   ]
  },
  {
   "cell_type": "code",
   "execution_count": 31,
   "metadata": {},
   "outputs": [],
   "source": [
    "loan.replace({'marital' : { 'unknown' : 'married'}}, inplace=True)"
   ]
  },
  {
   "cell_type": "code",
   "execution_count": 32,
   "metadata": {},
   "outputs": [],
   "source": [
    "count_prospects_marital = loan.groupby('marital')['response'].sum().reset_index(name = 'count_prospects')"
   ]
  },
  {
   "cell_type": "code",
   "execution_count": 33,
   "metadata": {},
   "outputs": [],
   "source": [
    "No_of_prospect_job = loan.groupby('marital')['response'].count().reset_index(name = 'No_of_prospects')"
   ]
  },
  {
   "cell_type": "code",
   "execution_count": 34,
   "metadata": {},
   "outputs": [],
   "source": [
    "agg_marital = count_prospects_marital.merge(No_of_prospect_job, on = 'marital')"
   ]
  },
  {
   "cell_type": "code",
   "execution_count": 35,
   "metadata": {},
   "outputs": [],
   "source": [
    "agg_marital['response_rate'] = 100*(agg_marital['count_prospects']/agg_marital['No_of_prospects']).round(4)"
   ]
  },
  {
   "cell_type": "code",
   "execution_count": 36,
   "metadata": {},
   "outputs": [
    {
     "data": {
      "text/html": [
       "<div>\n",
       "<style scoped>\n",
       "    .dataframe tbody tr th:only-of-type {\n",
       "        vertical-align: middle;\n",
       "    }\n",
       "\n",
       "    .dataframe tbody tr th {\n",
       "        vertical-align: top;\n",
       "    }\n",
       "\n",
       "    .dataframe thead th {\n",
       "        text-align: right;\n",
       "    }\n",
       "</style>\n",
       "<table border=\"1\" class=\"dataframe\">\n",
       "  <thead>\n",
       "    <tr style=\"text-align: right;\">\n",
       "      <th></th>\n",
       "      <th>marital</th>\n",
       "      <th>count_prospects</th>\n",
       "      <th>No_of_prospects</th>\n",
       "      <th>response_rate</th>\n",
       "    </tr>\n",
       "  </thead>\n",
       "  <tbody>\n",
       "    <tr>\n",
       "      <td>0</td>\n",
       "      <td>divorced</td>\n",
       "      <td>476</td>\n",
       "      <td>4612</td>\n",
       "      <td>10.32</td>\n",
       "    </tr>\n",
       "    <tr>\n",
       "      <td>1</td>\n",
       "      <td>married</td>\n",
       "      <td>2544</td>\n",
       "      <td>25008</td>\n",
       "      <td>10.17</td>\n",
       "    </tr>\n",
       "    <tr>\n",
       "      <td>2</td>\n",
       "      <td>single</td>\n",
       "      <td>1620</td>\n",
       "      <td>11568</td>\n",
       "      <td>14.00</td>\n",
       "    </tr>\n",
       "  </tbody>\n",
       "</table>\n",
       "</div>"
      ],
      "text/plain": [
       "    marital  count_prospects  No_of_prospects  response_rate\n",
       "0  divorced              476             4612          10.32\n",
       "1   married             2544            25008          10.17\n",
       "2    single             1620            11568          14.00"
      ]
     },
     "execution_count": 36,
     "metadata": {},
     "output_type": "execute_result"
    }
   ],
   "source": [
    "agg_marital"
   ]
  },
  {
   "cell_type": "code",
   "execution_count": 37,
   "metadata": {},
   "outputs": [
    {
     "data": {
      "image/png": "[encoded data removed]",
      "text/plain": [
       "<Figure size 432x288 with 1 Axes>"
      ]
     },
     "metadata": {
      "needs_background": "light"
     },
     "output_type": "display_data"
    }
   ],
   "source": [
    "ax = sns.barplot(x='marital', y='response_rate', data=agg_marital)\n",
    "ax.set_xticklabels(ax.get_xticklabels(),rotation=0)\n",
    "plt.show()"
   ]
  },
  {
   "cell_type": "markdown",
   "metadata": {},
   "source": [
    "You may note that there is a slight uptick in response rate for single customers, this can be attributed in part to the fact that people under the age of 20 have a very high response rate. "
   ]
  },
  {
   "cell_type": "markdown",
   "metadata": {},
   "source": [
    "#### Education"
   ]
  },
  {
   "cell_type": "code",
   "execution_count": 38,
   "metadata": {},
   "outputs": [
    {
     "data": {
      "text/plain": [
       "university.degree      12168\n",
       "high.school             9515\n",
       "basic.9y                6045\n",
       "professional.course     5243\n",
       "basic.4y                4176\n",
       "basic.6y                2292\n",
       "unknown                 1731\n",
       "illiterate                18\n",
       "Name: education, dtype: int64"
      ]
     },
     "execution_count": 38,
     "metadata": {},
     "output_type": "execute_result"
    }
   ],
   "source": [
    "loan['education'].value_counts()"
   ]
  },
  {
   "cell_type": "markdown",
   "metadata": {},
   "source": [
    "To simplify the problem, we are going to convert the educational qualifications to simple buckets of primary educations, secondary education, tertiary education and professional courses. Also note that there are 18 entries listing the educational status as illiterate. Since the closest group to them is primary education, we are going to assign all entries with educational status as illiterate to primary education."
   ]
  },
  {
   "cell_type": "code",
   "execution_count": 39,
   "metadata": {},
   "outputs": [],
   "source": [
    "loan.replace({'education' : { 'basic.9y' : 'Primary_Education', 'basic.4y' : 'Primary_Education','basic.6y' : 'Primary_Education','illiterate' : 'Primary_Education',\n",
    "                             'high.school' : 'Secondary_Education', 'university.degree' : 'Tertiary_Education' }}, inplace=True)"
   ]
  },
  {
   "cell_type": "code",
   "execution_count": 40,
   "metadata": {},
   "outputs": [
    {
     "data": {
      "text/plain": [
       "Primary_Education      12531\n",
       "Tertiary_Education     12168\n",
       "Secondary_Education     9515\n",
       "professional.course     5243\n",
       "unknown                 1731\n",
       "Name: education, dtype: int64"
      ]
     },
     "execution_count": 40,
     "metadata": {},
     "output_type": "execute_result"
    }
   ],
   "source": [
    "loan['education'].value_counts()"
   ]
  },
  {
   "cell_type": "code",
   "execution_count": 41,
   "metadata": {},
   "outputs": [],
   "source": [
    "count_prospects_education = loan.groupby('education')['response'].sum().reset_index(name = 'count_prospects')"
   ]
  },
  {
   "cell_type": "code",
   "execution_count": 42,
   "metadata": {},
   "outputs": [],
   "source": [
    "No_of_prospect_education = loan.groupby('education')['response'].count().reset_index(name = 'No_of_prospects')"
   ]
  },
  {
   "cell_type": "code",
   "execution_count": 43,
   "metadata": {},
   "outputs": [],
   "source": [
    "agg_education = count_prospects_education.merge(No_of_prospect_education, on = 'education')"
   ]
  },
  {
   "cell_type": "code",
   "execution_count": 44,
   "metadata": {},
   "outputs": [],
   "source": [
    "agg_education['response_rate'] = 100*(agg_education['count_prospects']/agg_education['No_of_prospects']).round(4)"
   ]
  },
  {
   "cell_type": "code",
   "execution_count": 45,
   "metadata": {},
   "outputs": [
    {
     "data": {
      "text/html": [
       "<div>\n",
       "<style scoped>\n",
       "    .dataframe tbody tr th:only-of-type {\n",
       "        vertical-align: middle;\n",
       "    }\n",
       "\n",
       "    .dataframe tbody tr th {\n",
       "        vertical-align: top;\n",
       "    }\n",
       "\n",
       "    .dataframe thead th {\n",
       "        text-align: right;\n",
       "    }\n",
       "</style>\n",
       "<table border=\"1\" class=\"dataframe\">\n",
       "  <thead>\n",
       "    <tr style=\"text-align: right;\">\n",
       "      <th></th>\n",
       "      <th>education</th>\n",
       "      <th>count_prospects</th>\n",
       "      <th>No_of_prospects</th>\n",
       "      <th>response_rate</th>\n",
       "    </tr>\n",
       "  </thead>\n",
       "  <tbody>\n",
       "    <tr>\n",
       "      <td>0</td>\n",
       "      <td>Primary_Education</td>\n",
       "      <td>1093</td>\n",
       "      <td>12531</td>\n",
       "      <td>8.72</td>\n",
       "    </tr>\n",
       "    <tr>\n",
       "      <td>1</td>\n",
       "      <td>Secondary_Education</td>\n",
       "      <td>1031</td>\n",
       "      <td>9515</td>\n",
       "      <td>10.84</td>\n",
       "    </tr>\n",
       "    <tr>\n",
       "      <td>2</td>\n",
       "      <td>Tertiary_Education</td>\n",
       "      <td>1670</td>\n",
       "      <td>12168</td>\n",
       "      <td>13.72</td>\n",
       "    </tr>\n",
       "    <tr>\n",
       "      <td>3</td>\n",
       "      <td>professional.course</td>\n",
       "      <td>595</td>\n",
       "      <td>5243</td>\n",
       "      <td>11.35</td>\n",
       "    </tr>\n",
       "    <tr>\n",
       "      <td>4</td>\n",
       "      <td>unknown</td>\n",
       "      <td>251</td>\n",
       "      <td>1731</td>\n",
       "      <td>14.50</td>\n",
       "    </tr>\n",
       "  </tbody>\n",
       "</table>\n",
       "</div>"
      ],
      "text/plain": [
       "             education  count_prospects  No_of_prospects  response_rate\n",
       "0    Primary_Education             1093            12531           8.72\n",
       "1  Secondary_Education             1031             9515          10.84\n",
       "2   Tertiary_Education             1670            12168          13.72\n",
       "3  professional.course              595             5243          11.35\n",
       "4              unknown              251             1731          14.50"
      ]
     },
     "execution_count": 45,
     "metadata": {},
     "output_type": "execute_result"
    }
   ],
   "source": [
    "agg_education"
   ]
  },
  {
   "cell_type": "code",
   "execution_count": 46,
   "metadata": {},
   "outputs": [
    {
     "data": {
      "image/png": "[encoded data removed]",
      "text/plain": [
       "<Figure size 432x288 with 1 Axes>"
      ]
     },
     "metadata": {
      "needs_background": "light"
     },
     "output_type": "display_data"
    }
   ],
   "source": [
    "ax = sns.barplot(x='education', y='response_rate', data=agg_education)\n",
    "ax.set_xticklabels(ax.get_xticklabels(),rotation=30)\n",
    "plt.show()"
   ]
  },
  {
   "cell_type": "markdown",
   "metadata": {},
   "source": [
    "You can note that the response rate is lowest for people with highest education qualification as primary education, which may be attributed, in part, to lack of awareness and a lack of trust between the bank and the customer. It is the highest for people with tertiary education."
   ]
  },
  {
   "cell_type": "markdown",
   "metadata": {},
   "source": [
    "#### Previous Default"
   ]
  },
  {
   "cell_type": "code",
   "execution_count": 47,
   "metadata": {},
   "outputs": [
    {
     "data": {
      "text/plain": [
       "no         32588\n",
       "unknown     8597\n",
       "yes            3\n",
       "Name: default, dtype: int64"
      ]
     },
     "execution_count": 47,
     "metadata": {},
     "output_type": "execute_result"
    }
   ],
   "source": [
    "loan['default'].value_counts()"
   ]
  },
  {
   "cell_type": "code",
   "execution_count": 48,
   "metadata": {},
   "outputs": [],
   "source": [
    "count_prospects_default = loan.groupby('default')['response'].sum().reset_index(name = 'count_prospects')"
   ]
  },
  {
   "cell_type": "code",
   "execution_count": 49,
   "metadata": {},
   "outputs": [],
   "source": [
    "No_of_prospect_default = loan.groupby('default')['response'].count().reset_index(name = 'No_of_prospects')"
   ]
  },
  {
   "cell_type": "code",
   "execution_count": 50,
   "metadata": {},
   "outputs": [],
   "source": [
    "agg_default = count_prospects_default.merge(No_of_prospect_default, on = 'default')"
   ]
  },
  {
   "cell_type": "code",
   "execution_count": 51,
   "metadata": {},
   "outputs": [],
   "source": [
    "agg_default['response_rate'] = 100*(agg_default['count_prospects']/agg_default['No_of_prospects']).round(4)"
   ]
  },
  {
   "cell_type": "code",
   "execution_count": 52,
   "metadata": {},
   "outputs": [
    {
     "data": {
      "text/html": [
       "<div>\n",
       "<style scoped>\n",
       "    .dataframe tbody tr th:only-of-type {\n",
       "        vertical-align: middle;\n",
       "    }\n",
       "\n",
       "    .dataframe tbody tr th {\n",
       "        vertical-align: top;\n",
       "    }\n",
       "\n",
       "    .dataframe thead th {\n",
       "        text-align: right;\n",
       "    }\n",
       "</style>\n",
       "<table border=\"1\" class=\"dataframe\">\n",
       "  <thead>\n",
       "    <tr style=\"text-align: right;\">\n",
       "      <th></th>\n",
       "      <th>default</th>\n",
       "      <th>count_prospects</th>\n",
       "      <th>No_of_prospects</th>\n",
       "      <th>response_rate</th>\n",
       "    </tr>\n",
       "  </thead>\n",
       "  <tbody>\n",
       "    <tr>\n",
       "      <td>0</td>\n",
       "      <td>no</td>\n",
       "      <td>4197</td>\n",
       "      <td>32588</td>\n",
       "      <td>12.88</td>\n",
       "    </tr>\n",
       "    <tr>\n",
       "      <td>1</td>\n",
       "      <td>unknown</td>\n",
       "      <td>443</td>\n",
       "      <td>8597</td>\n",
       "      <td>5.15</td>\n",
       "    </tr>\n",
       "    <tr>\n",
       "      <td>2</td>\n",
       "      <td>yes</td>\n",
       "      <td>0</td>\n",
       "      <td>3</td>\n",
       "      <td>0.00</td>\n",
       "    </tr>\n",
       "  </tbody>\n",
       "</table>\n",
       "</div>"
      ],
      "text/plain": [
       "   default  count_prospects  No_of_prospects  response_rate\n",
       "0       no             4197            32588          12.88\n",
       "1  unknown              443             8597           5.15\n",
       "2      yes                0                3           0.00"
      ]
     },
     "execution_count": 52,
     "metadata": {},
     "output_type": "execute_result"
    }
   ],
   "source": [
    "agg_default"
   ]
  },
  {
   "cell_type": "code",
   "execution_count": 53,
   "metadata": {},
   "outputs": [
    {
     "data": {
      "image/png": "[encoded data removed]",
      "text/plain": [
       "<Figure size 432x288 with 1 Axes>"
      ]
     },
     "metadata": {
      "needs_background": "light"
     },
     "output_type": "display_data"
    }
   ],
   "source": [
    "ax = sns.barplot(x='default', y='response_rate', data=agg_default)\n",
    "ax.set_xticklabels(ax.get_xticklabels(),rotation=0)\n",
    "plt.show()"
   ]
  },
  {
   "cell_type": "markdown",
   "metadata": {},
   "source": [
    "#### Housing"
   ]
  },
  {
   "cell_type": "code",
   "execution_count": 54,
   "metadata": {},
   "outputs": [
    {
     "data": {
      "text/plain": [
       "yes        21576\n",
       "no         18622\n",
       "unknown      990\n",
       "Name: housing, dtype: int64"
      ]
     },
     "execution_count": 54,
     "metadata": {},
     "output_type": "execute_result"
    }
   ],
   "source": [
    "loan['housing'].value_counts()"
   ]
  },
  {
   "cell_type": "code",
   "execution_count": 55,
   "metadata": {},
   "outputs": [],
   "source": [
    "count_prospects_housing = loan.groupby('housing')['response'].sum().reset_index(name = 'count_prospects')"
   ]
  },
  {
   "cell_type": "code",
   "execution_count": 56,
   "metadata": {},
   "outputs": [],
   "source": [
    "No_of_prospect_housing = loan.groupby('housing')['response'].count().reset_index(name = 'No_of_prospects')"
   ]
  },
  {
   "cell_type": "code",
   "execution_count": 57,
   "metadata": {},
   "outputs": [],
   "source": [
    "agg_housing = count_prospects_housing.merge(No_of_prospect_housing, on = 'housing')"
   ]
  },
  {
   "cell_type": "code",
   "execution_count": 58,
   "metadata": {},
   "outputs": [],
   "source": [
    "agg_housing['response_rate'] = 100*(agg_housing['count_prospects']/agg_housing['No_of_prospects']).round(4)"
   ]
  },
  {
   "cell_type": "code",
   "execution_count": 59,
   "metadata": {},
   "outputs": [
    {
     "data": {
      "text/html": [
       "<div>\n",
       "<style scoped>\n",
       "    .dataframe tbody tr th:only-of-type {\n",
       "        vertical-align: middle;\n",
       "    }\n",
       "\n",
       "    .dataframe tbody tr th {\n",
       "        vertical-align: top;\n",
       "    }\n",
       "\n",
       "    .dataframe thead th {\n",
       "        text-align: right;\n",
       "    }\n",
       "</style>\n",
       "<table border=\"1\" class=\"dataframe\">\n",
       "  <thead>\n",
       "    <tr style=\"text-align: right;\">\n",
       "      <th></th>\n",
       "      <th>housing</th>\n",
       "      <th>count_prospects</th>\n",
       "      <th>No_of_prospects</th>\n",
       "      <th>response_rate</th>\n",
       "    </tr>\n",
       "  </thead>\n",
       "  <tbody>\n",
       "    <tr>\n",
       "      <td>0</td>\n",
       "      <td>no</td>\n",
       "      <td>2026</td>\n",
       "      <td>18622</td>\n",
       "      <td>10.88</td>\n",
       "    </tr>\n",
       "    <tr>\n",
       "      <td>1</td>\n",
       "      <td>unknown</td>\n",
       "      <td>107</td>\n",
       "      <td>990</td>\n",
       "      <td>10.81</td>\n",
       "    </tr>\n",
       "    <tr>\n",
       "      <td>2</td>\n",
       "      <td>yes</td>\n",
       "      <td>2507</td>\n",
       "      <td>21576</td>\n",
       "      <td>11.62</td>\n",
       "    </tr>\n",
       "  </tbody>\n",
       "</table>\n",
       "</div>"
      ],
      "text/plain": [
       "   housing  count_prospects  No_of_prospects  response_rate\n",
       "0       no             2026            18622          10.88\n",
       "1  unknown              107              990          10.81\n",
       "2      yes             2507            21576          11.62"
      ]
     },
     "execution_count": 59,
     "metadata": {},
     "output_type": "execute_result"
    }
   ],
   "source": [
    "agg_housing"
   ]
  },
  {
   "cell_type": "code",
   "execution_count": 60,
   "metadata": {},
   "outputs": [
    {
     "data": {
      "image/png": "[encoded data removed]",
      "text/plain": [
       "<Figure size 432x288 with 1 Axes>"
      ]
     },
     "metadata": {
      "needs_background": "light"
     },
     "output_type": "display_data"
    }
   ],
   "source": [
    "ax = sns.barplot(x='housing', y='response_rate', data=agg_housing)\n",
    "ax.set_xticklabels(ax.get_xticklabels(),rotation=0)\n",
    "plt.show()"
   ]
  },
  {
   "cell_type": "markdown",
   "metadata": {},
   "source": [
    "You can see that there is a slight uptick in the response rate for people with housing, though it is probably not very significant"
   ]
  },
  {
   "cell_type": "markdown",
   "metadata": {},
   "source": [
    "#### Loan"
   ]
  },
  {
   "cell_type": "code",
   "execution_count": 61,
   "metadata": {},
   "outputs": [
    {
     "data": {
      "text/plain": [
       "no         33950\n",
       "yes         6248\n",
       "unknown      990\n",
       "Name: loan, dtype: int64"
      ]
     },
     "execution_count": 61,
     "metadata": {},
     "output_type": "execute_result"
    }
   ],
   "source": [
    "loan['loan'].value_counts()"
   ]
  },
  {
   "cell_type": "code",
   "execution_count": 62,
   "metadata": {},
   "outputs": [],
   "source": [
    "count_prospects_loan = loan.groupby('loan')['response'].sum().reset_index(name = 'count_prospects')"
   ]
  },
  {
   "cell_type": "code",
   "execution_count": 63,
   "metadata": {},
   "outputs": [],
   "source": [
    "No_of_prospect_loan = loan.groupby('loan')['response'].count().reset_index(name = 'No_of_prospects')"
   ]
  },
  {
   "cell_type": "code",
   "execution_count": 64,
   "metadata": {},
   "outputs": [],
   "source": [
    "agg_loan = count_prospects_loan.merge(No_of_prospect_loan, on = 'loan')"
   ]
  },
  {
   "cell_type": "code",
   "execution_count": 65,
   "metadata": {},
   "outputs": [],
   "source": [
    "agg_loan['response_rate'] = 100*(agg_loan['count_prospects']/agg_loan['No_of_prospects']).round(4)"
   ]
  },
  {
   "cell_type": "code",
   "execution_count": 66,
   "metadata": {},
   "outputs": [
    {
     "data": {
      "text/html": [
       "<div>\n",
       "<style scoped>\n",
       "    .dataframe tbody tr th:only-of-type {\n",
       "        vertical-align: middle;\n",
       "    }\n",
       "\n",
       "    .dataframe tbody tr th {\n",
       "        vertical-align: top;\n",
       "    }\n",
       "\n",
       "    .dataframe thead th {\n",
       "        text-align: right;\n",
       "    }\n",
       "</style>\n",
       "<table border=\"1\" class=\"dataframe\">\n",
       "  <thead>\n",
       "    <tr style=\"text-align: right;\">\n",
       "      <th></th>\n",
       "      <th>loan</th>\n",
       "      <th>count_prospects</th>\n",
       "      <th>No_of_prospects</th>\n",
       "      <th>response_rate</th>\n",
       "    </tr>\n",
       "  </thead>\n",
       "  <tbody>\n",
       "    <tr>\n",
       "      <td>0</td>\n",
       "      <td>no</td>\n",
       "      <td>3850</td>\n",
       "      <td>33950</td>\n",
       "      <td>11.34</td>\n",
       "    </tr>\n",
       "    <tr>\n",
       "      <td>1</td>\n",
       "      <td>unknown</td>\n",
       "      <td>107</td>\n",
       "      <td>990</td>\n",
       "      <td>10.81</td>\n",
       "    </tr>\n",
       "    <tr>\n",
       "      <td>2</td>\n",
       "      <td>yes</td>\n",
       "      <td>683</td>\n",
       "      <td>6248</td>\n",
       "      <td>10.93</td>\n",
       "    </tr>\n",
       "  </tbody>\n",
       "</table>\n",
       "</div>"
      ],
      "text/plain": [
       "      loan  count_prospects  No_of_prospects  response_rate\n",
       "0       no             3850            33950          11.34\n",
       "1  unknown              107              990          10.81\n",
       "2      yes              683             6248          10.93"
      ]
     },
     "execution_count": 66,
     "metadata": {},
     "output_type": "execute_result"
    }
   ],
   "source": [
    "agg_loan"
   ]
  },
  {
   "cell_type": "code",
   "execution_count": 67,
   "metadata": {},
   "outputs": [
    {
     "data": {
      "image/png": "[encoded data removed]",
      "text/plain": [
       "<Figure size 432x288 with 1 Axes>"
      ]
     },
     "metadata": {
      "needs_background": "light"
     },
     "output_type": "display_data"
    }
   ],
   "source": [
    "ax = sns.barplot(x='loan', y='response_rate', data=agg_loan)\n",
    "ax.set_xticklabels(ax.get_xticklabels(),rotation=0)\n",
    "plt.show()"
   ]
  },
  {
   "cell_type": "markdown",
   "metadata": {},
   "source": [
    "As you can see there seems to be very little correlation between a prospect having a personal loan and the likelihood of him/her responding positively to the investment product"
   ]
  },
  {
   "cell_type": "markdown",
   "metadata": {},
   "source": [
    "Now that we have had a look at the client data, we will move to the last contact information.\n",
    "\n",
    "There are four features in the given dataset which cover this information. (Refer to the data dictionary for the same)\n",
    "\n",
    "- Contact: contact communication type\n",
    "- Month: last contact month of year\n",
    "- Day_of_week: last contact day of the week\n",
    "- Duration: last contact duration, in seconds \n",
    "\n",
    "Please note that the attribute, duration highly affects the output target (e.g., if duration=0 then y='no'). Yet, the duration is not known before a call is performed. Also, after the end of the call y is obviously known. Thus, this input should only be included for benchmark purposes and should be discarded if the intention is to have a realistic predictive model."
   ]
  },
  {
   "cell_type": "markdown",
   "metadata": {},
   "source": [
    "#### Contact"
   ]
  },
  {
   "cell_type": "code",
   "execution_count": 68,
   "metadata": {},
   "outputs": [
    {
     "data": {
      "text/plain": [
       "cellular     26144\n",
       "telephone    15044\n",
       "Name: contact, dtype: int64"
      ]
     },
     "execution_count": 68,
     "metadata": {},
     "output_type": "execute_result"
    }
   ],
   "source": [
    "loan['contact'].value_counts()"
   ]
  },
  {
   "cell_type": "code",
   "execution_count": 69,
   "metadata": {},
   "outputs": [],
   "source": [
    "count_prospects_contact = loan.groupby('contact')['response'].sum().reset_index(name = 'count_prospects')"
   ]
  },
  {
   "cell_type": "code",
   "execution_count": 70,
   "metadata": {},
   "outputs": [],
   "source": [
    "No_of_prospect_contact = loan.groupby('contact')['response'].count().reset_index(name = 'No_of_prospects')"
   ]
  },
  {
   "cell_type": "code",
   "execution_count": 71,
   "metadata": {},
   "outputs": [],
   "source": [
    "agg_contact = count_prospects_contact.merge(No_of_prospect_contact, on = 'contact')"
   ]
  },
  {
   "cell_type": "code",
   "execution_count": 72,
   "metadata": {},
   "outputs": [],
   "source": [
    "agg_contact['response_rate'] = 100*(agg_contact['count_prospects']/agg_contact['No_of_prospects']).round(4)"
   ]
  },
  {
   "cell_type": "code",
   "execution_count": 73,
   "metadata": {},
   "outputs": [
    {
     "data": {
      "text/html": [
       "<div>\n",
       "<style scoped>\n",
       "    .dataframe tbody tr th:only-of-type {\n",
       "        vertical-align: middle;\n",
       "    }\n",
       "\n",
       "    .dataframe tbody tr th {\n",
       "        vertical-align: top;\n",
       "    }\n",
       "\n",
       "    .dataframe thead th {\n",
       "        text-align: right;\n",
       "    }\n",
       "</style>\n",
       "<table border=\"1\" class=\"dataframe\">\n",
       "  <thead>\n",
       "    <tr style=\"text-align: right;\">\n",
       "      <th></th>\n",
       "      <th>contact</th>\n",
       "      <th>count_prospects</th>\n",
       "      <th>No_of_prospects</th>\n",
       "      <th>response_rate</th>\n",
       "    </tr>\n",
       "  </thead>\n",
       "  <tbody>\n",
       "    <tr>\n",
       "      <td>0</td>\n",
       "      <td>cellular</td>\n",
       "      <td>3853</td>\n",
       "      <td>26144</td>\n",
       "      <td>14.74</td>\n",
       "    </tr>\n",
       "    <tr>\n",
       "      <td>1</td>\n",
       "      <td>telephone</td>\n",
       "      <td>787</td>\n",
       "      <td>15044</td>\n",
       "      <td>5.23</td>\n",
       "    </tr>\n",
       "  </tbody>\n",
       "</table>\n",
       "</div>"
      ],
      "text/plain": [
       "     contact  count_prospects  No_of_prospects  response_rate\n",
       "0   cellular             3853            26144          14.74\n",
       "1  telephone              787            15044           5.23"
      ]
     },
     "execution_count": 73,
     "metadata": {},
     "output_type": "execute_result"
    }
   ],
   "source": [
    "agg_contact"
   ]
  },
  {
   "cell_type": "code",
   "execution_count": 74,
   "metadata": {},
   "outputs": [
    {
     "data": {
      "image/png": "[encoded data removed]",
      "text/plain": [
       "<Figure size 432x288 with 1 Axes>"
      ]
     },
     "metadata": {
      "needs_background": "light"
     },
     "output_type": "display_data"
    }
   ],
   "source": [
    "ax = sns.barplot(x='contact', y='response_rate', data=agg_contact)\n",
    "ax.set_xticklabels(ax.get_xticklabels(),rotation=0)\n",
    "plt.show()"
   ]
  },
  {
   "cell_type": "markdown",
   "metadata": {},
   "source": [
    "You can see that the prospective customers contacted through cellular medium are significantly ore likely to opt in to the investment scheme compared to customers contacted through telephonic medium."
   ]
  },
  {
   "cell_type": "markdown",
   "metadata": {},
   "source": [
    "#### Month"
   ]
  },
  {
   "cell_type": "code",
   "execution_count": 75,
   "metadata": {},
   "outputs": [
    {
     "data": {
      "text/plain": [
       "may    13769\n",
       "jul     7174\n",
       "aug     6178\n",
       "jun     5318\n",
       "nov     4101\n",
       "apr     2632\n",
       "oct      718\n",
       "sep      570\n",
       "mar      546\n",
       "dec      182\n",
       "Name: month, dtype: int64"
      ]
     },
     "execution_count": 75,
     "metadata": {},
     "output_type": "execute_result"
    }
   ],
   "source": [
    "loan['month'].value_counts()"
   ]
  },
  {
   "cell_type": "code",
   "execution_count": 76,
   "metadata": {},
   "outputs": [],
   "source": [
    "count_prospects_month = loan.groupby('month')['response'].sum().reset_index(name = 'count_prospects')"
   ]
  },
  {
   "cell_type": "code",
   "execution_count": 77,
   "metadata": {},
   "outputs": [],
   "source": [
    "No_of_prospect_month = loan.groupby('month')['response'].count().reset_index(name = 'No_of_prospects')"
   ]
  },
  {
   "cell_type": "code",
   "execution_count": 78,
   "metadata": {},
   "outputs": [],
   "source": [
    "agg_month = count_prospects_month.merge(No_of_prospect_month, on = 'month')"
   ]
  },
  {
   "cell_type": "code",
   "execution_count": 79,
   "metadata": {},
   "outputs": [],
   "source": [
    "agg_month['response_rate'] = 100*(agg_month['count_prospects']/agg_month['No_of_prospects']).round(4)"
   ]
  },
  {
   "cell_type": "code",
   "execution_count": 80,
   "metadata": {},
   "outputs": [
    {
     "data": {
      "text/html": [
       "<div>\n",
       "<style scoped>\n",
       "    .dataframe tbody tr th:only-of-type {\n",
       "        vertical-align: middle;\n",
       "    }\n",
       "\n",
       "    .dataframe tbody tr th {\n",
       "        vertical-align: top;\n",
       "    }\n",
       "\n",
       "    .dataframe thead th {\n",
       "        text-align: right;\n",
       "    }\n",
       "</style>\n",
       "<table border=\"1\" class=\"dataframe\">\n",
       "  <thead>\n",
       "    <tr style=\"text-align: right;\">\n",
       "      <th></th>\n",
       "      <th>month</th>\n",
       "      <th>count_prospects</th>\n",
       "      <th>No_of_prospects</th>\n",
       "      <th>response_rate</th>\n",
       "    </tr>\n",
       "  </thead>\n",
       "  <tbody>\n",
       "    <tr>\n",
       "      <td>0</td>\n",
       "      <td>apr</td>\n",
       "      <td>539</td>\n",
       "      <td>2632</td>\n",
       "      <td>20.48</td>\n",
       "    </tr>\n",
       "    <tr>\n",
       "      <td>1</td>\n",
       "      <td>aug</td>\n",
       "      <td>655</td>\n",
       "      <td>6178</td>\n",
       "      <td>10.60</td>\n",
       "    </tr>\n",
       "    <tr>\n",
       "      <td>2</td>\n",
       "      <td>dec</td>\n",
       "      <td>89</td>\n",
       "      <td>182</td>\n",
       "      <td>48.90</td>\n",
       "    </tr>\n",
       "    <tr>\n",
       "      <td>3</td>\n",
       "      <td>jul</td>\n",
       "      <td>649</td>\n",
       "      <td>7174</td>\n",
       "      <td>9.05</td>\n",
       "    </tr>\n",
       "    <tr>\n",
       "      <td>4</td>\n",
       "      <td>jun</td>\n",
       "      <td>559</td>\n",
       "      <td>5318</td>\n",
       "      <td>10.51</td>\n",
       "    </tr>\n",
       "    <tr>\n",
       "      <td>5</td>\n",
       "      <td>mar</td>\n",
       "      <td>276</td>\n",
       "      <td>546</td>\n",
       "      <td>50.55</td>\n",
       "    </tr>\n",
       "    <tr>\n",
       "      <td>6</td>\n",
       "      <td>may</td>\n",
       "      <td>886</td>\n",
       "      <td>13769</td>\n",
       "      <td>6.43</td>\n",
       "    </tr>\n",
       "    <tr>\n",
       "      <td>7</td>\n",
       "      <td>nov</td>\n",
       "      <td>416</td>\n",
       "      <td>4101</td>\n",
       "      <td>10.14</td>\n",
       "    </tr>\n",
       "    <tr>\n",
       "      <td>8</td>\n",
       "      <td>oct</td>\n",
       "      <td>315</td>\n",
       "      <td>718</td>\n",
       "      <td>43.87</td>\n",
       "    </tr>\n",
       "    <tr>\n",
       "      <td>9</td>\n",
       "      <td>sep</td>\n",
       "      <td>256</td>\n",
       "      <td>570</td>\n",
       "      <td>44.91</td>\n",
       "    </tr>\n",
       "  </tbody>\n",
       "</table>\n",
       "</div>"
      ],
      "text/plain": [
       "  month  count_prospects  No_of_prospects  response_rate\n",
       "0   apr              539             2632          20.48\n",
       "1   aug              655             6178          10.60\n",
       "2   dec               89              182          48.90\n",
       "3   jul              649             7174           9.05\n",
       "4   jun              559             5318          10.51\n",
       "5   mar              276              546          50.55\n",
       "6   may              886            13769           6.43\n",
       "7   nov              416             4101          10.14\n",
       "8   oct              315              718          43.87\n",
       "9   sep              256              570          44.91"
      ]
     },
     "execution_count": 80,
     "metadata": {},
     "output_type": "execute_result"
    }
   ],
   "source": [
    "agg_month"
   ]
  },
  {
   "cell_type": "code",
   "execution_count": 81,
   "metadata": {},
   "outputs": [
    {
     "data": {
      "image/png": "[encoded data removed]",
      "text/plain": [
       "<Figure size 432x288 with 1 Axes>"
      ]
     },
     "metadata": {
      "needs_background": "light"
     },
     "output_type": "display_data"
    }
   ],
   "source": [
    "ax = sns.barplot(x='month', y='response_rate', data=agg_month)\n",
    "ax.set_xticklabels(ax.get_xticklabels(),rotation=0)\n",
    "plt.show()"
   ]
  },
  {
   "cell_type": "markdown",
   "metadata": {},
   "source": [
    "We can note that the four months of december, march, october and september appear to be the best to contact the potential customers. However, please note that these four months have the fewest data entries as well, so it is not certain, how well it would behave when calls are made at a high volume."
   ]
  },
  {
   "cell_type": "markdown",
   "metadata": {},
   "source": [
    "#### Day of the week"
   ]
  },
  {
   "cell_type": "code",
   "execution_count": 82,
   "metadata": {},
   "outputs": [
    {
     "data": {
      "text/plain": [
       "thu    8623\n",
       "mon    8514\n",
       "wed    8134\n",
       "tue    8090\n",
       "fri    7827\n",
       "Name: day_of_week, dtype: int64"
      ]
     },
     "execution_count": 82,
     "metadata": {},
     "output_type": "execute_result"
    }
   ],
   "source": [
    "loan['day_of_week'].value_counts()"
   ]
  },
  {
   "cell_type": "code",
   "execution_count": 83,
   "metadata": {},
   "outputs": [],
   "source": [
    "count_prospects_day = loan.groupby('day_of_week')['response'].sum().reset_index(name = 'count_prospects')"
   ]
  },
  {
   "cell_type": "code",
   "execution_count": 84,
   "metadata": {},
   "outputs": [],
   "source": [
    "No_of_prospect_day = loan.groupby('day_of_week')['response'].count().reset_index(name = 'No_of_prospects')"
   ]
  },
  {
   "cell_type": "code",
   "execution_count": 85,
   "metadata": {},
   "outputs": [],
   "source": [
    "agg_day = count_prospects_day.merge(No_of_prospect_day, on = 'day_of_week')"
   ]
  },
  {
   "cell_type": "code",
   "execution_count": 86,
   "metadata": {},
   "outputs": [],
   "source": [
    "agg_day['response_rate'] = 100*(agg_day['count_prospects']/agg_day['No_of_prospects']).round(4)"
   ]
  },
  {
   "cell_type": "code",
   "execution_count": 87,
   "metadata": {},
   "outputs": [
    {
     "data": {
      "text/html": [
       "<div>\n",
       "<style scoped>\n",
       "    .dataframe tbody tr th:only-of-type {\n",
       "        vertical-align: middle;\n",
       "    }\n",
       "\n",
       "    .dataframe tbody tr th {\n",
       "        vertical-align: top;\n",
       "    }\n",
       "\n",
       "    .dataframe thead th {\n",
       "        text-align: right;\n",
       "    }\n",
       "</style>\n",
       "<table border=\"1\" class=\"dataframe\">\n",
       "  <thead>\n",
       "    <tr style=\"text-align: right;\">\n",
       "      <th></th>\n",
       "      <th>day_of_week</th>\n",
       "      <th>count_prospects</th>\n",
       "      <th>No_of_prospects</th>\n",
       "      <th>response_rate</th>\n",
       "    </tr>\n",
       "  </thead>\n",
       "  <tbody>\n",
       "    <tr>\n",
       "      <td>0</td>\n",
       "      <td>fri</td>\n",
       "      <td>846</td>\n",
       "      <td>7827</td>\n",
       "      <td>10.81</td>\n",
       "    </tr>\n",
       "    <tr>\n",
       "      <td>1</td>\n",
       "      <td>mon</td>\n",
       "      <td>847</td>\n",
       "      <td>8514</td>\n",
       "      <td>9.95</td>\n",
       "    </tr>\n",
       "    <tr>\n",
       "      <td>2</td>\n",
       "      <td>thu</td>\n",
       "      <td>1045</td>\n",
       "      <td>8623</td>\n",
       "      <td>12.12</td>\n",
       "    </tr>\n",
       "    <tr>\n",
       "      <td>3</td>\n",
       "      <td>tue</td>\n",
       "      <td>953</td>\n",
       "      <td>8090</td>\n",
       "      <td>11.78</td>\n",
       "    </tr>\n",
       "    <tr>\n",
       "      <td>4</td>\n",
       "      <td>wed</td>\n",
       "      <td>949</td>\n",
       "      <td>8134</td>\n",
       "      <td>11.67</td>\n",
       "    </tr>\n",
       "  </tbody>\n",
       "</table>\n",
       "</div>"
      ],
      "text/plain": [
       "  day_of_week  count_prospects  No_of_prospects  response_rate\n",
       "0         fri              846             7827          10.81\n",
       "1         mon              847             8514           9.95\n",
       "2         thu             1045             8623          12.12\n",
       "3         tue              953             8090          11.78\n",
       "4         wed              949             8134          11.67"
      ]
     },
     "execution_count": 87,
     "metadata": {},
     "output_type": "execute_result"
    }
   ],
   "source": [
    "agg_day"
   ]
  },
  {
   "cell_type": "code",
   "execution_count": 88,
   "metadata": {},
   "outputs": [
    {
     "data": {
      "image/png": "[encoded data removed]",
      "text/plain": [
       "<Figure size 432x288 with 1 Axes>"
      ]
     },
     "metadata": {
      "needs_background": "light"
     },
     "output_type": "display_data"
    }
   ],
   "source": [
    "ax = sns.barplot(x='day_of_week', y='response_rate', data=agg_day)\n",
    "ax.set_xticklabels(ax.get_xticklabels(),rotation=0)\n",
    "plt.show()"
   ]
  },
  {
   "cell_type": "markdown",
   "metadata": {},
   "source": [
    "As you can note that response rate is lowest on monday, while being highest on thursday. However, the gap isn't very big."
   ]
  },
  {
   "cell_type": "markdown",
   "metadata": {},
   "source": [
    "#### Duration of the call"
   ]
  },
  {
   "cell_type": "code",
   "execution_count": 89,
   "metadata": {},
   "outputs": [
    {
     "data": {
      "image/png": "[encoded data removed]",
      "text/plain": [
       "<Figure size 432x288 with 1 Axes>"
      ]
     },
     "metadata": {
      "needs_background": "light"
     },
     "output_type": "display_data"
    }
   ],
   "source": [
    "sns.distplot(loan['duration'])\n",
    "plt.show()"
   ]
  },
  {
   "cell_type": "markdown",
   "metadata": {},
   "source": [
    "As we know that this is a continuos variable, we will create a box plot"
   ]
  },
  {
   "cell_type": "code",
   "execution_count": 90,
   "metadata": {},
   "outputs": [
    {
     "data": {
      "text/plain": [
       "count    41188.000000\n",
       "mean       258.285010\n",
       "std        259.279249\n",
       "min          0.000000\n",
       "25%        102.000000\n",
       "50%        180.000000\n",
       "75%        319.000000\n",
       "95%        752.650000\n",
       "99%       1271.130000\n",
       "max       4918.000000\n",
       "Name: duration, dtype: float64"
      ]
     },
     "execution_count": 90,
     "metadata": {},
     "output_type": "execute_result"
    }
   ],
   "source": [
    "loan['duration'].describe(percentiles = [0.25,0.50,0.75,0.95,0.99])"
   ]
  },
  {
   "cell_type": "code",
   "execution_count": 91,
   "metadata": {},
   "outputs": [
    {
     "data": {
      "image/png": "[encoded data removed]",
      "text/plain": [
       "<Figure size 432x288 with 1 Axes>"
      ]
     },
     "metadata": {
      "needs_background": "light"
     },
     "output_type": "display_data"
    }
   ],
   "source": [
    "sns.boxplot(x='duration', data=loan)\n",
    "plt.show()"
   ]
  },
  {
   "cell_type": "markdown",
   "metadata": {},
   "source": [
    "Since less than one percent of entires have duration greater than 1271, we can assume all entries with duration greater than 1271 as having duration as 1271."
   ]
  },
  {
   "cell_type": "code",
   "execution_count": 92,
   "metadata": {},
   "outputs": [],
   "source": [
    "loan['duration'][loan['duration']>1271] =1271"
   ]
  },
  {
   "cell_type": "code",
   "execution_count": 93,
   "metadata": {},
   "outputs": [
    {
     "data": {
      "image/png": "[encoded data removed]",
      "text/plain": [
       "<Figure size 432x288 with 1 Axes>"
      ]
     },
     "metadata": {
      "needs_background": "light"
     },
     "output_type": "display_data"
    }
   ],
   "source": [
    "sns.boxplot(x='duration', data=loan)\n",
    "plt.show()"
   ]
  },
  {
   "cell_type": "code",
   "execution_count": 94,
   "metadata": {},
   "outputs": [
    {
     "data": {
      "image/png": "[encoded data removed]",
      "text/plain": [
       "<Figure size 432x288 with 1 Axes>"
      ]
     },
     "metadata": {
      "needs_background": "light"
     },
     "output_type": "display_data"
    }
   ],
   "source": [
    "sns.distplot(loan['duration'])\n",
    "plt.show()"
   ]
  },
  {
   "cell_type": "markdown",
   "metadata": {},
   "source": [
    "Now that we have looked at client data and the data related to last contact, we will look at some of the other attributes.\n",
    "\n",
    "- Campaign: number of contacts performed during this campaign and for this client\n",
    "- Pdays: number of days that passed by after the client was last contacted from a previous campaign\n",
    "- Previous: number of contacts performed before this campaign and for this client\n",
    "- Poutcome: outcome of the previous marketing campaign"
   ]
  },
  {
   "cell_type": "markdown",
   "metadata": {},
   "source": [
    "#### Campaign"
   ]
  },
  {
   "cell_type": "code",
   "execution_count": 95,
   "metadata": {},
   "outputs": [
    {
     "data": {
      "text/plain": [
       "1     17642\n",
       "2     10570\n",
       "3      5341\n",
       "4      2651\n",
       "5      1599\n",
       "6       979\n",
       "7       629\n",
       "8       400\n",
       "9       283\n",
       "10      225\n",
       "11      177\n",
       "12      125\n",
       "13       92\n",
       "14       69\n",
       "17       58\n",
       "15       51\n",
       "16       51\n",
       "18       33\n",
       "20       30\n",
       "19       26\n",
       "21       24\n",
       "22       17\n",
       "23       16\n",
       "24       15\n",
       "27       11\n",
       "29       10\n",
       "25        8\n",
       "26        8\n",
       "28        8\n",
       "30        7\n",
       "31        7\n",
       "35        5\n",
       "33        4\n",
       "32        4\n",
       "34        3\n",
       "40        2\n",
       "42        2\n",
       "43        2\n",
       "37        1\n",
       "39        1\n",
       "41        1\n",
       "56        1\n",
       "Name: campaign, dtype: int64"
      ]
     },
     "execution_count": 95,
     "metadata": {},
     "output_type": "execute_result"
    }
   ],
   "source": [
    "loan['campaign'].value_counts()"
   ]
  },
  {
   "cell_type": "code",
   "execution_count": 96,
   "metadata": {},
   "outputs": [
    {
     "data": {
      "image/png": "[encoded data removed]",
      "text/plain": [
       "<Figure size 432x288 with 1 Axes>"
      ]
     },
     "metadata": {
      "needs_background": "light"
     },
     "output_type": "display_data"
    }
   ],
   "source": [
    "sns.distplot(loan['campaign'])\n",
    "plt.show()"
   ]
  },
  {
   "cell_type": "code",
   "execution_count": 97,
   "metadata": {},
   "outputs": [
    {
     "data": {
      "image/png": "[encoded data removed]",
      "text/plain": [
       "<Figure size 432x288 with 1 Axes>"
      ]
     },
     "metadata": {
      "needs_background": "light"
     },
     "output_type": "display_data"
    }
   ],
   "source": [
    "# We will create a box plot\n",
    "\n",
    "sns.boxplot(x='campaign', data=loan)\n",
    "plt.show()"
   ]
  },
  {
   "cell_type": "code",
   "execution_count": 98,
   "metadata": {},
   "outputs": [
    {
     "data": {
      "text/plain": [
       "count    41188.000000\n",
       "mean         2.567593\n",
       "std          2.770014\n",
       "min          1.000000\n",
       "25%          1.000000\n",
       "50%          2.000000\n",
       "75%          3.000000\n",
       "95%          7.000000\n",
       "99%         14.000000\n",
       "max         56.000000\n",
       "Name: campaign, dtype: float64"
      ]
     },
     "execution_count": 98,
     "metadata": {},
     "output_type": "execute_result"
    }
   ],
   "source": [
    "loan['campaign'].describe(percentiles = [0.25,0.50,0.75,0.95,0.99])"
   ]
  },
  {
   "cell_type": "markdown",
   "metadata": {},
   "source": [
    "Once again, we can merge all data entries with contacts greater than 14 as having campaign contact as 14"
   ]
  },
  {
   "cell_type": "code",
   "execution_count": 99,
   "metadata": {},
   "outputs": [],
   "source": [
    "loan['campaign'][loan['campaign']>14] =14"
   ]
  },
  {
   "cell_type": "code",
   "execution_count": 100,
   "metadata": {},
   "outputs": [
    {
     "data": {
      "image/png": "[encoded data removed]",
      "text/plain": [
       "<Figure size 432x288 with 1 Axes>"
      ]
     },
     "metadata": {
      "needs_background": "light"
     },
     "output_type": "display_data"
    }
   ],
   "source": [
    "sns.countplot(loan['campaign'])\n",
    "plt.show()"
   ]
  },
  {
   "cell_type": "code",
   "execution_count": 101,
   "metadata": {},
   "outputs": [],
   "source": [
    "count_prospects_campaign = loan.groupby('campaign')['response'].sum().reset_index(name = 'count_prospects')"
   ]
  },
  {
   "cell_type": "code",
   "execution_count": 102,
   "metadata": {},
   "outputs": [],
   "source": [
    "No_of_prospect_campaign = loan.groupby('campaign')['response'].count().reset_index(name = 'No_of_prospects')"
   ]
  },
  {
   "cell_type": "code",
   "execution_count": 103,
   "metadata": {},
   "outputs": [],
   "source": [
    "agg_campaign = count_prospects_campaign.merge(No_of_prospect_campaign, on = 'campaign')"
   ]
  },
  {
   "cell_type": "code",
   "execution_count": 104,
   "metadata": {},
   "outputs": [],
   "source": [
    "agg_campaign['response_rate'] = 100*(agg_campaign['count_prospects']/agg_campaign['No_of_prospects']).round(4)"
   ]
  },
  {
   "cell_type": "code",
   "execution_count": 105,
   "metadata": {},
   "outputs": [
    {
     "data": {
      "text/html": [
       "<div>\n",
       "<style scoped>\n",
       "    .dataframe tbody tr th:only-of-type {\n",
       "        vertical-align: middle;\n",
       "    }\n",
       "\n",
       "    .dataframe tbody tr th {\n",
       "        vertical-align: top;\n",
       "    }\n",
       "\n",
       "    .dataframe thead th {\n",
       "        text-align: right;\n",
       "    }\n",
       "</style>\n",
       "<table border=\"1\" class=\"dataframe\">\n",
       "  <thead>\n",
       "    <tr style=\"text-align: right;\">\n",
       "      <th></th>\n",
       "      <th>campaign</th>\n",
       "      <th>count_prospects</th>\n",
       "      <th>No_of_prospects</th>\n",
       "      <th>response_rate</th>\n",
       "    </tr>\n",
       "  </thead>\n",
       "  <tbody>\n",
       "    <tr>\n",
       "      <td>0</td>\n",
       "      <td>1</td>\n",
       "      <td>2300</td>\n",
       "      <td>17642</td>\n",
       "      <td>13.04</td>\n",
       "    </tr>\n",
       "    <tr>\n",
       "      <td>1</td>\n",
       "      <td>2</td>\n",
       "      <td>1211</td>\n",
       "      <td>10570</td>\n",
       "      <td>11.46</td>\n",
       "    </tr>\n",
       "    <tr>\n",
       "      <td>2</td>\n",
       "      <td>3</td>\n",
       "      <td>574</td>\n",
       "      <td>5341</td>\n",
       "      <td>10.75</td>\n",
       "    </tr>\n",
       "    <tr>\n",
       "      <td>3</td>\n",
       "      <td>4</td>\n",
       "      <td>249</td>\n",
       "      <td>2651</td>\n",
       "      <td>9.39</td>\n",
       "    </tr>\n",
       "    <tr>\n",
       "      <td>4</td>\n",
       "      <td>5</td>\n",
       "      <td>120</td>\n",
       "      <td>1599</td>\n",
       "      <td>7.50</td>\n",
       "    </tr>\n",
       "    <tr>\n",
       "      <td>5</td>\n",
       "      <td>6</td>\n",
       "      <td>75</td>\n",
       "      <td>979</td>\n",
       "      <td>7.66</td>\n",
       "    </tr>\n",
       "    <tr>\n",
       "      <td>6</td>\n",
       "      <td>7</td>\n",
       "      <td>38</td>\n",
       "      <td>629</td>\n",
       "      <td>6.04</td>\n",
       "    </tr>\n",
       "    <tr>\n",
       "      <td>7</td>\n",
       "      <td>8</td>\n",
       "      <td>17</td>\n",
       "      <td>400</td>\n",
       "      <td>4.25</td>\n",
       "    </tr>\n",
       "    <tr>\n",
       "      <td>8</td>\n",
       "      <td>9</td>\n",
       "      <td>17</td>\n",
       "      <td>283</td>\n",
       "      <td>6.01</td>\n",
       "    </tr>\n",
       "    <tr>\n",
       "      <td>9</td>\n",
       "      <td>10</td>\n",
       "      <td>12</td>\n",
       "      <td>225</td>\n",
       "      <td>5.33</td>\n",
       "    </tr>\n",
       "    <tr>\n",
       "      <td>10</td>\n",
       "      <td>11</td>\n",
       "      <td>12</td>\n",
       "      <td>177</td>\n",
       "      <td>6.78</td>\n",
       "    </tr>\n",
       "    <tr>\n",
       "      <td>11</td>\n",
       "      <td>12</td>\n",
       "      <td>3</td>\n",
       "      <td>125</td>\n",
       "      <td>2.40</td>\n",
       "    </tr>\n",
       "    <tr>\n",
       "      <td>12</td>\n",
       "      <td>13</td>\n",
       "      <td>4</td>\n",
       "      <td>92</td>\n",
       "      <td>4.35</td>\n",
       "    </tr>\n",
       "    <tr>\n",
       "      <td>13</td>\n",
       "      <td>14</td>\n",
       "      <td>8</td>\n",
       "      <td>475</td>\n",
       "      <td>1.68</td>\n",
       "    </tr>\n",
       "  </tbody>\n",
       "</table>\n",
       "</div>"
      ],
      "text/plain": [
       "    campaign  count_prospects  No_of_prospects  response_rate\n",
       "0          1             2300            17642          13.04\n",
       "1          2             1211            10570          11.46\n",
       "2          3              574             5341          10.75\n",
       "3          4              249             2651           9.39\n",
       "4          5              120             1599           7.50\n",
       "5          6               75              979           7.66\n",
       "6          7               38              629           6.04\n",
       "7          8               17              400           4.25\n",
       "8          9               17              283           6.01\n",
       "9         10               12              225           5.33\n",
       "10        11               12              177           6.78\n",
       "11        12                3              125           2.40\n",
       "12        13                4               92           4.35\n",
       "13        14                8              475           1.68"
      ]
     },
     "execution_count": 105,
     "metadata": {},
     "output_type": "execute_result"
    }
   ],
   "source": [
    "agg_campaign"
   ]
  },
  {
   "cell_type": "code",
   "execution_count": 106,
   "metadata": {},
   "outputs": [
    {
     "data": {
      "image/png": "[encoded data removed]",
      "text/plain": [
       "<Figure size 432x288 with 1 Axes>"
      ]
     },
     "metadata": {
      "needs_background": "light"
     },
     "output_type": "display_data"
    }
   ],
   "source": [
    "ax = sns.barplot(x='campaign', y='response_rate', data=agg_campaign)\n",
    "ax.set_xticklabels(ax.get_xticklabels(),rotation=0)\n",
    "plt.show()"
   ]
  },
  {
   "cell_type": "markdown",
   "metadata": {},
   "source": [
    "Interesting to note, that the response rate gradually decreases as the number of campaign contacts increases."
   ]
  },
  {
   "cell_type": "markdown",
   "metadata": {},
   "source": [
    "#### Gap after the last contact"
   ]
  },
  {
   "cell_type": "code",
   "execution_count": 107,
   "metadata": {},
   "outputs": [
    {
     "data": {
      "text/plain": [
       "999    39673\n",
       "3        439\n",
       "6        412\n",
       "4        118\n",
       "9         64\n",
       "2         61\n",
       "7         60\n",
       "12        58\n",
       "10        52\n",
       "5         46\n",
       "13        36\n",
       "11        28\n",
       "1         26\n",
       "15        24\n",
       "14        20\n",
       "8         18\n",
       "0         15\n",
       "16        11\n",
       "17         8\n",
       "18         7\n",
       "19         3\n",
       "22         3\n",
       "21         2\n",
       "26         1\n",
       "20         1\n",
       "25         1\n",
       "27         1\n",
       "Name: pdays, dtype: int64"
      ]
     },
     "execution_count": 107,
     "metadata": {},
     "output_type": "execute_result"
    }
   ],
   "source": [
    "loan['pdays'].value_counts()"
   ]
  },
  {
   "cell_type": "markdown",
   "metadata": {},
   "source": [
    "We are going to divide the pdays into three buckets, that is contacted within the first ten days, contacted after first ten days and first time contacted. Note that the pdays value of 999 means client was bot previously contacted."
   ]
  },
  {
   "cell_type": "code",
   "execution_count": 108,
   "metadata": {},
   "outputs": [],
   "source": [
    "loan['pdays'][loan['pdays'].isin([0,1,2,3,4,5,6,7,8,9,10])]='Contacted_in_first_10days'\n",
    "\n",
    "loan['pdays'][loan['pdays'].isin([999])]='First_time_contacted'\n",
    "\n",
    "loan['pdays'][~loan['pdays'].isin(['Contacted_in_first_10days','First_time_contacted'])]='Contacted_after_10days'"
   ]
  },
  {
   "cell_type": "code",
   "execution_count": 109,
   "metadata": {},
   "outputs": [
    {
     "data": {
      "text/plain": [
       "First_time_contacted         39673\n",
       "Contacted_in_first_10days     1311\n",
       "Contacted_after_10days         204\n",
       "Name: pdays, dtype: int64"
      ]
     },
     "execution_count": 109,
     "metadata": {},
     "output_type": "execute_result"
    }
   ],
   "source": [
    "loan['pdays'].value_counts()"
   ]
  },
  {
   "cell_type": "code",
   "execution_count": 110,
   "metadata": {},
   "outputs": [],
   "source": [
    "count_prospects_pdays = loan.groupby('pdays')['response'].sum().reset_index(name = 'count_prospects')"
   ]
  },
  {
   "cell_type": "code",
   "execution_count": 111,
   "metadata": {},
   "outputs": [],
   "source": [
    "No_of_prospect_pdays = loan.groupby('pdays')['response'].count().reset_index(name = 'No_of_prospects')"
   ]
  },
  {
   "cell_type": "code",
   "execution_count": 112,
   "metadata": {},
   "outputs": [],
   "source": [
    "agg_pdays = count_prospects_pdays.merge(No_of_prospect_pdays, on = 'pdays')"
   ]
  },
  {
   "cell_type": "code",
   "execution_count": 113,
   "metadata": {},
   "outputs": [],
   "source": [
    "agg_pdays['response_rate'] = 100*(agg_pdays['count_prospects']/agg_pdays['No_of_prospects']).round(4)"
   ]
  },
  {
   "cell_type": "code",
   "execution_count": 114,
   "metadata": {},
   "outputs": [
    {
     "data": {
      "text/html": [
       "<div>\n",
       "<style scoped>\n",
       "    .dataframe tbody tr th:only-of-type {\n",
       "        vertical-align: middle;\n",
       "    }\n",
       "\n",
       "    .dataframe tbody tr th {\n",
       "        vertical-align: top;\n",
       "    }\n",
       "\n",
       "    .dataframe thead th {\n",
       "        text-align: right;\n",
       "    }\n",
       "</style>\n",
       "<table border=\"1\" class=\"dataframe\">\n",
       "  <thead>\n",
       "    <tr style=\"text-align: right;\">\n",
       "      <th></th>\n",
       "      <th>pdays</th>\n",
       "      <th>count_prospects</th>\n",
       "      <th>No_of_prospects</th>\n",
       "      <th>response_rate</th>\n",
       "    </tr>\n",
       "  </thead>\n",
       "  <tbody>\n",
       "    <tr>\n",
       "      <td>0</td>\n",
       "      <td>Contacted_after_10days</td>\n",
       "      <td>116</td>\n",
       "      <td>204</td>\n",
       "      <td>56.86</td>\n",
       "    </tr>\n",
       "    <tr>\n",
       "      <td>1</td>\n",
       "      <td>Contacted_in_first_10days</td>\n",
       "      <td>851</td>\n",
       "      <td>1311</td>\n",
       "      <td>64.91</td>\n",
       "    </tr>\n",
       "    <tr>\n",
       "      <td>2</td>\n",
       "      <td>First_time_contacted</td>\n",
       "      <td>3673</td>\n",
       "      <td>39673</td>\n",
       "      <td>9.26</td>\n",
       "    </tr>\n",
       "  </tbody>\n",
       "</table>\n",
       "</div>"
      ],
      "text/plain": [
       "                       pdays  count_prospects  No_of_prospects  response_rate\n",
       "0     Contacted_after_10days              116              204          56.86\n",
       "1  Contacted_in_first_10days              851             1311          64.91\n",
       "2       First_time_contacted             3673            39673           9.26"
      ]
     },
     "execution_count": 114,
     "metadata": {},
     "output_type": "execute_result"
    }
   ],
   "source": [
    "agg_pdays"
   ]
  },
  {
   "cell_type": "code",
   "execution_count": 115,
   "metadata": {},
   "outputs": [
    {
     "data": {
      "image/png": "[encoded data removed]",
      "text/plain": [
       "<Figure size 432x288 with 1 Axes>"
      ]
     },
     "metadata": {
      "needs_background": "light"
     },
     "output_type": "display_data"
    }
   ],
   "source": [
    "ax = sns.barplot(x='pdays', y='response_rate', data=agg_pdays)\n",
    "ax.set_xticklabels(ax.get_xticklabels(),rotation=10)\n",
    "plt.show()"
   ]
  },
  {
   "cell_type": "markdown",
   "metadata": {},
   "source": [
    "Though there is a huge difference in the response rates of the three categories, it is important to note that there is also a huge difference in the volume of data entries in these categories"
   ]
  },
  {
   "cell_type": "markdown",
   "metadata": {},
   "source": [
    "#### Previous"
   ]
  },
  {
   "cell_type": "code",
   "execution_count": 116,
   "metadata": {},
   "outputs": [
    {
     "data": {
      "text/plain": [
       "0    35563\n",
       "1     4561\n",
       "2      754\n",
       "3      216\n",
       "4       70\n",
       "5       18\n",
       "6        5\n",
       "7        1\n",
       "Name: previous, dtype: int64"
      ]
     },
     "execution_count": 116,
     "metadata": {},
     "output_type": "execute_result"
    }
   ],
   "source": [
    "loan['previous'].value_counts()"
   ]
  },
  {
   "cell_type": "markdown",
   "metadata": {},
   "source": [
    "Since the data ranges from 0 to 7, we are going to break it into three categories, that is never contacted, contacted less than three times and contacted greater than three times"
   ]
  },
  {
   "cell_type": "code",
   "execution_count": 117,
   "metadata": {},
   "outputs": [],
   "source": [
    "loan['previous'][loan['previous'].isin([0])]='Never contacted'\n",
    "loan['previous'][loan['previous'].isin([1,2,3])]='Less_than_3_times'\n",
    "loan['previous'][loan['previous'].isin([4,5,6,7])]='More than_3_times'"
   ]
  },
  {
   "cell_type": "code",
   "execution_count": 118,
   "metadata": {},
   "outputs": [
    {
     "data": {
      "text/plain": [
       "Never contacted      35563\n",
       "Less_than_3_times     5531\n",
       "More than_3_times       94\n",
       "Name: previous, dtype: int64"
      ]
     },
     "execution_count": 118,
     "metadata": {},
     "output_type": "execute_result"
    }
   ],
   "source": [
    "loan['previous'].value_counts()"
   ]
  },
  {
   "cell_type": "code",
   "execution_count": 119,
   "metadata": {},
   "outputs": [],
   "source": [
    "count_prospects_previous = loan.groupby('previous')['response'].sum().reset_index(name = 'count_prospects')"
   ]
  },
  {
   "cell_type": "code",
   "execution_count": 120,
   "metadata": {},
   "outputs": [],
   "source": [
    "No_of_prospect_previous = loan.groupby('previous')['response'].count().reset_index(name = 'No_of_prospects')"
   ]
  },
  {
   "cell_type": "code",
   "execution_count": 121,
   "metadata": {},
   "outputs": [],
   "source": [
    "agg_previous = count_prospects_previous.merge(No_of_prospect_previous, on = 'previous')"
   ]
  },
  {
   "cell_type": "code",
   "execution_count": 122,
   "metadata": {},
   "outputs": [],
   "source": [
    "agg_previous['response_rate'] = 100*(agg_previous['count_prospects']/agg_previous['No_of_prospects']).round(4)"
   ]
  },
  {
   "cell_type": "code",
   "execution_count": 123,
   "metadata": {},
   "outputs": [
    {
     "data": {
      "text/html": [
       "<div>\n",
       "<style scoped>\n",
       "    .dataframe tbody tr th:only-of-type {\n",
       "        vertical-align: middle;\n",
       "    }\n",
       "\n",
       "    .dataframe tbody tr th {\n",
       "        vertical-align: top;\n",
       "    }\n",
       "\n",
       "    .dataframe thead th {\n",
       "        text-align: right;\n",
       "    }\n",
       "</style>\n",
       "<table border=\"1\" class=\"dataframe\">\n",
       "  <thead>\n",
       "    <tr style=\"text-align: right;\">\n",
       "      <th></th>\n",
       "      <th>previous</th>\n",
       "      <th>count_prospects</th>\n",
       "      <th>No_of_prospects</th>\n",
       "      <th>response_rate</th>\n",
       "    </tr>\n",
       "  </thead>\n",
       "  <tbody>\n",
       "    <tr>\n",
       "      <td>0</td>\n",
       "      <td>Less_than_3_times</td>\n",
       "      <td>1445</td>\n",
       "      <td>5531</td>\n",
       "      <td>26.13</td>\n",
       "    </tr>\n",
       "    <tr>\n",
       "      <td>1</td>\n",
       "      <td>More than_3_times</td>\n",
       "      <td>54</td>\n",
       "      <td>94</td>\n",
       "      <td>57.45</td>\n",
       "    </tr>\n",
       "    <tr>\n",
       "      <td>2</td>\n",
       "      <td>Never contacted</td>\n",
       "      <td>3141</td>\n",
       "      <td>35563</td>\n",
       "      <td>8.83</td>\n",
       "    </tr>\n",
       "  </tbody>\n",
       "</table>\n",
       "</div>"
      ],
      "text/plain": [
       "            previous  count_prospects  No_of_prospects  response_rate\n",
       "0  Less_than_3_times             1445             5531          26.13\n",
       "1  More than_3_times               54               94          57.45\n",
       "2    Never contacted             3141            35563           8.83"
      ]
     },
     "execution_count": 123,
     "metadata": {},
     "output_type": "execute_result"
    }
   ],
   "source": [
    "agg_previous"
   ]
  },
  {
   "cell_type": "code",
   "execution_count": 124,
   "metadata": {},
   "outputs": [
    {
     "data": {
      "image/png": "[encoded data removed]",
      "text/plain": [
       "<Figure size 432x288 with 1 Axes>"
      ]
     },
     "metadata": {
      "needs_background": "light"
     },
     "output_type": "display_data"
    }
   ],
   "source": [
    "ax = sns.barplot(x='previous', y='response_rate', data=agg_previous)\n",
    "ax.set_xticklabels(ax.get_xticklabels(),rotation=0)\n",
    "plt.show()"
   ]
  },
  {
   "cell_type": "markdown",
   "metadata": {},
   "source": [
    "We can note that the response rate is greatest for the the potential customers having previous contact of more than three. However, please note that  the number of data entries is very low for such cases, hence it's difficult to draw any inferences."
   ]
  },
  {
   "cell_type": "markdown",
   "metadata": {},
   "source": [
    "Now that we have analysed all the client related information, we will move to the wider social and economic variables, which gives us a clue of the conditions when a client is more likely to buy the product.\n",
    "\n",
    "- emp.var.rate: Employment Variation Rate - Quarterly Indicator\n",
    "- cons.price.idx: Consumer Price Index - Monthly Indicator \n",
    "- cons.conf.idx: Consumer Confidence Index - Monthly Indicator \n",
    "- euribor3m: Euribor 3 Month Rate - Daily Indicator\n",
    "- nr.employed: Number of Employees - Quarterly Indicator"
   ]
  },
  {
   "cell_type": "code",
   "execution_count": 125,
   "metadata": {},
   "outputs": [
    {
     "data": {
      "text/plain": [
       "Index(['age', 'job', 'marital', 'education', 'default', 'housing', 'loan',\n",
       "       'contact', 'month', 'day_of_week', 'duration', 'campaign', 'pdays',\n",
       "       'previous', 'poutcome', 'emp.var.rate', 'cons.price.idx',\n",
       "       'cons.conf.idx', 'euribor3m', 'nr.employed', 'response', 'age_bins'],\n",
       "      dtype='object')"
      ]
     },
     "execution_count": 125,
     "metadata": {},
     "output_type": "execute_result"
    }
   ],
   "source": [
    "loan.columns"
   ]
  },
  {
   "cell_type": "markdown",
   "metadata": {},
   "source": [
    "#### Employment Variation Rate"
   ]
  },
  {
   "cell_type": "code",
   "execution_count": 126,
   "metadata": {},
   "outputs": [
    {
     "data": {
      "image/png": "[encoded data removed]",
      "text/plain": [
       "<Figure size 432x288 with 1 Axes>"
      ]
     },
     "metadata": {
      "needs_background": "light"
     },
     "output_type": "display_data"
    }
   ],
   "source": [
    "sns.distplot(loan['emp.var.rate'])\n",
    "plt.show()"
   ]
  },
  {
   "cell_type": "code",
   "execution_count": 127,
   "metadata": {},
   "outputs": [
    {
     "data": {
      "text/plain": [
       "count    41188.000000\n",
       "mean         0.081886\n",
       "std          1.570960\n",
       "min         -3.400000\n",
       "25%         -1.800000\n",
       "50%          1.100000\n",
       "75%          1.400000\n",
       "95%          1.400000\n",
       "99%          1.400000\n",
       "max          1.400000\n",
       "Name: emp.var.rate, dtype: float64"
      ]
     },
     "execution_count": 127,
     "metadata": {},
     "output_type": "execute_result"
    }
   ],
   "source": [
    "loan['emp.var.rate'].describe(percentiles = [0.25,0.50,0.75,0.95,0.99])"
   ]
  },
  {
   "cell_type": "code",
   "execution_count": 128,
   "metadata": {},
   "outputs": [
    {
     "data": {
      "text/plain": [
       " 1.4    16234\n",
       "-1.8     9184\n",
       " 1.1     7763\n",
       "-0.1     3683\n",
       "-2.9     1663\n",
       "-3.4     1071\n",
       "-1.7      773\n",
       "-1.1      635\n",
       "-3.0      172\n",
       "-0.2       10\n",
       "Name: emp.var.rate, dtype: int64"
      ]
     },
     "execution_count": 128,
     "metadata": {},
     "output_type": "execute_result"
    }
   ],
   "source": [
    "loan['emp.var.rate'].value_counts()"
   ]
  },
  {
   "cell_type": "code",
   "execution_count": 129,
   "metadata": {},
   "outputs": [],
   "source": [
    "count_prospects_emp_var_rate = loan.groupby('emp.var.rate')['response'].sum().reset_index(name = 'count_prospects')"
   ]
  },
  {
   "cell_type": "code",
   "execution_count": 130,
   "metadata": {},
   "outputs": [],
   "source": [
    "No_of_prospect_emp_var_rate = loan.groupby('emp.var.rate')['response'].count().reset_index(name = 'No_of_prospects')"
   ]
  },
  {
   "cell_type": "code",
   "execution_count": 131,
   "metadata": {},
   "outputs": [],
   "source": [
    "agg_emp_var_rate = count_prospects_emp_var_rate.merge(No_of_prospect_emp_var_rate, on = 'emp.var.rate')"
   ]
  },
  {
   "cell_type": "code",
   "execution_count": 132,
   "metadata": {},
   "outputs": [],
   "source": [
    "agg_emp_var_rate['response_rate'] = 100*(agg_emp_var_rate['count_prospects']/agg_emp_var_rate['No_of_prospects']).round(4)"
   ]
  },
  {
   "cell_type": "code",
   "execution_count": 133,
   "metadata": {},
   "outputs": [
    {
     "data": {
      "text/html": [
       "<div>\n",
       "<style scoped>\n",
       "    .dataframe tbody tr th:only-of-type {\n",
       "        vertical-align: middle;\n",
       "    }\n",
       "\n",
       "    .dataframe tbody tr th {\n",
       "        vertical-align: top;\n",
       "    }\n",
       "\n",
       "    .dataframe thead th {\n",
       "        text-align: right;\n",
       "    }\n",
       "</style>\n",
       "<table border=\"1\" class=\"dataframe\">\n",
       "  <thead>\n",
       "    <tr style=\"text-align: right;\">\n",
       "      <th></th>\n",
       "      <th>emp.var.rate</th>\n",
       "      <th>count_prospects</th>\n",
       "      <th>No_of_prospects</th>\n",
       "      <th>response_rate</th>\n",
       "    </tr>\n",
       "  </thead>\n",
       "  <tbody>\n",
       "    <tr>\n",
       "      <td>0</td>\n",
       "      <td>-3.4</td>\n",
       "      <td>454</td>\n",
       "      <td>1071</td>\n",
       "      <td>42.39</td>\n",
       "    </tr>\n",
       "    <tr>\n",
       "      <td>1</td>\n",
       "      <td>-3.0</td>\n",
       "      <td>88</td>\n",
       "      <td>172</td>\n",
       "      <td>51.16</td>\n",
       "    </tr>\n",
       "    <tr>\n",
       "      <td>2</td>\n",
       "      <td>-2.9</td>\n",
       "      <td>594</td>\n",
       "      <td>1663</td>\n",
       "      <td>35.72</td>\n",
       "    </tr>\n",
       "    <tr>\n",
       "      <td>3</td>\n",
       "      <td>-1.8</td>\n",
       "      <td>1461</td>\n",
       "      <td>9184</td>\n",
       "      <td>15.91</td>\n",
       "    </tr>\n",
       "    <tr>\n",
       "      <td>4</td>\n",
       "      <td>-1.7</td>\n",
       "      <td>403</td>\n",
       "      <td>773</td>\n",
       "      <td>52.13</td>\n",
       "    </tr>\n",
       "    <tr>\n",
       "      <td>5</td>\n",
       "      <td>-1.1</td>\n",
       "      <td>301</td>\n",
       "      <td>635</td>\n",
       "      <td>47.40</td>\n",
       "    </tr>\n",
       "    <tr>\n",
       "      <td>6</td>\n",
       "      <td>-0.2</td>\n",
       "      <td>1</td>\n",
       "      <td>10</td>\n",
       "      <td>10.00</td>\n",
       "    </tr>\n",
       "    <tr>\n",
       "      <td>7</td>\n",
       "      <td>-0.1</td>\n",
       "      <td>232</td>\n",
       "      <td>3683</td>\n",
       "      <td>6.30</td>\n",
       "    </tr>\n",
       "    <tr>\n",
       "      <td>8</td>\n",
       "      <td>1.1</td>\n",
       "      <td>240</td>\n",
       "      <td>7763</td>\n",
       "      <td>3.09</td>\n",
       "    </tr>\n",
       "    <tr>\n",
       "      <td>9</td>\n",
       "      <td>1.4</td>\n",
       "      <td>866</td>\n",
       "      <td>16234</td>\n",
       "      <td>5.33</td>\n",
       "    </tr>\n",
       "  </tbody>\n",
       "</table>\n",
       "</div>"
      ],
      "text/plain": [
       "   emp.var.rate  count_prospects  No_of_prospects  response_rate\n",
       "0          -3.4              454             1071          42.39\n",
       "1          -3.0               88              172          51.16\n",
       "2          -2.9              594             1663          35.72\n",
       "3          -1.8             1461             9184          15.91\n",
       "4          -1.7              403              773          52.13\n",
       "5          -1.1              301              635          47.40\n",
       "6          -0.2                1               10          10.00\n",
       "7          -0.1              232             3683           6.30\n",
       "8           1.1              240             7763           3.09\n",
       "9           1.4              866            16234           5.33"
      ]
     },
     "execution_count": 133,
     "metadata": {},
     "output_type": "execute_result"
    }
   ],
   "source": [
    "agg_emp_var_rate"
   ]
  },
  {
   "cell_type": "code",
   "execution_count": 134,
   "metadata": {},
   "outputs": [
    {
     "data": {
      "image/png": "[encoded data removed]",
      "text/plain": [
       "<Figure size 432x288 with 1 Axes>"
      ]
     },
     "metadata": {
      "needs_background": "light"
     },
     "output_type": "display_data"
    }
   ],
   "source": [
    "ax = sns.barplot(x='emp.var.rate', y='response_rate', data=agg_emp_var_rate)\n",
    "ax.set_xticklabels(ax.get_xticklabels(),rotation=0)\n",
    "plt.show()"
   ]
  },
  {
   "cell_type": "markdown",
   "metadata": {},
   "source": [
    "You can note that a negative employment variation rate seems to be related to higher response rates."
   ]
  },
  {
   "cell_type": "markdown",
   "metadata": {},
   "source": [
    "#### Consumer Price Index"
   ]
  },
  {
   "cell_type": "code",
   "execution_count": 135,
   "metadata": {},
   "outputs": [
    {
     "data": {
      "image/png": "[encoded data removed]",
      "text/plain": [
       "<Figure size 432x288 with 1 Axes>"
      ]
     },
     "metadata": {
      "needs_background": "light"
     },
     "output_type": "display_data"
    }
   ],
   "source": [
    "sns.distplot(loan['cons.price.idx'])\n",
    "plt.show()"
   ]
  },
  {
   "cell_type": "code",
   "execution_count": 136,
   "metadata": {},
   "outputs": [
    {
     "data": {
      "text/plain": [
       "count    41188.000000\n",
       "mean        93.575664\n",
       "std          0.578840\n",
       "min         92.201000\n",
       "25%         93.075000\n",
       "50%         93.749000\n",
       "75%         93.994000\n",
       "95%         94.465000\n",
       "99%         94.465000\n",
       "max         94.767000\n",
       "Name: cons.price.idx, dtype: float64"
      ]
     },
     "execution_count": 136,
     "metadata": {},
     "output_type": "execute_result"
    }
   ],
   "source": [
    "loan['cons.price.idx'].describe(percentiles = [0.25,0.50,0.75,0.95,0.99])"
   ]
  },
  {
   "cell_type": "code",
   "execution_count": 137,
   "metadata": {},
   "outputs": [
    {
     "data": {
      "text/plain": [
       "-36.4    7763\n",
       "-42.7    6685\n",
       "-46.2    5794\n",
       "-36.1    5175\n",
       "-41.8    4374\n",
       "-42.0    3616\n",
       "-47.1    2458\n",
       "-31.4     770\n",
       "-40.8     715\n",
       "-26.9     447\n",
       "-30.1     357\n",
       "-40.3     311\n",
       "-37.5     303\n",
       "-50.0     282\n",
       "-29.8     267\n",
       "-34.8     264\n",
       "-38.3     233\n",
       "-39.8     229\n",
       "-40.0     212\n",
       "-49.5     204\n",
       "-33.6     178\n",
       "-34.6     174\n",
       "-33.0     172\n",
       "-50.8     128\n",
       "-40.4      67\n",
       "-45.9      10\n",
       "Name: cons.conf.idx, dtype: int64"
      ]
     },
     "execution_count": 137,
     "metadata": {},
     "output_type": "execute_result"
    }
   ],
   "source": [
    "loan['cons.conf.idx'].value_counts()"
   ]
  },
  {
   "cell_type": "markdown",
   "metadata": {},
   "source": [
    "#### Euribor three month rate"
   ]
  },
  {
   "cell_type": "code",
   "execution_count": 138,
   "metadata": {},
   "outputs": [
    {
     "data": {
      "image/png": "[encoded data removed]",
      "text/plain": [
       "<Figure size 432x288 with 1 Axes>"
      ]
     },
     "metadata": {
      "needs_background": "light"
     },
     "output_type": "display_data"
    }
   ],
   "source": [
    "sns.distplot(loan['euribor3m'])\n",
    "plt.show()"
   ]
  },
  {
   "cell_type": "code",
   "execution_count": 139,
   "metadata": {},
   "outputs": [
    {
     "data": {
      "text/plain": [
       "count    41188.000000\n",
       "mean         3.621291\n",
       "std          1.734447\n",
       "min          0.634000\n",
       "25%          1.344000\n",
       "50%          4.857000\n",
       "75%          4.961000\n",
       "95%          4.966000\n",
       "99%          4.968000\n",
       "max          5.045000\n",
       "Name: euribor3m, dtype: float64"
      ]
     },
     "execution_count": 139,
     "metadata": {},
     "output_type": "execute_result"
    }
   ],
   "source": [
    "loan['euribor3m'].describe(percentiles = [0.25,0.50,0.75,0.95,0.99])"
   ]
  },
  {
   "cell_type": "markdown",
   "metadata": {},
   "source": [
    "#### Number of employeees"
   ]
  },
  {
   "cell_type": "code",
   "execution_count": 140,
   "metadata": {},
   "outputs": [
    {
     "data": {
      "image/png": "[encoded data removed]",
      "text/plain": [
       "<Figure size 432x288 with 1 Axes>"
      ]
     },
     "metadata": {
      "needs_background": "light"
     },
     "output_type": "display_data"
    }
   ],
   "source": [
    "sns.distplot(loan['nr.employed'])\n",
    "plt.show()"
   ]
  },
  {
   "cell_type": "code",
   "execution_count": 141,
   "metadata": {},
   "outputs": [
    {
     "data": {
      "text/plain": [
       "5228.1    16234\n",
       "5099.1     8534\n",
       "5191.0     7763\n",
       "5195.8     3683\n",
       "5076.2     1663\n",
       "5017.5     1071\n",
       "4991.6      773\n",
       "5008.7      650\n",
       "4963.6      635\n",
       "5023.5      172\n",
       "5176.3       10\n",
       "Name: nr.employed, dtype: int64"
      ]
     },
     "execution_count": 141,
     "metadata": {},
     "output_type": "execute_result"
    }
   ],
   "source": [
    "loan['nr.employed'].value_counts()"
   ]
  },
  {
   "cell_type": "code",
   "execution_count": 142,
   "metadata": {},
   "outputs": [
    {
     "data": {
      "text/plain": [
       "count    41188.000000\n",
       "mean      5167.035911\n",
       "std         72.251528\n",
       "min       4963.600000\n",
       "25%       5099.100000\n",
       "50%       5191.000000\n",
       "75%       5228.100000\n",
       "95%       5228.100000\n",
       "99%       5228.100000\n",
       "max       5228.100000\n",
       "Name: nr.employed, dtype: float64"
      ]
     },
     "execution_count": 142,
     "metadata": {},
     "output_type": "execute_result"
    }
   ],
   "source": [
    "loan['nr.employed'].describe(percentiles = [0.25,0.50,0.75,0.95,0.99])"
   ]
  },
  {
   "cell_type": "markdown",
   "metadata": {},
   "source": [
    "Now that we have completed basic exploratory analysis, we can move to the next stage, that is data cleaning and data preparation"
   ]
  },
  {
   "cell_type": "code",
   "execution_count": 143,
   "metadata": {},
   "outputs": [
    {
     "data": {
      "image/png": "[encoded data removed]",
      "text/plain": [
       "<Figure size 1050x700 with 2 Axes>"
      ]
     },
     "metadata": {
      "needs_background": "light"
     },
     "output_type": "display_data"
    }
   ],
   "source": [
    "plt.figure(figsize=(30,20),dpi=35)\n",
    "sns.set(font_scale=2)\n",
    "sns.heatmap(loan.corr(),cmap='YlGnBu',annot=True)\n",
    "plt.show()"
   ]
  },
  {
   "cell_type": "markdown",
   "metadata": {},
   "source": [
    "#### Data Preparation\n",
    "\n",
    "Once Exploratory Data anlysis has been performed, we move to data preparation for the purpose of modelling."
   ]
  },
  {
   "cell_type": "code",
   "execution_count": 144,
   "metadata": {},
   "outputs": [
    {
     "data": {
      "text/plain": [
       "Index(['age', 'job', 'marital', 'education', 'default', 'housing', 'loan',\n",
       "       'contact', 'month', 'day_of_week', 'duration', 'campaign', 'pdays',\n",
       "       'previous', 'poutcome', 'emp.var.rate', 'cons.price.idx',\n",
       "       'cons.conf.idx', 'euribor3m', 'nr.employed', 'response', 'age_bins'],\n",
       "      dtype='object')"
      ]
     },
     "execution_count": 144,
     "metadata": {},
     "output_type": "execute_result"
    }
   ],
   "source": [
    "# inspect the columns\n",
    "loan.columns"
   ]
  },
  {
   "cell_type": "code",
   "execution_count": 145,
   "metadata": {},
   "outputs": [],
   "source": [
    "# Droping the column age_bins we had created for the purpose of data visualisation\n",
    "\n",
    "loan.drop(columns = 'age_bins', inplace = True)"
   ]
  },
  {
   "cell_type": "code",
   "execution_count": 146,
   "metadata": {},
   "outputs": [],
   "source": [
    "# Creating a dummy variable for the variable 'job' and dropping the first one.\n",
    "\n",
    "job = pd.get_dummies(loan['job'],prefix='job',drop_first=True)\n",
    "\n",
    "#Adding the results to the master dataframe\n",
    "\n",
    "loan = pd.concat([loan,job],axis=1)"
   ]
  },
  {
   "cell_type": "code",
   "execution_count": 147,
   "metadata": {},
   "outputs": [
    {
     "data": {
      "text/html": [
       "<div>\n",
       "<style scoped>\n",
       "    .dataframe tbody tr th:only-of-type {\n",
       "        vertical-align: middle;\n",
       "    }\n",
       "\n",
       "    .dataframe tbody tr th {\n",
       "        vertical-align: top;\n",
       "    }\n",
       "\n",
       "    .dataframe thead th {\n",
       "        text-align: right;\n",
       "    }\n",
       "</style>\n",
       "<table border=\"1\" class=\"dataframe\">\n",
       "  <thead>\n",
       "    <tr style=\"text-align: right;\">\n",
       "      <th></th>\n",
       "      <th>age</th>\n",
       "      <th>job</th>\n",
       "      <th>marital</th>\n",
       "      <th>education</th>\n",
       "      <th>default</th>\n",
       "      <th>housing</th>\n",
       "      <th>loan</th>\n",
       "      <th>contact</th>\n",
       "      <th>month</th>\n",
       "      <th>day_of_week</th>\n",
       "      <th>...</th>\n",
       "      <th>job_entrepreneur</th>\n",
       "      <th>job_housemaid</th>\n",
       "      <th>job_management</th>\n",
       "      <th>job_retired</th>\n",
       "      <th>job_self-employed</th>\n",
       "      <th>job_services</th>\n",
       "      <th>job_student</th>\n",
       "      <th>job_technician</th>\n",
       "      <th>job_unemployed</th>\n",
       "      <th>job_unknown</th>\n",
       "    </tr>\n",
       "  </thead>\n",
       "  <tbody>\n",
       "    <tr>\n",
       "      <td>0</td>\n",
       "      <td>56</td>\n",
       "      <td>housemaid</td>\n",
       "      <td>married</td>\n",
       "      <td>Primary_Education</td>\n",
       "      <td>no</td>\n",
       "      <td>no</td>\n",
       "      <td>no</td>\n",
       "      <td>telephone</td>\n",
       "      <td>may</td>\n",
       "      <td>mon</td>\n",
       "      <td>...</td>\n",
       "      <td>0</td>\n",
       "      <td>1</td>\n",
       "      <td>0</td>\n",
       "      <td>0</td>\n",
       "      <td>0</td>\n",
       "      <td>0</td>\n",
       "      <td>0</td>\n",
       "      <td>0</td>\n",
       "      <td>0</td>\n",
       "      <td>0</td>\n",
       "    </tr>\n",
       "    <tr>\n",
       "      <td>1</td>\n",
       "      <td>57</td>\n",
       "      <td>services</td>\n",
       "      <td>married</td>\n",
       "      <td>Secondary_Education</td>\n",
       "      <td>unknown</td>\n",
       "      <td>no</td>\n",
       "      <td>no</td>\n",
       "      <td>telephone</td>\n",
       "      <td>may</td>\n",
       "      <td>mon</td>\n",
       "      <td>...</td>\n",
       "      <td>0</td>\n",
       "      <td>0</td>\n",
       "      <td>0</td>\n",
       "      <td>0</td>\n",
       "      <td>0</td>\n",
       "      <td>1</td>\n",
       "      <td>0</td>\n",
       "      <td>0</td>\n",
       "      <td>0</td>\n",
       "      <td>0</td>\n",
       "    </tr>\n",
       "    <tr>\n",
       "      <td>2</td>\n",
       "      <td>37</td>\n",
       "      <td>services</td>\n",
       "      <td>married</td>\n",
       "      <td>Secondary_Education</td>\n",
       "      <td>no</td>\n",
       "      <td>yes</td>\n",
       "      <td>no</td>\n",
       "      <td>telephone</td>\n",
       "      <td>may</td>\n",
       "      <td>mon</td>\n",
       "      <td>...</td>\n",
       "      <td>0</td>\n",
       "      <td>0</td>\n",
       "      <td>0</td>\n",
       "      <td>0</td>\n",
       "      <td>0</td>\n",
       "      <td>1</td>\n",
       "      <td>0</td>\n",
       "      <td>0</td>\n",
       "      <td>0</td>\n",
       "      <td>0</td>\n",
       "    </tr>\n",
       "    <tr>\n",
       "      <td>3</td>\n",
       "      <td>40</td>\n",
       "      <td>admin.</td>\n",
       "      <td>married</td>\n",
       "      <td>Primary_Education</td>\n",
       "      <td>no</td>\n",
       "      <td>no</td>\n",
       "      <td>no</td>\n",
       "      <td>telephone</td>\n",
       "      <td>may</td>\n",
       "      <td>mon</td>\n",
       "      <td>...</td>\n",
       "      <td>0</td>\n",
       "      <td>0</td>\n",
       "      <td>0</td>\n",
       "      <td>0</td>\n",
       "      <td>0</td>\n",
       "      <td>0</td>\n",
       "      <td>0</td>\n",
       "      <td>0</td>\n",
       "      <td>0</td>\n",
       "      <td>0</td>\n",
       "    </tr>\n",
       "    <tr>\n",
       "      <td>4</td>\n",
       "      <td>56</td>\n",
       "      <td>services</td>\n",
       "      <td>married</td>\n",
       "      <td>Secondary_Education</td>\n",
       "      <td>no</td>\n",
       "      <td>no</td>\n",
       "      <td>yes</td>\n",
       "      <td>telephone</td>\n",
       "      <td>may</td>\n",
       "      <td>mon</td>\n",
       "      <td>...</td>\n",
       "      <td>0</td>\n",
       "      <td>0</td>\n",
       "      <td>0</td>\n",
       "      <td>0</td>\n",
       "      <td>0</td>\n",
       "      <td>1</td>\n",
       "      <td>0</td>\n",
       "      <td>0</td>\n",
       "      <td>0</td>\n",
       "      <td>0</td>\n",
       "    </tr>\n",
       "  </tbody>\n",
       "</table>\n",
       "<p>5 rows × 32 columns</p>\n",
       "</div>"
      ],
      "text/plain": [
       "   age        job  marital            education  default housing loan  \\\n",
       "0   56  housemaid  married    Primary_Education       no      no   no   \n",
       "1   57   services  married  Secondary_Education  unknown      no   no   \n",
       "2   37   services  married  Secondary_Education       no     yes   no   \n",
       "3   40     admin.  married    Primary_Education       no      no   no   \n",
       "4   56   services  married  Secondary_Education       no      no  yes   \n",
       "\n",
       "     contact month day_of_week  ...  job_entrepreneur  job_housemaid  \\\n",
       "0  telephone   may         mon  ...                 0              1   \n",
       "1  telephone   may         mon  ...                 0              0   \n",
       "2  telephone   may         mon  ...                 0              0   \n",
       "3  telephone   may         mon  ...                 0              0   \n",
       "4  telephone   may         mon  ...                 0              0   \n",
       "\n",
       "  job_management job_retired job_self-employed  job_services  job_student  \\\n",
       "0              0           0                 0             0            0   \n",
       "1              0           0                 0             1            0   \n",
       "2              0           0                 0             1            0   \n",
       "3              0           0                 0             0            0   \n",
       "4              0           0                 0             1            0   \n",
       "\n",
       "   job_technician  job_unemployed  job_unknown  \n",
       "0               0               0            0  \n",
       "1               0               0            0  \n",
       "2               0               0            0  \n",
       "3               0               0            0  \n",
       "4               0               0            0  \n",
       "\n",
       "[5 rows x 32 columns]"
      ]
     },
     "execution_count": 147,
     "metadata": {},
     "output_type": "execute_result"
    }
   ],
   "source": [
    "loan.head()"
   ]
  },
  {
   "cell_type": "markdown",
   "metadata": {},
   "source": [
    "Notice that we have created a set of dummy columns for the feature job. Similarly, we are going to do the same for other categorical variables."
   ]
  },
  {
   "cell_type": "code",
   "execution_count": 148,
   "metadata": {},
   "outputs": [],
   "source": [
    "# Creating dummy variable for marital column\n",
    "\n",
    "marital = pd.get_dummies(loan['marital'],prefix='marital',drop_first=True)\n",
    "loan = pd.concat([loan,marital],axis=1)"
   ]
  },
  {
   "cell_type": "code",
   "execution_count": 149,
   "metadata": {},
   "outputs": [],
   "source": [
    "# Creating dummy variable for education column\n",
    "education = pd.get_dummies(loan['education'],prefix='education',drop_first=True)\n",
    "loan = pd.concat([loan,education],axis=1)"
   ]
  },
  {
   "cell_type": "code",
   "execution_count": 150,
   "metadata": {},
   "outputs": [],
   "source": [
    "# Creating dummy variable for default column\n",
    "\n",
    "default = pd.get_dummies(loan['default'],prefix='default',drop_first=True)\n",
    "loan = pd.concat([loan,default],axis=1)"
   ]
  },
  {
   "cell_type": "code",
   "execution_count": 151,
   "metadata": {},
   "outputs": [],
   "source": [
    "# Creating dummy variable for housing column\n",
    "\n",
    "housing = pd.get_dummies(loan['housing'],prefix='housing',drop_first=True)\n",
    "loan = pd.concat([loan,housing],axis=1)"
   ]
  },
  {
   "cell_type": "code",
   "execution_count": 152,
   "metadata": {},
   "outputs": [],
   "source": [
    "# Creating dummy variable for loan column\n",
    "\n",
    "loan_v= pd.get_dummies(loan['loan'],prefix='loan',drop_first=True)\n",
    "loan = pd.concat([loan,loan_v],axis=1)"
   ]
  },
  {
   "cell_type": "code",
   "execution_count": 153,
   "metadata": {},
   "outputs": [],
   "source": [
    "# Creating dummy variable for contact column\n",
    "\n",
    "contact = pd.get_dummies(loan['contact'],prefix='contact',drop_first=True)\n",
    "loan = pd.concat([loan,contact],axis=1)"
   ]
  },
  {
   "cell_type": "code",
   "execution_count": 154,
   "metadata": {},
   "outputs": [],
   "source": [
    "# Creating dummy variable for month column\n",
    "\n",
    "month = pd.get_dummies(loan['month'],prefix='month',drop_first=True)\n",
    "loan = pd.concat([loan,month],axis=1)"
   ]
  },
  {
   "cell_type": "code",
   "execution_count": 155,
   "metadata": {},
   "outputs": [],
   "source": [
    "# Creating dummy variable for day_of_week column\n",
    "\n",
    "day_of_week = pd.get_dummies(loan['day_of_week'],prefix='day_of_week',drop_first=True)\n",
    "loan = pd.concat([loan,day_of_week],axis=1)"
   ]
  },
  {
   "cell_type": "code",
   "execution_count": 156,
   "metadata": {},
   "outputs": [],
   "source": [
    "# Creating dummy variable for pdays column\n",
    "\n",
    "pdays = pd.get_dummies(loan['pdays'],prefix='pdays',drop_first=True)\n",
    "loan = pd.concat([loan,pdays],axis=1)"
   ]
  },
  {
   "cell_type": "code",
   "execution_count": 157,
   "metadata": {},
   "outputs": [],
   "source": [
    "# Creating dummy variable for previous column\n",
    "\n",
    "previous = pd.get_dummies(loan['previous'],prefix='previous',drop_first=True)\n",
    "loan = pd.concat([loan,previous],axis=1)"
   ]
  },
  {
   "cell_type": "code",
   "execution_count": 158,
   "metadata": {},
   "outputs": [],
   "source": [
    "# Creating dummy variable for poutcome column\n",
    "\n",
    "poutcome = pd.get_dummies(loan['poutcome'],prefix='poutcome',drop_first=True)\n",
    "loan = pd.concat([loan,poutcome],axis=1)"
   ]
  },
  {
   "cell_type": "code",
   "execution_count": 159,
   "metadata": {},
   "outputs": [
    {
     "data": {
      "text/html": [
       "<div>\n",
       "<style scoped>\n",
       "    .dataframe tbody tr th:only-of-type {\n",
       "        vertical-align: middle;\n",
       "    }\n",
       "\n",
       "    .dataframe tbody tr th {\n",
       "        vertical-align: top;\n",
       "    }\n",
       "\n",
       "    .dataframe thead th {\n",
       "        text-align: right;\n",
       "    }\n",
       "</style>\n",
       "<table border=\"1\" class=\"dataframe\">\n",
       "  <thead>\n",
       "    <tr style=\"text-align: right;\">\n",
       "      <th></th>\n",
       "      <th>age</th>\n",
       "      <th>job</th>\n",
       "      <th>marital</th>\n",
       "      <th>education</th>\n",
       "      <th>default</th>\n",
       "      <th>housing</th>\n",
       "      <th>loan</th>\n",
       "      <th>contact</th>\n",
       "      <th>month</th>\n",
       "      <th>day_of_week</th>\n",
       "      <th>...</th>\n",
       "      <th>day_of_week_mon</th>\n",
       "      <th>day_of_week_thu</th>\n",
       "      <th>day_of_week_tue</th>\n",
       "      <th>day_of_week_wed</th>\n",
       "      <th>pdays_Contacted_in_first_10days</th>\n",
       "      <th>pdays_First_time_contacted</th>\n",
       "      <th>previous_More than_3_times</th>\n",
       "      <th>previous_Never contacted</th>\n",
       "      <th>poutcome_nonexistent</th>\n",
       "      <th>poutcome_success</th>\n",
       "    </tr>\n",
       "  </thead>\n",
       "  <tbody>\n",
       "    <tr>\n",
       "      <td>0</td>\n",
       "      <td>56</td>\n",
       "      <td>housemaid</td>\n",
       "      <td>married</td>\n",
       "      <td>Primary_Education</td>\n",
       "      <td>no</td>\n",
       "      <td>no</td>\n",
       "      <td>no</td>\n",
       "      <td>telephone</td>\n",
       "      <td>may</td>\n",
       "      <td>mon</td>\n",
       "      <td>...</td>\n",
       "      <td>1</td>\n",
       "      <td>0</td>\n",
       "      <td>0</td>\n",
       "      <td>0</td>\n",
       "      <td>0</td>\n",
       "      <td>1</td>\n",
       "      <td>0</td>\n",
       "      <td>1</td>\n",
       "      <td>1</td>\n",
       "      <td>0</td>\n",
       "    </tr>\n",
       "    <tr>\n",
       "      <td>1</td>\n",
       "      <td>57</td>\n",
       "      <td>services</td>\n",
       "      <td>married</td>\n",
       "      <td>Secondary_Education</td>\n",
       "      <td>unknown</td>\n",
       "      <td>no</td>\n",
       "      <td>no</td>\n",
       "      <td>telephone</td>\n",
       "      <td>may</td>\n",
       "      <td>mon</td>\n",
       "      <td>...</td>\n",
       "      <td>1</td>\n",
       "      <td>0</td>\n",
       "      <td>0</td>\n",
       "      <td>0</td>\n",
       "      <td>0</td>\n",
       "      <td>1</td>\n",
       "      <td>0</td>\n",
       "      <td>1</td>\n",
       "      <td>1</td>\n",
       "      <td>0</td>\n",
       "    </tr>\n",
       "    <tr>\n",
       "      <td>2</td>\n",
       "      <td>37</td>\n",
       "      <td>services</td>\n",
       "      <td>married</td>\n",
       "      <td>Secondary_Education</td>\n",
       "      <td>no</td>\n",
       "      <td>yes</td>\n",
       "      <td>no</td>\n",
       "      <td>telephone</td>\n",
       "      <td>may</td>\n",
       "      <td>mon</td>\n",
       "      <td>...</td>\n",
       "      <td>1</td>\n",
       "      <td>0</td>\n",
       "      <td>0</td>\n",
       "      <td>0</td>\n",
       "      <td>0</td>\n",
       "      <td>1</td>\n",
       "      <td>0</td>\n",
       "      <td>1</td>\n",
       "      <td>1</td>\n",
       "      <td>0</td>\n",
       "    </tr>\n",
       "    <tr>\n",
       "      <td>3</td>\n",
       "      <td>40</td>\n",
       "      <td>admin.</td>\n",
       "      <td>married</td>\n",
       "      <td>Primary_Education</td>\n",
       "      <td>no</td>\n",
       "      <td>no</td>\n",
       "      <td>no</td>\n",
       "      <td>telephone</td>\n",
       "      <td>may</td>\n",
       "      <td>mon</td>\n",
       "      <td>...</td>\n",
       "      <td>1</td>\n",
       "      <td>0</td>\n",
       "      <td>0</td>\n",
       "      <td>0</td>\n",
       "      <td>0</td>\n",
       "      <td>1</td>\n",
       "      <td>0</td>\n",
       "      <td>1</td>\n",
       "      <td>1</td>\n",
       "      <td>0</td>\n",
       "    </tr>\n",
       "    <tr>\n",
       "      <td>4</td>\n",
       "      <td>56</td>\n",
       "      <td>services</td>\n",
       "      <td>married</td>\n",
       "      <td>Secondary_Education</td>\n",
       "      <td>no</td>\n",
       "      <td>no</td>\n",
       "      <td>yes</td>\n",
       "      <td>telephone</td>\n",
       "      <td>may</td>\n",
       "      <td>mon</td>\n",
       "      <td>...</td>\n",
       "      <td>1</td>\n",
       "      <td>0</td>\n",
       "      <td>0</td>\n",
       "      <td>0</td>\n",
       "      <td>0</td>\n",
       "      <td>1</td>\n",
       "      <td>0</td>\n",
       "      <td>1</td>\n",
       "      <td>1</td>\n",
       "      <td>0</td>\n",
       "    </tr>\n",
       "  </tbody>\n",
       "</table>\n",
       "<p>5 rows × 64 columns</p>\n",
       "</div>"
      ],
      "text/plain": [
       "   age        job  marital            education  default housing loan  \\\n",
       "0   56  housemaid  married    Primary_Education       no      no   no   \n",
       "1   57   services  married  Secondary_Education  unknown      no   no   \n",
       "2   37   services  married  Secondary_Education       no     yes   no   \n",
       "3   40     admin.  married    Primary_Education       no      no   no   \n",
       "4   56   services  married  Secondary_Education       no      no  yes   \n",
       "\n",
       "     contact month day_of_week  ...  day_of_week_mon  day_of_week_thu  \\\n",
       "0  telephone   may         mon  ...                1                0   \n",
       "1  telephone   may         mon  ...                1                0   \n",
       "2  telephone   may         mon  ...                1                0   \n",
       "3  telephone   may         mon  ...                1                0   \n",
       "4  telephone   may         mon  ...                1                0   \n",
       "\n",
       "  day_of_week_tue day_of_week_wed pdays_Contacted_in_first_10days  \\\n",
       "0               0               0                               0   \n",
       "1               0               0                               0   \n",
       "2               0               0                               0   \n",
       "3               0               0                               0   \n",
       "4               0               0                               0   \n",
       "\n",
       "   pdays_First_time_contacted  previous_More than_3_times  \\\n",
       "0                           1                           0   \n",
       "1                           1                           0   \n",
       "2                           1                           0   \n",
       "3                           1                           0   \n",
       "4                           1                           0   \n",
       "\n",
       "   previous_Never contacted  poutcome_nonexistent  poutcome_success  \n",
       "0                         1                     1                 0  \n",
       "1                         1                     1                 0  \n",
       "2                         1                     1                 0  \n",
       "3                         1                     1                 0  \n",
       "4                         1                     1                 0  \n",
       "\n",
       "[5 rows x 64 columns]"
      ]
     },
     "execution_count": 159,
     "metadata": {},
     "output_type": "execute_result"
    }
   ],
   "source": [
    "# inspect the dataframe\n",
    "loan.head()"
   ]
  },
  {
   "cell_type": "code",
   "execution_count": 160,
   "metadata": {},
   "outputs": [],
   "source": [
    "# Drop all features for whom dummy variable has been created\n",
    "\n",
    "loan.drop(columns = ['job','marital','education','default','housing','loan','contact','month','day_of_week','pdays','previous','poutcome'], inplace=True)"
   ]
  },
  {
   "cell_type": "code",
   "execution_count": 161,
   "metadata": {},
   "outputs": [],
   "source": [
    "loan_copy_2 = loan "
   ]
  },
  {
   "cell_type": "code",
   "execution_count": 162,
   "metadata": {},
   "outputs": [
    {
     "data": {
      "text/html": [
       "<div>\n",
       "<style scoped>\n",
       "    .dataframe tbody tr th:only-of-type {\n",
       "        vertical-align: middle;\n",
       "    }\n",
       "\n",
       "    .dataframe tbody tr th {\n",
       "        vertical-align: top;\n",
       "    }\n",
       "\n",
       "    .dataframe thead th {\n",
       "        text-align: right;\n",
       "    }\n",
       "</style>\n",
       "<table border=\"1\" class=\"dataframe\">\n",
       "  <thead>\n",
       "    <tr style=\"text-align: right;\">\n",
       "      <th></th>\n",
       "      <th>age</th>\n",
       "      <th>duration</th>\n",
       "      <th>campaign</th>\n",
       "      <th>emp.var.rate</th>\n",
       "      <th>cons.price.idx</th>\n",
       "      <th>cons.conf.idx</th>\n",
       "      <th>euribor3m</th>\n",
       "      <th>nr.employed</th>\n",
       "      <th>response</th>\n",
       "      <th>job_blue-collar</th>\n",
       "      <th>...</th>\n",
       "      <th>day_of_week_mon</th>\n",
       "      <th>day_of_week_thu</th>\n",
       "      <th>day_of_week_tue</th>\n",
       "      <th>day_of_week_wed</th>\n",
       "      <th>pdays_Contacted_in_first_10days</th>\n",
       "      <th>pdays_First_time_contacted</th>\n",
       "      <th>previous_More than_3_times</th>\n",
       "      <th>previous_Never contacted</th>\n",
       "      <th>poutcome_nonexistent</th>\n",
       "      <th>poutcome_success</th>\n",
       "    </tr>\n",
       "  </thead>\n",
       "  <tbody>\n",
       "    <tr>\n",
       "      <td>0</td>\n",
       "      <td>56</td>\n",
       "      <td>261</td>\n",
       "      <td>1</td>\n",
       "      <td>1.1</td>\n",
       "      <td>93.994</td>\n",
       "      <td>-36.4</td>\n",
       "      <td>4.857</td>\n",
       "      <td>5191.0</td>\n",
       "      <td>0</td>\n",
       "      <td>0</td>\n",
       "      <td>...</td>\n",
       "      <td>1</td>\n",
       "      <td>0</td>\n",
       "      <td>0</td>\n",
       "      <td>0</td>\n",
       "      <td>0</td>\n",
       "      <td>1</td>\n",
       "      <td>0</td>\n",
       "      <td>1</td>\n",
       "      <td>1</td>\n",
       "      <td>0</td>\n",
       "    </tr>\n",
       "    <tr>\n",
       "      <td>1</td>\n",
       "      <td>57</td>\n",
       "      <td>149</td>\n",
       "      <td>1</td>\n",
       "      <td>1.1</td>\n",
       "      <td>93.994</td>\n",
       "      <td>-36.4</td>\n",
       "      <td>4.857</td>\n",
       "      <td>5191.0</td>\n",
       "      <td>0</td>\n",
       "      <td>0</td>\n",
       "      <td>...</td>\n",
       "      <td>1</td>\n",
       "      <td>0</td>\n",
       "      <td>0</td>\n",
       "      <td>0</td>\n",
       "      <td>0</td>\n",
       "      <td>1</td>\n",
       "      <td>0</td>\n",
       "      <td>1</td>\n",
       "      <td>1</td>\n",
       "      <td>0</td>\n",
       "    </tr>\n",
       "    <tr>\n",
       "      <td>2</td>\n",
       "      <td>37</td>\n",
       "      <td>226</td>\n",
       "      <td>1</td>\n",
       "      <td>1.1</td>\n",
       "      <td>93.994</td>\n",
       "      <td>-36.4</td>\n",
       "      <td>4.857</td>\n",
       "      <td>5191.0</td>\n",
       "      <td>0</td>\n",
       "      <td>0</td>\n",
       "      <td>...</td>\n",
       "      <td>1</td>\n",
       "      <td>0</td>\n",
       "      <td>0</td>\n",
       "      <td>0</td>\n",
       "      <td>0</td>\n",
       "      <td>1</td>\n",
       "      <td>0</td>\n",
       "      <td>1</td>\n",
       "      <td>1</td>\n",
       "      <td>0</td>\n",
       "    </tr>\n",
       "    <tr>\n",
       "      <td>3</td>\n",
       "      <td>40</td>\n",
       "      <td>151</td>\n",
       "      <td>1</td>\n",
       "      <td>1.1</td>\n",
       "      <td>93.994</td>\n",
       "      <td>-36.4</td>\n",
       "      <td>4.857</td>\n",
       "      <td>5191.0</td>\n",
       "      <td>0</td>\n",
       "      <td>0</td>\n",
       "      <td>...</td>\n",
       "      <td>1</td>\n",
       "      <td>0</td>\n",
       "      <td>0</td>\n",
       "      <td>0</td>\n",
       "      <td>0</td>\n",
       "      <td>1</td>\n",
       "      <td>0</td>\n",
       "      <td>1</td>\n",
       "      <td>1</td>\n",
       "      <td>0</td>\n",
       "    </tr>\n",
       "    <tr>\n",
       "      <td>4</td>\n",
       "      <td>56</td>\n",
       "      <td>307</td>\n",
       "      <td>1</td>\n",
       "      <td>1.1</td>\n",
       "      <td>93.994</td>\n",
       "      <td>-36.4</td>\n",
       "      <td>4.857</td>\n",
       "      <td>5191.0</td>\n",
       "      <td>0</td>\n",
       "      <td>0</td>\n",
       "      <td>...</td>\n",
       "      <td>1</td>\n",
       "      <td>0</td>\n",
       "      <td>0</td>\n",
       "      <td>0</td>\n",
       "      <td>0</td>\n",
       "      <td>1</td>\n",
       "      <td>0</td>\n",
       "      <td>1</td>\n",
       "      <td>1</td>\n",
       "      <td>0</td>\n",
       "    </tr>\n",
       "  </tbody>\n",
       "</table>\n",
       "<p>5 rows × 52 columns</p>\n",
       "</div>"
      ],
      "text/plain": [
       "   age  duration  campaign  emp.var.rate  cons.price.idx  cons.conf.idx  \\\n",
       "0   56       261         1           1.1          93.994          -36.4   \n",
       "1   57       149         1           1.1          93.994          -36.4   \n",
       "2   37       226         1           1.1          93.994          -36.4   \n",
       "3   40       151         1           1.1          93.994          -36.4   \n",
       "4   56       307         1           1.1          93.994          -36.4   \n",
       "\n",
       "   euribor3m  nr.employed  response  job_blue-collar  ...  day_of_week_mon  \\\n",
       "0      4.857       5191.0         0                0  ...                1   \n",
       "1      4.857       5191.0         0                0  ...                1   \n",
       "2      4.857       5191.0         0                0  ...                1   \n",
       "3      4.857       5191.0         0                0  ...                1   \n",
       "4      4.857       5191.0         0                0  ...                1   \n",
       "\n",
       "   day_of_week_thu  day_of_week_tue  day_of_week_wed  \\\n",
       "0                0                0                0   \n",
       "1                0                0                0   \n",
       "2                0                0                0   \n",
       "3                0                0                0   \n",
       "4                0                0                0   \n",
       "\n",
       "   pdays_Contacted_in_first_10days  pdays_First_time_contacted  \\\n",
       "0                                0                           1   \n",
       "1                                0                           1   \n",
       "2                                0                           1   \n",
       "3                                0                           1   \n",
       "4                                0                           1   \n",
       "\n",
       "   previous_More than_3_times  previous_Never contacted  poutcome_nonexistent  \\\n",
       "0                           0                         1                     1   \n",
       "1                           0                         1                     1   \n",
       "2                           0                         1                     1   \n",
       "3                           0                         1                     1   \n",
       "4                           0                         1                     1   \n",
       "\n",
       "   poutcome_success  \n",
       "0                 0  \n",
       "1                 0  \n",
       "2                 0  \n",
       "3                 0  \n",
       "4                 0  \n",
       "\n",
       "[5 rows x 52 columns]"
      ]
     },
     "execution_count": 162,
     "metadata": {},
     "output_type": "execute_result"
    }
   ],
   "source": [
    "loan.head()"
   ]
  },
  {
   "cell_type": "code",
   "execution_count": 163,
   "metadata": {},
   "outputs": [],
   "source": [
    "# Import library to split the dataset into test and train\n",
    "\n",
    "from sklearn.model_selection import train_test_split"
   ]
  },
  {
   "cell_type": "code",
   "execution_count": 164,
   "metadata": {},
   "outputs": [],
   "source": [
    "# Putting feature variable to X\n",
    "X = loan.drop(['response'],axis=1)\n",
    "\n",
    "# Putting response variable to y\n",
    "y = loan['response']"
   ]
  },
  {
   "cell_type": "code",
   "execution_count": 165,
   "metadata": {},
   "outputs": [],
   "source": [
    "# Splitting the data into train and test\n",
    "X_train, X_test, y_train, y_test = train_test_split(X,y, train_size=0.7,test_size=0.3,random_state=100)"
   ]
  },
  {
   "cell_type": "markdown",
   "metadata": {},
   "source": [
    "#### Standardisation"
   ]
  },
  {
   "cell_type": "code",
   "execution_count": 166,
   "metadata": {},
   "outputs": [
    {
     "data": {
      "text/html": [
       "<div>\n",
       "<style scoped>\n",
       "    .dataframe tbody tr th:only-of-type {\n",
       "        vertical-align: middle;\n",
       "    }\n",
       "\n",
       "    .dataframe tbody tr th {\n",
       "        vertical-align: top;\n",
       "    }\n",
       "\n",
       "    .dataframe thead th {\n",
       "        text-align: right;\n",
       "    }\n",
       "</style>\n",
       "<table border=\"1\" class=\"dataframe\">\n",
       "  <thead>\n",
       "    <tr style=\"text-align: right;\">\n",
       "      <th></th>\n",
       "      <th>age</th>\n",
       "      <th>duration</th>\n",
       "      <th>campaign</th>\n",
       "      <th>emp.var.rate</th>\n",
       "      <th>cons.price.idx</th>\n",
       "      <th>cons.conf.idx</th>\n",
       "      <th>euribor3m</th>\n",
       "      <th>nr.employed</th>\n",
       "      <th>job_blue-collar</th>\n",
       "      <th>job_entrepreneur</th>\n",
       "      <th>...</th>\n",
       "      <th>day_of_week_mon</th>\n",
       "      <th>day_of_week_thu</th>\n",
       "      <th>day_of_week_tue</th>\n",
       "      <th>day_of_week_wed</th>\n",
       "      <th>pdays_Contacted_in_first_10days</th>\n",
       "      <th>pdays_First_time_contacted</th>\n",
       "      <th>previous_More than_3_times</th>\n",
       "      <th>previous_Never contacted</th>\n",
       "      <th>poutcome_nonexistent</th>\n",
       "      <th>poutcome_success</th>\n",
       "    </tr>\n",
       "  </thead>\n",
       "  <tbody>\n",
       "    <tr>\n",
       "      <td>7019</td>\n",
       "      <td>31</td>\n",
       "      <td>102</td>\n",
       "      <td>4</td>\n",
       "      <td>1.1</td>\n",
       "      <td>93.994</td>\n",
       "      <td>-36.4</td>\n",
       "      <td>4.860</td>\n",
       "      <td>5191.0</td>\n",
       "      <td>0</td>\n",
       "      <td>0</td>\n",
       "      <td>...</td>\n",
       "      <td>0</td>\n",
       "      <td>1</td>\n",
       "      <td>0</td>\n",
       "      <td>0</td>\n",
       "      <td>0</td>\n",
       "      <td>1</td>\n",
       "      <td>0</td>\n",
       "      <td>1</td>\n",
       "      <td>1</td>\n",
       "      <td>0</td>\n",
       "    </tr>\n",
       "    <tr>\n",
       "      <td>27175</td>\n",
       "      <td>51</td>\n",
       "      <td>218</td>\n",
       "      <td>3</td>\n",
       "      <td>-0.1</td>\n",
       "      <td>93.200</td>\n",
       "      <td>-42.0</td>\n",
       "      <td>4.021</td>\n",
       "      <td>5195.8</td>\n",
       "      <td>0</td>\n",
       "      <td>0</td>\n",
       "      <td>...</td>\n",
       "      <td>0</td>\n",
       "      <td>0</td>\n",
       "      <td>0</td>\n",
       "      <td>0</td>\n",
       "      <td>0</td>\n",
       "      <td>1</td>\n",
       "      <td>0</td>\n",
       "      <td>1</td>\n",
       "      <td>1</td>\n",
       "      <td>0</td>\n",
       "    </tr>\n",
       "    <tr>\n",
       "      <td>15817</td>\n",
       "      <td>39</td>\n",
       "      <td>333</td>\n",
       "      <td>3</td>\n",
       "      <td>1.4</td>\n",
       "      <td>93.918</td>\n",
       "      <td>-42.7</td>\n",
       "      <td>4.960</td>\n",
       "      <td>5228.1</td>\n",
       "      <td>0</td>\n",
       "      <td>0</td>\n",
       "      <td>...</td>\n",
       "      <td>1</td>\n",
       "      <td>0</td>\n",
       "      <td>0</td>\n",
       "      <td>0</td>\n",
       "      <td>0</td>\n",
       "      <td>1</td>\n",
       "      <td>0</td>\n",
       "      <td>1</td>\n",
       "      <td>1</td>\n",
       "      <td>0</td>\n",
       "    </tr>\n",
       "    <tr>\n",
       "      <td>40971</td>\n",
       "      <td>68</td>\n",
       "      <td>130</td>\n",
       "      <td>4</td>\n",
       "      <td>-1.1</td>\n",
       "      <td>94.601</td>\n",
       "      <td>-49.5</td>\n",
       "      <td>1.000</td>\n",
       "      <td>4963.6</td>\n",
       "      <td>0</td>\n",
       "      <td>0</td>\n",
       "      <td>...</td>\n",
       "      <td>1</td>\n",
       "      <td>0</td>\n",
       "      <td>0</td>\n",
       "      <td>0</td>\n",
       "      <td>0</td>\n",
       "      <td>1</td>\n",
       "      <td>0</td>\n",
       "      <td>0</td>\n",
       "      <td>0</td>\n",
       "      <td>0</td>\n",
       "    </tr>\n",
       "    <tr>\n",
       "      <td>8467</td>\n",
       "      <td>37</td>\n",
       "      <td>267</td>\n",
       "      <td>3</td>\n",
       "      <td>1.4</td>\n",
       "      <td>94.465</td>\n",
       "      <td>-41.8</td>\n",
       "      <td>4.864</td>\n",
       "      <td>5228.1</td>\n",
       "      <td>0</td>\n",
       "      <td>0</td>\n",
       "      <td>...</td>\n",
       "      <td>0</td>\n",
       "      <td>0</td>\n",
       "      <td>1</td>\n",
       "      <td>0</td>\n",
       "      <td>0</td>\n",
       "      <td>1</td>\n",
       "      <td>0</td>\n",
       "      <td>1</td>\n",
       "      <td>1</td>\n",
       "      <td>0</td>\n",
       "    </tr>\n",
       "  </tbody>\n",
       "</table>\n",
       "<p>5 rows × 51 columns</p>\n",
       "</div>"
      ],
      "text/plain": [
       "       age  duration  campaign  emp.var.rate  cons.price.idx  cons.conf.idx  \\\n",
       "7019    31       102         4           1.1          93.994          -36.4   \n",
       "27175   51       218         3          -0.1          93.200          -42.0   \n",
       "15817   39       333         3           1.4          93.918          -42.7   \n",
       "40971   68       130         4          -1.1          94.601          -49.5   \n",
       "8467    37       267         3           1.4          94.465          -41.8   \n",
       "\n",
       "       euribor3m  nr.employed  job_blue-collar  job_entrepreneur  ...  \\\n",
       "7019       4.860       5191.0                0                 0  ...   \n",
       "27175      4.021       5195.8                0                 0  ...   \n",
       "15817      4.960       5228.1                0                 0  ...   \n",
       "40971      1.000       4963.6                0                 0  ...   \n",
       "8467       4.864       5228.1                0                 0  ...   \n",
       "\n",
       "       day_of_week_mon  day_of_week_thu  day_of_week_tue  day_of_week_wed  \\\n",
       "7019                 0                1                0                0   \n",
       "27175                0                0                0                0   \n",
       "15817                1                0                0                0   \n",
       "40971                1                0                0                0   \n",
       "8467                 0                0                1                0   \n",
       "\n",
       "       pdays_Contacted_in_first_10days  pdays_First_time_contacted  \\\n",
       "7019                                 0                           1   \n",
       "27175                                0                           1   \n",
       "15817                                0                           1   \n",
       "40971                                0                           1   \n",
       "8467                                 0                           1   \n",
       "\n",
       "       previous_More than_3_times  previous_Never contacted  \\\n",
       "7019                            0                         1   \n",
       "27175                           0                         1   \n",
       "15817                           0                         1   \n",
       "40971                           0                         0   \n",
       "8467                            0                         1   \n",
       "\n",
       "       poutcome_nonexistent  poutcome_success  \n",
       "7019                      1                 0  \n",
       "27175                     1                 0  \n",
       "15817                     1                 0  \n",
       "40971                     0                 0  \n",
       "8467                      1                 0  \n",
       "\n",
       "[5 rows x 51 columns]"
      ]
     },
     "execution_count": 166,
     "metadata": {},
     "output_type": "execute_result"
    }
   ],
   "source": [
    "X_train.head()"
   ]
  },
  {
   "cell_type": "code",
   "execution_count": 167,
   "metadata": {},
   "outputs": [],
   "source": [
    "# Standardisation continuous features for X_train\n",
    "X_train_df = X_train[['age','campaign','emp.var.rate','cons.price.idx','cons.conf.idx','euribor3m','nr.employed']]"
   ]
  },
  {
   "cell_type": "code",
   "execution_count": 168,
   "metadata": {},
   "outputs": [],
   "source": [
    "std_X_train_df=(X_train_df-X_train_df.mean())/X_train_df.std()"
   ]
  },
  {
   "cell_type": "code",
   "execution_count": 169,
   "metadata": {},
   "outputs": [],
   "source": [
    "X_train = X_train.drop(['age','campaign','emp.var.rate','cons.price.idx','cons.conf.idx','euribor3m','nr.employed'], 1)"
   ]
  },
  {
   "cell_type": "code",
   "execution_count": 170,
   "metadata": {},
   "outputs": [],
   "source": [
    "X_train = pd.concat([X_train,std_X_train_df],axis=1)"
   ]
  },
  {
   "cell_type": "code",
   "execution_count": 171,
   "metadata": {},
   "outputs": [],
   "source": [
    "X_train_copy = X_train.copy() # Creating a copy of X_train,for future use,as well as precaution."
   ]
  },
  {
   "cell_type": "code",
   "execution_count": 172,
   "metadata": {},
   "outputs": [
    {
     "data": {
      "text/html": [
       "<div>\n",
       "<style scoped>\n",
       "    .dataframe tbody tr th:only-of-type {\n",
       "        vertical-align: middle;\n",
       "    }\n",
       "\n",
       "    .dataframe tbody tr th {\n",
       "        vertical-align: top;\n",
       "    }\n",
       "\n",
       "    .dataframe thead th {\n",
       "        text-align: right;\n",
       "    }\n",
       "</style>\n",
       "<table border=\"1\" class=\"dataframe\">\n",
       "  <thead>\n",
       "    <tr style=\"text-align: right;\">\n",
       "      <th></th>\n",
       "      <th>duration</th>\n",
       "      <th>job_blue-collar</th>\n",
       "      <th>job_entrepreneur</th>\n",
       "      <th>job_housemaid</th>\n",
       "      <th>job_management</th>\n",
       "      <th>job_retired</th>\n",
       "      <th>job_self-employed</th>\n",
       "      <th>job_services</th>\n",
       "      <th>job_student</th>\n",
       "      <th>job_technician</th>\n",
       "      <th>...</th>\n",
       "      <th>previous_Never contacted</th>\n",
       "      <th>poutcome_nonexistent</th>\n",
       "      <th>poutcome_success</th>\n",
       "      <th>age</th>\n",
       "      <th>campaign</th>\n",
       "      <th>emp.var.rate</th>\n",
       "      <th>cons.price.idx</th>\n",
       "      <th>cons.conf.idx</th>\n",
       "      <th>euribor3m</th>\n",
       "      <th>nr.employed</th>\n",
       "    </tr>\n",
       "  </thead>\n",
       "  <tbody>\n",
       "    <tr>\n",
       "      <td>7019</td>\n",
       "      <td>102</td>\n",
       "      <td>0</td>\n",
       "      <td>0</td>\n",
       "      <td>0</td>\n",
       "      <td>0</td>\n",
       "      <td>0</td>\n",
       "      <td>0</td>\n",
       "      <td>0</td>\n",
       "      <td>0</td>\n",
       "      <td>0</td>\n",
       "      <td>...</td>\n",
       "      <td>1</td>\n",
       "      <td>1</td>\n",
       "      <td>0</td>\n",
       "      <td>-0.877019</td>\n",
       "      <td>0.646930</td>\n",
       "      <td>0.649758</td>\n",
       "      <td>0.723298</td>\n",
       "      <td>0.891826</td>\n",
       "      <td>0.715448</td>\n",
       "      <td>0.333618</td>\n",
       "    </tr>\n",
       "    <tr>\n",
       "      <td>27175</td>\n",
       "      <td>218</td>\n",
       "      <td>0</td>\n",
       "      <td>0</td>\n",
       "      <td>0</td>\n",
       "      <td>0</td>\n",
       "      <td>0</td>\n",
       "      <td>0</td>\n",
       "      <td>0</td>\n",
       "      <td>0</td>\n",
       "      <td>1</td>\n",
       "      <td>...</td>\n",
       "      <td>1</td>\n",
       "      <td>1</td>\n",
       "      <td>0</td>\n",
       "      <td>1.084499</td>\n",
       "      <td>0.213946</td>\n",
       "      <td>-0.114599</td>\n",
       "      <td>-0.650827</td>\n",
       "      <td>-0.319720</td>\n",
       "      <td>0.231937</td>\n",
       "      <td>0.400051</td>\n",
       "    </tr>\n",
       "    <tr>\n",
       "      <td>15817</td>\n",
       "      <td>333</td>\n",
       "      <td>0</td>\n",
       "      <td>0</td>\n",
       "      <td>0</td>\n",
       "      <td>0</td>\n",
       "      <td>0</td>\n",
       "      <td>0</td>\n",
       "      <td>0</td>\n",
       "      <td>0</td>\n",
       "      <td>0</td>\n",
       "      <td>...</td>\n",
       "      <td>1</td>\n",
       "      <td>1</td>\n",
       "      <td>0</td>\n",
       "      <td>-0.092412</td>\n",
       "      <td>0.213946</td>\n",
       "      <td>0.840847</td>\n",
       "      <td>0.591769</td>\n",
       "      <td>-0.471164</td>\n",
       "      <td>0.773077</td>\n",
       "      <td>0.847088</td>\n",
       "    </tr>\n",
       "    <tr>\n",
       "      <td>40971</td>\n",
       "      <td>130</td>\n",
       "      <td>0</td>\n",
       "      <td>0</td>\n",
       "      <td>0</td>\n",
       "      <td>0</td>\n",
       "      <td>1</td>\n",
       "      <td>0</td>\n",
       "      <td>0</td>\n",
       "      <td>0</td>\n",
       "      <td>0</td>\n",
       "      <td>...</td>\n",
       "      <td>0</td>\n",
       "      <td>0</td>\n",
       "      <td>0</td>\n",
       "      <td>2.751789</td>\n",
       "      <td>0.646930</td>\n",
       "      <td>-0.751563</td>\n",
       "      <td>1.773794</td>\n",
       "      <td>-1.942327</td>\n",
       "      <td>-1.509050</td>\n",
       "      <td>-2.813633</td>\n",
       "    </tr>\n",
       "    <tr>\n",
       "      <td>8467</td>\n",
       "      <td>267</td>\n",
       "      <td>0</td>\n",
       "      <td>0</td>\n",
       "      <td>0</td>\n",
       "      <td>0</td>\n",
       "      <td>0</td>\n",
       "      <td>0</td>\n",
       "      <td>0</td>\n",
       "      <td>0</td>\n",
       "      <td>1</td>\n",
       "      <td>...</td>\n",
       "      <td>1</td>\n",
       "      <td>1</td>\n",
       "      <td>0</td>\n",
       "      <td>-0.288564</td>\n",
       "      <td>0.213946</td>\n",
       "      <td>0.840847</td>\n",
       "      <td>1.538427</td>\n",
       "      <td>-0.276451</td>\n",
       "      <td>0.717753</td>\n",
       "      <td>0.847088</td>\n",
       "    </tr>\n",
       "  </tbody>\n",
       "</table>\n",
       "<p>5 rows × 51 columns</p>\n",
       "</div>"
      ],
      "text/plain": [
       "       duration  job_blue-collar  job_entrepreneur  job_housemaid  \\\n",
       "7019        102                0                 0              0   \n",
       "27175       218                0                 0              0   \n",
       "15817       333                0                 0              0   \n",
       "40971       130                0                 0              0   \n",
       "8467        267                0                 0              0   \n",
       "\n",
       "       job_management  job_retired  job_self-employed  job_services  \\\n",
       "7019                0            0                  0             0   \n",
       "27175               0            0                  0             0   \n",
       "15817               0            0                  0             0   \n",
       "40971               0            1                  0             0   \n",
       "8467                0            0                  0             0   \n",
       "\n",
       "       job_student  job_technician  ...  previous_Never contacted  \\\n",
       "7019             0               0  ...                         1   \n",
       "27175            0               1  ...                         1   \n",
       "15817            0               0  ...                         1   \n",
       "40971            0               0  ...                         0   \n",
       "8467             0               1  ...                         1   \n",
       "\n",
       "       poutcome_nonexistent  poutcome_success       age  campaign  \\\n",
       "7019                      1                 0 -0.877019  0.646930   \n",
       "27175                     1                 0  1.084499  0.213946   \n",
       "15817                     1                 0 -0.092412  0.213946   \n",
       "40971                     0                 0  2.751789  0.646930   \n",
       "8467                      1                 0 -0.288564  0.213946   \n",
       "\n",
       "       emp.var.rate  cons.price.idx  cons.conf.idx  euribor3m  nr.employed  \n",
       "7019       0.649758        0.723298       0.891826   0.715448     0.333618  \n",
       "27175     -0.114599       -0.650827      -0.319720   0.231937     0.400051  \n",
       "15817      0.840847        0.591769      -0.471164   0.773077     0.847088  \n",
       "40971     -0.751563        1.773794      -1.942327  -1.509050    -2.813633  \n",
       "8467       0.840847        1.538427      -0.276451   0.717753     0.847088  \n",
       "\n",
       "[5 rows x 51 columns]"
      ]
     },
     "execution_count": 172,
     "metadata": {},
     "output_type": "execute_result"
    }
   ],
   "source": [
    "X_train.head()"
   ]
  },
  {
   "cell_type": "code",
   "execution_count": 173,
   "metadata": {},
   "outputs": [],
   "source": [
    "# Standardisation continuous features for X_train\n",
    "X_test_df = X_test[['age','campaign','emp.var.rate','cons.price.idx','cons.conf.idx','euribor3m','nr.employed']]"
   ]
  },
  {
   "cell_type": "code",
   "execution_count": 174,
   "metadata": {},
   "outputs": [],
   "source": [
    "std_X_test_df=(X_test_df-X_test_df.mean())/X_test_df.std()"
   ]
  },
  {
   "cell_type": "code",
   "execution_count": 175,
   "metadata": {},
   "outputs": [],
   "source": [
    "X_test = X_test.drop(['age','campaign','emp.var.rate','cons.price.idx','cons.conf.idx','euribor3m','nr.employed'], 1)"
   ]
  },
  {
   "cell_type": "code",
   "execution_count": 176,
   "metadata": {},
   "outputs": [],
   "source": [
    "X_test = pd.concat([X_test,std_X_test_df],axis=1)"
   ]
  },
  {
   "cell_type": "markdown",
   "metadata": {},
   "source": [
    "#### So,we'll create the same column of prospectId in the test data as well now,as done for the train data :"
   ]
  },
  {
   "cell_type": "code",
   "execution_count": 177,
   "metadata": {},
   "outputs": [],
   "source": [
    "X_test_copy = X_test.copy() # Creating a copy of X_test,for future use,as well as precaution."
   ]
  },
  {
   "cell_type": "code",
   "execution_count": 178,
   "metadata": {},
   "outputs": [
    {
     "data": {
      "text/html": [
       "<div>\n",
       "<style scoped>\n",
       "    .dataframe tbody tr th:only-of-type {\n",
       "        vertical-align: middle;\n",
       "    }\n",
       "\n",
       "    .dataframe tbody tr th {\n",
       "        vertical-align: top;\n",
       "    }\n",
       "\n",
       "    .dataframe thead th {\n",
       "        text-align: right;\n",
       "    }\n",
       "</style>\n",
       "<table border=\"1\" class=\"dataframe\">\n",
       "  <thead>\n",
       "    <tr style=\"text-align: right;\">\n",
       "      <th></th>\n",
       "      <th>duration</th>\n",
       "      <th>job_blue-collar</th>\n",
       "      <th>job_entrepreneur</th>\n",
       "      <th>job_housemaid</th>\n",
       "      <th>job_management</th>\n",
       "      <th>job_retired</th>\n",
       "      <th>job_self-employed</th>\n",
       "      <th>job_services</th>\n",
       "      <th>job_student</th>\n",
       "      <th>job_technician</th>\n",
       "      <th>...</th>\n",
       "      <th>previous_Never contacted</th>\n",
       "      <th>poutcome_nonexistent</th>\n",
       "      <th>poutcome_success</th>\n",
       "      <th>age</th>\n",
       "      <th>campaign</th>\n",
       "      <th>emp.var.rate</th>\n",
       "      <th>cons.price.idx</th>\n",
       "      <th>cons.conf.idx</th>\n",
       "      <th>euribor3m</th>\n",
       "      <th>nr.employed</th>\n",
       "    </tr>\n",
       "  </thead>\n",
       "  <tbody>\n",
       "    <tr>\n",
       "      <td>33148</td>\n",
       "      <td>52</td>\n",
       "      <td>0</td>\n",
       "      <td>0</td>\n",
       "      <td>0</td>\n",
       "      <td>0</td>\n",
       "      <td>0</td>\n",
       "      <td>0</td>\n",
       "      <td>0</td>\n",
       "      <td>0</td>\n",
       "      <td>0</td>\n",
       "      <td>...</td>\n",
       "      <td>1</td>\n",
       "      <td>1</td>\n",
       "      <td>0</td>\n",
       "      <td>-1.182984</td>\n",
       "      <td>-0.651460</td>\n",
       "      <td>-1.199007</td>\n",
       "      <td>-1.172918</td>\n",
       "      <td>-1.237193</td>\n",
       "      <td>-1.348603</td>\n",
       "      <td>-0.944859</td>\n",
       "    </tr>\n",
       "    <tr>\n",
       "      <td>27585</td>\n",
       "      <td>407</td>\n",
       "      <td>0</td>\n",
       "      <td>0</td>\n",
       "      <td>0</td>\n",
       "      <td>0</td>\n",
       "      <td>0</td>\n",
       "      <td>0</td>\n",
       "      <td>0</td>\n",
       "      <td>0</td>\n",
       "      <td>1</td>\n",
       "      <td>...</td>\n",
       "      <td>1</td>\n",
       "      <td>1</td>\n",
       "      <td>0</td>\n",
       "      <td>0.100062</td>\n",
       "      <td>0.663413</td>\n",
       "      <td>-0.118526</td>\n",
       "      <td>-0.644728</td>\n",
       "      <td>-0.332420</td>\n",
       "      <td>0.226981</td>\n",
       "      <td>0.393573</td>\n",
       "    </tr>\n",
       "    <tr>\n",
       "      <td>15722</td>\n",
       "      <td>177</td>\n",
       "      <td>1</td>\n",
       "      <td>0</td>\n",
       "      <td>0</td>\n",
       "      <td>0</td>\n",
       "      <td>0</td>\n",
       "      <td>0</td>\n",
       "      <td>0</td>\n",
       "      <td>0</td>\n",
       "      <td>0</td>\n",
       "      <td>...</td>\n",
       "      <td>1</td>\n",
       "      <td>1</td>\n",
       "      <td>0</td>\n",
       "      <td>-0.590809</td>\n",
       "      <td>-0.651460</td>\n",
       "      <td>0.834840</td>\n",
       "      <td>0.590583</td>\n",
       "      <td>-0.483215</td>\n",
       "      <td>0.768913</td>\n",
       "      <td>0.840640</td>\n",
       "    </tr>\n",
       "    <tr>\n",
       "      <td>40349</td>\n",
       "      <td>187</td>\n",
       "      <td>0</td>\n",
       "      <td>0</td>\n",
       "      <td>0</td>\n",
       "      <td>0</td>\n",
       "      <td>0</td>\n",
       "      <td>0</td>\n",
       "      <td>0</td>\n",
       "      <td>0</td>\n",
       "      <td>0</td>\n",
       "      <td>...</td>\n",
       "      <td>0</td>\n",
       "      <td>0</td>\n",
       "      <td>1</td>\n",
       "      <td>-1.182984</td>\n",
       "      <td>-0.213169</td>\n",
       "      <td>-1.135450</td>\n",
       "      <td>0.778116</td>\n",
       "      <td>0.464642</td>\n",
       "      <td>-1.574841</td>\n",
       "      <td>-2.432774</td>\n",
       "    </tr>\n",
       "    <tr>\n",
       "      <td>2576</td>\n",
       "      <td>165</td>\n",
       "      <td>0</td>\n",
       "      <td>0</td>\n",
       "      <td>0</td>\n",
       "      <td>0</td>\n",
       "      <td>0</td>\n",
       "      <td>0</td>\n",
       "      <td>1</td>\n",
       "      <td>0</td>\n",
       "      <td>0</td>\n",
       "      <td>...</td>\n",
       "      <td>1</td>\n",
       "      <td>1</td>\n",
       "      <td>0</td>\n",
       "      <td>1.481803</td>\n",
       "      <td>-0.213169</td>\n",
       "      <td>0.644167</td>\n",
       "      <td>0.721340</td>\n",
       "      <td>0.873944</td>\n",
       "      <td>0.708890</td>\n",
       "      <td>0.327136</td>\n",
       "    </tr>\n",
       "  </tbody>\n",
       "</table>\n",
       "<p>5 rows × 51 columns</p>\n",
       "</div>"
      ],
      "text/plain": [
       "       duration  job_blue-collar  job_entrepreneur  job_housemaid  \\\n",
       "33148        52                0                 0              0   \n",
       "27585       407                0                 0              0   \n",
       "15722       177                1                 0              0   \n",
       "40349       187                0                 0              0   \n",
       "2576        165                0                 0              0   \n",
       "\n",
       "       job_management  job_retired  job_self-employed  job_services  \\\n",
       "33148               0            0                  0             0   \n",
       "27585               0            0                  0             0   \n",
       "15722               0            0                  0             0   \n",
       "40349               0            0                  0             0   \n",
       "2576                0            0                  0             1   \n",
       "\n",
       "       job_student  job_technician  ...  previous_Never contacted  \\\n",
       "33148            0               0  ...                         1   \n",
       "27585            0               1  ...                         1   \n",
       "15722            0               0  ...                         1   \n",
       "40349            0               0  ...                         0   \n",
       "2576             0               0  ...                         1   \n",
       "\n",
       "       poutcome_nonexistent  poutcome_success       age  campaign  \\\n",
       "33148                     1                 0 -1.182984 -0.651460   \n",
       "27585                     1                 0  0.100062  0.663413   \n",
       "15722                     1                 0 -0.590809 -0.651460   \n",
       "40349                     0                 1 -1.182984 -0.213169   \n",
       "2576                      1                 0  1.481803 -0.213169   \n",
       "\n",
       "       emp.var.rate  cons.price.idx  cons.conf.idx  euribor3m  nr.employed  \n",
       "33148     -1.199007       -1.172918      -1.237193  -1.348603    -0.944859  \n",
       "27585     -0.118526       -0.644728      -0.332420   0.226981     0.393573  \n",
       "15722      0.834840        0.590583      -0.483215   0.768913     0.840640  \n",
       "40349     -1.135450        0.778116       0.464642  -1.574841    -2.432774  \n",
       "2576       0.644167        0.721340       0.873944   0.708890     0.327136  \n",
       "\n",
       "[5 rows x 51 columns]"
      ]
     },
     "execution_count": 178,
     "metadata": {},
     "output_type": "execute_result"
    }
   ],
   "source": [
    "X_test.head()"
   ]
  },
  {
   "cell_type": "markdown",
   "metadata": {},
   "source": [
    "### 2) Build a logistic regression model without using the variable 'duration' :"
   ]
  },
  {
   "cell_type": "markdown",
   "metadata": {},
   "source": [
    "#### Hence,to build this logistic regression model,we'll have to drop the variable 'duration'  :"
   ]
  },
  {
   "cell_type": "code",
   "execution_count": 179,
   "metadata": {},
   "outputs": [],
   "source": [
    "X_train = X_train.drop(['duration'],axis=1)\n",
    "X_test = X_test.drop(['duration'],axis=1)"
   ]
  },
  {
   "cell_type": "markdown",
   "metadata": {},
   "source": [
    "### Modelling\n",
    "\n",
    "Now that the data preparation step is complete, we will jump straight into modelling\n",
    "We will only one model,as per the problem statement :\n",
    "\n",
    "- Logistic Regression"
   ]
  },
  {
   "cell_type": "markdown",
   "metadata": {},
   "source": [
    "#### Logistic Regression"
   ]
  },
  {
   "cell_type": "code",
   "execution_count": 180,
   "metadata": {},
   "outputs": [],
   "source": [
    "import statsmodels.api as sm"
   ]
  },
  {
   "cell_type": "code",
   "execution_count": 181,
   "metadata": {},
   "outputs": [],
   "source": [
    "# Importing LogisticRegression and metrics from sklearn library\n",
    "from sklearn.linear_model import LogisticRegression\n",
    "from sklearn import metrics"
   ]
  },
  {
   "cell_type": "code",
   "execution_count": 182,
   "metadata": {},
   "outputs": [
    {
     "data": {
      "text/plain": [
       "LogisticRegression(C=1.0, class_weight=None, dual=False, fit_intercept=True,\n",
       "                   intercept_scaling=1, l1_ratio=None, max_iter=100,\n",
       "                   multi_class='auto', n_jobs=None, penalty='l2',\n",
       "                   random_state=None, solver='lbfgs', tol=0.0001, verbose=0,\n",
       "                   warm_start=False)"
      ]
     },
     "execution_count": 182,
     "metadata": {},
     "output_type": "execute_result"
    }
   ],
   "source": [
    "# Fitting the model\n",
    "logreg = LogisticRegression()\n",
    "logreg.fit(X_train, y_train)"
   ]
  },
  {
   "cell_type": "code",
   "execution_count": 183,
   "metadata": {
    "scrolled": true
   },
   "outputs": [
    {
     "data": {
      "text/html": [
       "<table class=\"simpletable\">\n",
       "<caption>Generalized Linear Model Regression Results</caption>\n",
       "<tr>\n",
       "  <th>Dep. Variable:</th>       <td>response</td>     <th>  No. Observations:  </th>  <td> 28831</td> \n",
       "</tr>\n",
       "<tr>\n",
       "  <th>Model:</th>                  <td>GLM</td>       <th>  Df Residuals:      </th>  <td> 28782</td> \n",
       "</tr>\n",
       "<tr>\n",
       "  <th>Model Family:</th>        <td>Binomial</td>     <th>  Df Model:          </th>  <td>    48</td> \n",
       "</tr>\n",
       "<tr>\n",
       "  <th>Link Function:</th>         <td>logit</td>      <th>  Scale:             </th> <td>  1.0000</td>\n",
       "</tr>\n",
       "<tr>\n",
       "  <th>Method:</th>                <td>IRLS</td>       <th>  Log-Likelihood:    </th> <td> -7933.3</td>\n",
       "</tr>\n",
       "<tr>\n",
       "  <th>Date:</th>            <td>Thu, 27 Feb 2020</td> <th>  Deviance:          </th> <td>  15867.</td>\n",
       "</tr>\n",
       "<tr>\n",
       "  <th>Time:</th>                <td>20:09:49</td>     <th>  Pearson chi2:      </th> <td>2.92e+04</td>\n",
       "</tr>\n",
       "<tr>\n",
       "  <th>No. Iterations:</th>         <td>19</td>        <th>                     </th>     <td> </td>   \n",
       "</tr>\n",
       "<tr>\n",
       "  <th>Covariance Type:</th>     <td>nonrobust</td>    <th>                     </th>     <td> </td>   \n",
       "</tr>\n",
       "</table>\n",
       "<table class=\"simpletable\">\n",
       "<tr>\n",
       "                 <td></td>                    <th>coef</th>     <th>std err</th>      <th>z</th>      <th>P>|z|</th>  <th>[0.025</th>    <th>0.975]</th>  \n",
       "</tr>\n",
       "<tr>\n",
       "  <th>const</th>                           <td>   -1.6435</td> <td>    0.284</td> <td>   -5.777</td> <td> 0.000</td> <td>   -2.201</td> <td>   -1.086</td>\n",
       "</tr>\n",
       "<tr>\n",
       "  <th>job_blue-collar</th>                 <td>   -0.1547</td> <td>    0.083</td> <td>   -1.873</td> <td> 0.061</td> <td>   -0.317</td> <td>    0.007</td>\n",
       "</tr>\n",
       "<tr>\n",
       "  <th>job_entrepreneur</th>                <td>   -0.2347</td> <td>    0.132</td> <td>   -1.776</td> <td> 0.076</td> <td>   -0.494</td> <td>    0.024</td>\n",
       "</tr>\n",
       "<tr>\n",
       "  <th>job_housemaid</th>                   <td>    0.0296</td> <td>    0.148</td> <td>    0.201</td> <td> 0.841</td> <td>   -0.260</td> <td>    0.319</td>\n",
       "</tr>\n",
       "<tr>\n",
       "  <th>job_management</th>                  <td>   -0.1551</td> <td>    0.092</td> <td>   -1.690</td> <td> 0.091</td> <td>   -0.335</td> <td>    0.025</td>\n",
       "</tr>\n",
       "<tr>\n",
       "  <th>job_retired</th>                     <td>    0.2281</td> <td>    0.110</td> <td>    2.071</td> <td> 0.038</td> <td>    0.012</td> <td>    0.444</td>\n",
       "</tr>\n",
       "<tr>\n",
       "  <th>job_self-employed</th>               <td>   -0.0586</td> <td>    0.121</td> <td>   -0.483</td> <td> 0.629</td> <td>   -0.297</td> <td>    0.179</td>\n",
       "</tr>\n",
       "<tr>\n",
       "  <th>job_services</th>                    <td>   -0.0573</td> <td>    0.088</td> <td>   -0.649</td> <td> 0.516</td> <td>   -0.230</td> <td>    0.116</td>\n",
       "</tr>\n",
       "<tr>\n",
       "  <th>job_student</th>                     <td>    0.2777</td> <td>    0.120</td> <td>    2.324</td> <td> 0.020</td> <td>    0.043</td> <td>    0.512</td>\n",
       "</tr>\n",
       "<tr>\n",
       "  <th>job_technician</th>                  <td>   -0.0158</td> <td>    0.075</td> <td>   -0.211</td> <td> 0.833</td> <td>   -0.162</td> <td>    0.131</td>\n",
       "</tr>\n",
       "<tr>\n",
       "  <th>job_unemployed</th>                  <td>   -0.0249</td> <td>    0.134</td> <td>   -0.186</td> <td> 0.853</td> <td>   -0.288</td> <td>    0.238</td>\n",
       "</tr>\n",
       "<tr>\n",
       "  <th>job_unknown</th>                     <td>   -0.0977</td> <td>    0.241</td> <td>   -0.406</td> <td> 0.685</td> <td>   -0.569</td> <td>    0.374</td>\n",
       "</tr>\n",
       "<tr>\n",
       "  <th>marital_married</th>                 <td>    0.0546</td> <td>    0.072</td> <td>    0.761</td> <td> 0.446</td> <td>   -0.086</td> <td>    0.195</td>\n",
       "</tr>\n",
       "<tr>\n",
       "  <th>marital_single</th>                  <td>    0.1182</td> <td>    0.082</td> <td>    1.444</td> <td> 0.149</td> <td>   -0.042</td> <td>    0.279</td>\n",
       "</tr>\n",
       "<tr>\n",
       "  <th>education_Secondary_Education</th>   <td>    0.0322</td> <td>    0.072</td> <td>    0.447</td> <td> 0.655</td> <td>   -0.109</td> <td>    0.174</td>\n",
       "</tr>\n",
       "<tr>\n",
       "  <th>education_Tertiary_Education</th>    <td>    0.1214</td> <td>    0.073</td> <td>    1.663</td> <td> 0.096</td> <td>   -0.022</td> <td>    0.265</td>\n",
       "</tr>\n",
       "<tr>\n",
       "  <th>education_professional.course</th>   <td>    0.0775</td> <td>    0.086</td> <td>    0.902</td> <td> 0.367</td> <td>   -0.091</td> <td>    0.246</td>\n",
       "</tr>\n",
       "<tr>\n",
       "  <th>education_unknown</th>               <td>    0.1810</td> <td>    0.109</td> <td>    1.663</td> <td> 0.096</td> <td>   -0.032</td> <td>    0.394</td>\n",
       "</tr>\n",
       "<tr>\n",
       "  <th>default_unknown</th>                 <td>   -0.2785</td> <td>    0.070</td> <td>   -4.003</td> <td> 0.000</td> <td>   -0.415</td> <td>   -0.142</td>\n",
       "</tr>\n",
       "<tr>\n",
       "  <th>default_yes</th>                     <td>  -17.5533</td> <td> 1.25e+04</td> <td>   -0.001</td> <td> 0.999</td> <td>-2.45e+04</td> <td> 2.45e+04</td>\n",
       "</tr>\n",
       "<tr>\n",
       "  <th>housing_unknown</th>                 <td>   -0.0493</td> <td>    0.071</td> <td>   -0.693</td> <td> 0.489</td> <td>   -0.189</td> <td>    0.090</td>\n",
       "</tr>\n",
       "<tr>\n",
       "  <th>housing_yes</th>                     <td>   -0.0349</td> <td>    0.043</td> <td>   -0.809</td> <td> 0.419</td> <td>   -0.120</td> <td>    0.050</td>\n",
       "</tr>\n",
       "<tr>\n",
       "  <th>loan_unknown</th>                    <td>   -0.0493</td> <td>    0.071</td> <td>   -0.693</td> <td> 0.489</td> <td>   -0.189</td> <td>    0.090</td>\n",
       "</tr>\n",
       "<tr>\n",
       "  <th>loan_yes</th>                        <td>    0.0121</td> <td>    0.059</td> <td>    0.203</td> <td> 0.839</td> <td>   -0.104</td> <td>    0.128</td>\n",
       "</tr>\n",
       "<tr>\n",
       "  <th>contact_telephone</th>               <td>   -0.6338</td> <td>    0.079</td> <td>   -8.055</td> <td> 0.000</td> <td>   -0.788</td> <td>   -0.480</td>\n",
       "</tr>\n",
       "<tr>\n",
       "  <th>month_aug</th>                       <td>    0.4285</td> <td>    0.128</td> <td>    3.346</td> <td> 0.001</td> <td>    0.178</td> <td>    0.679</td>\n",
       "</tr>\n",
       "<tr>\n",
       "  <th>month_dec</th>                       <td>    0.2895</td> <td>    0.226</td> <td>    1.282</td> <td> 0.200</td> <td>   -0.153</td> <td>    0.732</td>\n",
       "</tr>\n",
       "<tr>\n",
       "  <th>month_jul</th>                       <td>   -0.0148</td> <td>    0.100</td> <td>   -0.148</td> <td> 0.882</td> <td>   -0.211</td> <td>    0.181</td>\n",
       "</tr>\n",
       "<tr>\n",
       "  <th>month_jun</th>                       <td>   -0.6888</td> <td>    0.132</td> <td>   -5.235</td> <td> 0.000</td> <td>   -0.947</td> <td>   -0.431</td>\n",
       "</tr>\n",
       "<tr>\n",
       "  <th>month_mar</th>                       <td>    1.4622</td> <td>    0.155</td> <td>    9.461</td> <td> 0.000</td> <td>    1.159</td> <td>    1.765</td>\n",
       "</tr>\n",
       "<tr>\n",
       "  <th>month_may</th>                       <td>   -0.4262</td> <td>    0.086</td> <td>   -4.960</td> <td> 0.000</td> <td>   -0.595</td> <td>   -0.258</td>\n",
       "</tr>\n",
       "<tr>\n",
       "  <th>month_nov</th>                       <td>   -0.4562</td> <td>    0.125</td> <td>   -3.659</td> <td> 0.000</td> <td>   -0.701</td> <td>   -0.212</td>\n",
       "</tr>\n",
       "<tr>\n",
       "  <th>month_oct</th>                       <td>   -0.0248</td> <td>    0.160</td> <td>   -0.155</td> <td> 0.877</td> <td>   -0.338</td> <td>    0.288</td>\n",
       "</tr>\n",
       "<tr>\n",
       "  <th>month_sep</th>                       <td>    0.3571</td> <td>    0.189</td> <td>    1.893</td> <td> 0.058</td> <td>   -0.013</td> <td>    0.727</td>\n",
       "</tr>\n",
       "<tr>\n",
       "  <th>day_of_week_mon</th>                 <td>   -0.2045</td> <td>    0.070</td> <td>   -2.934</td> <td> 0.003</td> <td>   -0.341</td> <td>   -0.068</td>\n",
       "</tr>\n",
       "<tr>\n",
       "  <th>day_of_week_thu</th>                 <td>    0.1322</td> <td>    0.067</td> <td>    1.979</td> <td> 0.048</td> <td>    0.001</td> <td>    0.263</td>\n",
       "</tr>\n",
       "<tr>\n",
       "  <th>day_of_week_tue</th>                 <td>    0.0983</td> <td>    0.069</td> <td>    1.426</td> <td> 0.154</td> <td>   -0.037</td> <td>    0.233</td>\n",
       "</tr>\n",
       "<tr>\n",
       "  <th>day_of_week_wed</th>                 <td>    0.2016</td> <td>    0.068</td> <td>    2.962</td> <td> 0.003</td> <td>    0.068</td> <td>    0.335</td>\n",
       "</tr>\n",
       "<tr>\n",
       "  <th>pdays_Contacted_in_first_10days</th> <td>    0.0338</td> <td>    0.205</td> <td>    0.165</td> <td> 0.869</td> <td>   -0.367</td> <td>    0.435</td>\n",
       "</tr>\n",
       "<tr>\n",
       "  <th>pdays_First_time_contacted</th>      <td>   -0.9797</td> <td>    0.253</td> <td>   -3.878</td> <td> 0.000</td> <td>   -1.475</td> <td>   -0.485</td>\n",
       "</tr>\n",
       "<tr>\n",
       "  <th>previous_More than_3_times</th>      <td>   -0.2902</td> <td>    0.285</td> <td>   -1.020</td> <td> 0.308</td> <td>   -0.848</td> <td>    0.268</td>\n",
       "</tr>\n",
       "<tr>\n",
       "  <th>previous_Never contacted</th>        <td>    0.2489</td> <td>    0.034</td> <td>    7.352</td> <td> 0.000</td> <td>    0.183</td> <td>    0.315</td>\n",
       "</tr>\n",
       "<tr>\n",
       "  <th>poutcome_nonexistent</th>            <td>    0.2489</td> <td>    0.034</td> <td>    7.352</td> <td> 0.000</td> <td>    0.183</td> <td>    0.315</td>\n",
       "</tr>\n",
       "<tr>\n",
       "  <th>poutcome_success</th>                <td>    0.8247</td> <td>    0.227</td> <td>    3.626</td> <td> 0.000</td> <td>    0.379</td> <td>    1.270</td>\n",
       "</tr>\n",
       "<tr>\n",
       "  <th>age</th>                             <td>    0.0214</td> <td>    0.027</td> <td>    0.808</td> <td> 0.419</td> <td>   -0.031</td> <td>    0.073</td>\n",
       "</tr>\n",
       "<tr>\n",
       "  <th>campaign</th>                        <td>   -0.0913</td> <td>    0.027</td> <td>   -3.372</td> <td> 0.001</td> <td>   -0.144</td> <td>   -0.038</td>\n",
       "</tr>\n",
       "<tr>\n",
       "  <th>emp.var.rate</th>                    <td>   -2.4543</td> <td>    0.229</td> <td>  -10.699</td> <td> 0.000</td> <td>   -2.904</td> <td>   -2.005</td>\n",
       "</tr>\n",
       "<tr>\n",
       "  <th>cons.price.idx</th>                  <td>    1.2152</td> <td>    0.149</td> <td>    8.133</td> <td> 0.000</td> <td>    0.922</td> <td>    1.508</td>\n",
       "</tr>\n",
       "<tr>\n",
       "  <th>cons.conf.idx</th>                   <td>    0.1267</td> <td>    0.038</td> <td>    3.306</td> <td> 0.001</td> <td>    0.052</td> <td>    0.202</td>\n",
       "</tr>\n",
       "<tr>\n",
       "  <th>euribor3m</th>                       <td>    0.4217</td> <td>    0.235</td> <td>    1.792</td> <td> 0.073</td> <td>   -0.039</td> <td>    0.883</td>\n",
       "</tr>\n",
       "<tr>\n",
       "  <th>nr.employed</th>                     <td>    0.5140</td> <td>    0.231</td> <td>    2.222</td> <td> 0.026</td> <td>    0.061</td> <td>    0.967</td>\n",
       "</tr>\n",
       "</table>"
      ],
      "text/plain": [
       "<class 'statsmodels.iolib.summary.Summary'>\n",
       "\"\"\"\n",
       "                 Generalized Linear Model Regression Results                  \n",
       "==============================================================================\n",
       "Dep. Variable:               response   No. Observations:                28831\n",
       "Model:                            GLM   Df Residuals:                    28782\n",
       "Model Family:                Binomial   Df Model:                           48\n",
       "Link Function:                  logit   Scale:                          1.0000\n",
       "Method:                          IRLS   Log-Likelihood:                -7933.3\n",
       "Date:                Thu, 27 Feb 2020   Deviance:                       15867.\n",
       "Time:                        20:09:49   Pearson chi2:                 2.92e+04\n",
       "No. Iterations:                    19                                         \n",
       "Covariance Type:            nonrobust                                         \n",
       "===================================================================================================\n",
       "                                      coef    std err          z      P>|z|      [0.025      0.975]\n",
       "---------------------------------------------------------------------------------------------------\n",
       "const                              -1.6435      0.284     -5.777      0.000      -2.201      -1.086\n",
       "job_blue-collar                    -0.1547      0.083     -1.873      0.061      -0.317       0.007\n",
       "job_entrepreneur                   -0.2347      0.132     -1.776      0.076      -0.494       0.024\n",
       "job_housemaid                       0.0296      0.148      0.201      0.841      -0.260       0.319\n",
       "job_management                     -0.1551      0.092     -1.690      0.091      -0.335       0.025\n",
       "job_retired                         0.2281      0.110      2.071      0.038       0.012       0.444\n",
       "job_self-employed                  -0.0586      0.121     -0.483      0.629      -0.297       0.179\n",
       "job_services                       -0.0573      0.088     -0.649      0.516      -0.230       0.116\n",
       "job_student                         0.2777      0.120      2.324      0.020       0.043       0.512\n",
       "job_technician                     -0.0158      0.075     -0.211      0.833      -0.162       0.131\n",
       "job_unemployed                     -0.0249      0.134     -0.186      0.853      -0.288       0.238\n",
       "job_unknown                        -0.0977      0.241     -0.406      0.685      -0.569       0.374\n",
       "marital_married                     0.0546      0.072      0.761      0.446      -0.086       0.195\n",
       "marital_single                      0.1182      0.082      1.444      0.149      -0.042       0.279\n",
       "education_Secondary_Education       0.0322      0.072      0.447      0.655      -0.109       0.174\n",
       "education_Tertiary_Education        0.1214      0.073      1.663      0.096      -0.022       0.265\n",
       "education_professional.course       0.0775      0.086      0.902      0.367      -0.091       0.246\n",
       "education_unknown                   0.1810      0.109      1.663      0.096      -0.032       0.394\n",
       "default_unknown                    -0.2785      0.070     -4.003      0.000      -0.415      -0.142\n",
       "default_yes                       -17.5533   1.25e+04     -0.001      0.999   -2.45e+04    2.45e+04\n",
       "housing_unknown                    -0.0493      0.071     -0.693      0.489      -0.189       0.090\n",
       "housing_yes                        -0.0349      0.043     -0.809      0.419      -0.120       0.050\n",
       "loan_unknown                       -0.0493      0.071     -0.693      0.489      -0.189       0.090\n",
       "loan_yes                            0.0121      0.059      0.203      0.839      -0.104       0.128\n",
       "contact_telephone                  -0.6338      0.079     -8.055      0.000      -0.788      -0.480\n",
       "month_aug                           0.4285      0.128      3.346      0.001       0.178       0.679\n",
       "month_dec                           0.2895      0.226      1.282      0.200      -0.153       0.732\n",
       "month_jul                          -0.0148      0.100     -0.148      0.882      -0.211       0.181\n",
       "month_jun                          -0.6888      0.132     -5.235      0.000      -0.947      -0.431\n",
       "month_mar                           1.4622      0.155      9.461      0.000       1.159       1.765\n",
       "month_may                          -0.4262      0.086     -4.960      0.000      -0.595      -0.258\n",
       "month_nov                          -0.4562      0.125     -3.659      0.000      -0.701      -0.212\n",
       "month_oct                          -0.0248      0.160     -0.155      0.877      -0.338       0.288\n",
       "month_sep                           0.3571      0.189      1.893      0.058      -0.013       0.727\n",
       "day_of_week_mon                    -0.2045      0.070     -2.934      0.003      -0.341      -0.068\n",
       "day_of_week_thu                     0.1322      0.067      1.979      0.048       0.001       0.263\n",
       "day_of_week_tue                     0.0983      0.069      1.426      0.154      -0.037       0.233\n",
       "day_of_week_wed                     0.2016      0.068      2.962      0.003       0.068       0.335\n",
       "pdays_Contacted_in_first_10days     0.0338      0.205      0.165      0.869      -0.367       0.435\n",
       "pdays_First_time_contacted         -0.9797      0.253     -3.878      0.000      -1.475      -0.485\n",
       "previous_More than_3_times         -0.2902      0.285     -1.020      0.308      -0.848       0.268\n",
       "previous_Never contacted            0.2489      0.034      7.352      0.000       0.183       0.315\n",
       "poutcome_nonexistent                0.2489      0.034      7.352      0.000       0.183       0.315\n",
       "poutcome_success                    0.8247      0.227      3.626      0.000       0.379       1.270\n",
       "age                                 0.0214      0.027      0.808      0.419      -0.031       0.073\n",
       "campaign                           -0.0913      0.027     -3.372      0.001      -0.144      -0.038\n",
       "emp.var.rate                       -2.4543      0.229    -10.699      0.000      -2.904      -2.005\n",
       "cons.price.idx                      1.2152      0.149      8.133      0.000       0.922       1.508\n",
       "cons.conf.idx                       0.1267      0.038      3.306      0.001       0.052       0.202\n",
       "euribor3m                           0.4217      0.235      1.792      0.073      -0.039       0.883\n",
       "nr.employed                         0.5140      0.231      2.222      0.026       0.061       0.967\n",
       "===================================================================================================\n",
       "\"\"\""
      ]
     },
     "execution_count": 183,
     "metadata": {},
     "output_type": "execute_result"
    }
   ],
   "source": [
    "# Logistic regression model\n",
    "logm1 = sm.GLM(y_train,(sm.add_constant(X_train)), family = sm.families.Binomial())\n",
    "logm1.fit().summary()"
   ]
  },
  {
   "cell_type": "code",
   "execution_count": 184,
   "metadata": {},
   "outputs": [],
   "source": [
    "from sklearn.pipeline import Pipeline\n",
    "from sklearn.decomposition import PCA\n",
    "from sklearn.metrics import confusion_matrix\n",
    "from imblearn.metrics import sensitivity_specificity_support\n",
    "from sklearn.metrics import roc_auc_score\n",
    "from sklearn.model_selection import StratifiedKFold\n",
    "from sklearn.model_selection import GridSearchCV\n",
    "from sklearn.ensemble import RandomForestClassifier\n",
    "from sklearn.metrics import classification_report"
   ]
  },
  {
   "cell_type": "markdown",
   "metadata": {},
   "source": [
    "#### Principal Component Analysis"
   ]
  },
  {
   "cell_type": "code",
   "execution_count": 185,
   "metadata": {},
   "outputs": [],
   "source": [
    "pca = PCA()\n",
    "pca.fit(X_train)\n",
    "churn_pca = pca.fit_transform(X_train)"
   ]
  },
  {
   "cell_type": "code",
   "execution_count": 186,
   "metadata": {},
   "outputs": [
    {
     "name": "stdout",
     "output_type": "stream",
     "text": [
      "0      32.80\n",
      "1      43.59\n",
      "2      52.43\n",
      "3      60.59\n",
      "4      66.34\n",
      "5      69.65\n",
      "6      72.24\n",
      "7      74.59\n",
      "8      76.82\n",
      "9      78.77\n",
      "10     80.65\n",
      "11     82.50\n",
      "12     84.31\n",
      "13     86.07\n",
      "14     87.70\n",
      "15     89.18\n",
      "16     90.44\n",
      "17     91.58\n",
      "18     92.63\n",
      "19     93.37\n",
      "20     94.08\n",
      "21     94.67\n",
      "22     95.19\n",
      "23     95.70\n",
      "24     96.16\n",
      "25     96.57\n",
      "26     96.96\n",
      "27     97.36\n",
      "28     97.70\n",
      "29     98.01\n",
      "30     98.30\n",
      "31     98.57\n",
      "32     98.82\n",
      "33     99.04\n",
      "34     99.21\n",
      "35     99.37\n",
      "36     99.51\n",
      "37     99.63\n",
      "38     99.74\n",
      "39     99.80\n",
      "40     99.86\n",
      "41     99.89\n",
      "42     99.93\n",
      "43     99.95\n",
      "44     99.97\n",
      "45     99.99\n",
      "46    100.00\n",
      "47    100.00\n",
      "48    100.00\n",
      "49    100.00\n",
      "dtype: float64\n"
     ]
    }
   ],
   "source": [
    "print(pd.Series(np.round(pca.explained_variance_ratio_.cumsum(), 4)*100))"
   ]
  },
  {
   "cell_type": "code",
   "execution_count": 187,
   "metadata": {},
   "outputs": [
    {
     "data": {
      "text/plain": [
       "<Figure size 225x150 with 0 Axes>"
      ]
     },
     "metadata": {},
     "output_type": "display_data"
    },
    {
     "data": {
      "image/png": "[encoded data removed]",
      "text/plain": [
       "<Figure size 630x360 with 1 Axes>"
      ]
     },
     "metadata": {},
     "output_type": "display_data"
    }
   ],
   "source": [
    "# plot feature variance\n",
    "plt.figure(figsize=(15,10),dpi=15)\n",
    "sns.set(font_scale=1)\n",
    "features = range(pca.n_components_)\n",
    "cumulative_variance = np.round(np.cumsum(pca.explained_variance_ratio_)*100, decimals=4)\n",
    "plt.figure(figsize=(175/20,100/20)) # 100 elements on y-axis; 175 elements on x-axis; 20 is normalising factor\n",
    "plt.plot(cumulative_variance)\n",
    "plt.show()"
   ]
  },
  {
   "cell_type": "code",
   "execution_count": 188,
   "metadata": {},
   "outputs": [],
   "source": [
    "# create pipeline\n",
    "PCA_VARS = 16\n",
    "steps = [(\"pca\", PCA(n_components=PCA_VARS)),\n",
    "         (\"logistic\", LogisticRegression(class_weight='balanced'))\n",
    "        ]\n",
    "pipeline = Pipeline(steps)"
   ]
  },
  {
   "cell_type": "code",
   "execution_count": 189,
   "metadata": {},
   "outputs": [
    {
     "data": {
      "text/plain": [
       "0.8158926155873886"
      ]
     },
     "execution_count": 189,
     "metadata": {},
     "output_type": "execute_result"
    }
   ],
   "source": [
    "# fit model\n",
    "pipeline.fit(X_train, y_train)\n",
    "\n",
    "# check score on train data\n",
    "pipeline.score(X_train, y_train)"
   ]
  },
  {
   "cell_type": "code",
   "execution_count": 190,
   "metadata": {},
   "outputs": [
    {
     "name": "stdout",
     "output_type": "stream",
     "text": [
      "[[9151 1824]\n",
      " [ 535  847]]\n",
      "Sensitivity: \t0.61\n",
      "Specificity: \t0.83\n",
      "AUC:    \t 0.78\n"
     ]
    }
   ],
   "source": [
    "# predict churn on test data\n",
    "y_pred = pipeline.predict(X_test)\n",
    "\n",
    "# create onfusion matrix\n",
    "cm = confusion_matrix(y_test, y_pred)\n",
    "print(cm)\n",
    "\n",
    "# check sensitivity and specificity\n",
    "sensitivity, specificity, _ = sensitivity_specificity_support(y_test, y_pred, average='binary')\n",
    "print(\"Sensitivity: \\t\", round(sensitivity, 2), \"\\n\", \"Specificity: \\t\", round(specificity, 2), sep='')\n",
    "\n",
    "# check area under curve\n",
    "y_pred_prob = pipeline.predict_proba(X_test)[:, 1]\n",
    "print(\"AUC:    \\t\", round(roc_auc_score(y_test, y_pred_prob),2))"
   ]
  },
  {
   "cell_type": "code",
   "execution_count": 191,
   "metadata": {},
   "outputs": [
    {
     "data": {
      "text/plain": [
       "0    0.886997\n",
       "1    0.113003\n",
       "Name: response, dtype: float64"
      ]
     },
     "execution_count": 191,
     "metadata": {},
     "output_type": "execute_result"
    }
   ],
   "source": [
    "# class imbalance\n",
    "y_train.value_counts()/y_train.shape"
   ]
  },
  {
   "cell_type": "code",
   "execution_count": 192,
   "metadata": {},
   "outputs": [],
   "source": [
    "# PCA\n",
    "pca = PCA()\n",
    "\n",
    "# logistic regression - the class weight is used to handle class imbalance - it adjusts the cost function\n",
    "logistic = LogisticRegression(class_weight='balanced')\n",
    "\n",
    "# create pipeline\n",
    "steps = [(\"pca\", pca),\n",
    "         (\"logistic\", logistic)\n",
    "        ]\n",
    "\n",
    "# compile pipeline\n",
    "pca_logistic = Pipeline(steps)\n",
    "\n",
    "# hyperparameter space\n",
    "params = {'pca__n_components': [16,17,18,19,20], 'logistic__C': [0.1, 0.5, 1, 2, 3, 4, 5, 10], 'logistic__penalty': ['l1', 'l2']}\n",
    "\n",
    "# create 5 folds\n",
    "folds = StratifiedKFold(n_splits = 5, shuffle = True, random_state = 4)\n",
    "\n",
    "# create gridsearch object\n",
    "model = GridSearchCV(estimator=pca_logistic, cv=folds, param_grid=params, scoring='roc_auc')"
   ]
  },
  {
   "cell_type": "code",
   "execution_count": 193,
   "metadata": {},
   "outputs": [
    {
     "data": {
      "text/plain": [
       "GridSearchCV(cv=StratifiedKFold(n_splits=5, random_state=4, shuffle=True),\n",
       "             error_score=nan,\n",
       "             estimator=Pipeline(memory=None,\n",
       "                                steps=[('pca',\n",
       "                                        PCA(copy=True, iterated_power='auto',\n",
       "                                            n_components=None,\n",
       "                                            random_state=None,\n",
       "                                            svd_solver='auto', tol=0.0,\n",
       "                                            whiten=False)),\n",
       "                                       ('logistic',\n",
       "                                        LogisticRegression(C=1.0,\n",
       "                                                           class_weight='balanced',\n",
       "                                                           dual=False,\n",
       "                                                           fit_intercept=True,\n",
       "                                                           intercept_sca...\n",
       "                                                           n_jobs=None,\n",
       "                                                           penalty='l2',\n",
       "                                                           random_state=None,\n",
       "                                                           solver='lbfgs',\n",
       "                                                           tol=0.0001,\n",
       "                                                           verbose=0,\n",
       "                                                           warm_start=False))],\n",
       "                                verbose=False),\n",
       "             iid='deprecated', n_jobs=None,\n",
       "             param_grid={'logistic__C': [0.1, 0.5, 1, 2, 3, 4, 5, 10],\n",
       "                         'logistic__penalty': ['l1', 'l2'],\n",
       "                         'pca__n_components': [16, 17, 18, 19, 20]},\n",
       "             pre_dispatch='2*n_jobs', refit=True, return_train_score=False,\n",
       "             scoring='roc_auc', verbose=0)"
      ]
     },
     "execution_count": 193,
     "metadata": {},
     "output_type": "execute_result"
    }
   ],
   "source": [
    "# fit model\n",
    "model.fit(X_train, y_train)"
   ]
  },
  {
   "cell_type": "code",
   "execution_count": 194,
   "metadata": {},
   "outputs": [
    {
     "name": "stdout",
     "output_type": "stream",
     "text": [
      "Best AUC:  0.7851169659417756\n",
      "Best hyperparameters:  {'logistic__C': 4, 'logistic__penalty': 'l2', 'pca__n_components': 16}\n"
     ]
    }
   ],
   "source": [
    "# print best hyperparameters\n",
    "print(\"Best AUC: \", model.best_score_)\n",
    "print(\"Best hyperparameters: \", model.best_params_)"
   ]
  },
  {
   "cell_type": "code",
   "execution_count": 195,
   "metadata": {},
   "outputs": [
    {
     "name": "stdout",
     "output_type": "stream",
     "text": [
      "[[9151 1824]\n",
      " [ 535  847]]\n",
      "Sensitivity: \t0.61\n",
      "Specificity: \t0.83\n",
      "AUC:    \t 0.78\n"
     ]
    }
   ],
   "source": [
    "# predict churn on test data\n",
    "y_pred = model.predict(X_test)\n",
    "\n",
    "# create onfusion matrix\n",
    "cm = confusion_matrix(y_test, y_pred)\n",
    "print(cm)\n",
    "\n",
    "# check sensitivity and specificity\n",
    "sensitivity, specificity, _ = sensitivity_specificity_support(y_test, y_pred, average='binary')\n",
    "print(\"Sensitivity: \\t\", round(sensitivity, 2), \"\\n\", \"Specificity: \\t\", round(specificity, 2), sep='')\n",
    "\n",
    "# check area under curve\n",
    "y_pred_prob = model.predict_proba(X_test)[:, 1]\n",
    "print(\"AUC:    \\t\", round(roc_auc_score(y_test, y_pred_prob),2))"
   ]
  },
  {
   "cell_type": "code",
   "execution_count": 196,
   "metadata": {},
   "outputs": [
    {
     "name": "stdout",
     "output_type": "stream",
     "text": [
      "              precision    recall  f1-score   support\n",
      "\n",
      "           0       0.94      0.83      0.89     10975\n",
      "           1       0.32      0.61      0.42      1382\n",
      "\n",
      "    accuracy                           0.81     12357\n",
      "   macro avg       0.63      0.72      0.65     12357\n",
      "weighted avg       0.87      0.81      0.83     12357\n",
      "\n"
     ]
    }
   ],
   "source": [
    "print(classification_report(y_test,y_pred))"
   ]
  },
  {
   "cell_type": "code",
   "execution_count": 197,
   "metadata": {},
   "outputs": [
    {
     "data": {
      "text/plain": [
       "28831"
      ]
     },
     "execution_count": 197,
     "metadata": {},
     "output_type": "execute_result"
    }
   ],
   "source": [
    "len(churn_pca)"
   ]
  },
  {
   "cell_type": "code",
   "execution_count": 198,
   "metadata": {},
   "outputs": [
    {
     "data": {
      "text/html": [
       "<div>\n",
       "<style scoped>\n",
       "    .dataframe tbody tr th:only-of-type {\n",
       "        vertical-align: middle;\n",
       "    }\n",
       "\n",
       "    .dataframe tbody tr th {\n",
       "        vertical-align: top;\n",
       "    }\n",
       "\n",
       "    .dataframe thead th {\n",
       "        text-align: right;\n",
       "    }\n",
       "</style>\n",
       "<table border=\"1\" class=\"dataframe\">\n",
       "  <thead>\n",
       "    <tr style=\"text-align: right;\">\n",
       "      <th></th>\n",
       "      <th>job_blue-collar</th>\n",
       "      <th>job_entrepreneur</th>\n",
       "      <th>job_housemaid</th>\n",
       "      <th>job_management</th>\n",
       "      <th>job_retired</th>\n",
       "      <th>job_self-employed</th>\n",
       "      <th>job_services</th>\n",
       "      <th>job_student</th>\n",
       "      <th>job_technician</th>\n",
       "      <th>job_unemployed</th>\n",
       "      <th>...</th>\n",
       "      <th>previous_Never contacted</th>\n",
       "      <th>poutcome_nonexistent</th>\n",
       "      <th>poutcome_success</th>\n",
       "      <th>age</th>\n",
       "      <th>campaign</th>\n",
       "      <th>emp.var.rate</th>\n",
       "      <th>cons.price.idx</th>\n",
       "      <th>cons.conf.idx</th>\n",
       "      <th>euribor3m</th>\n",
       "      <th>nr.employed</th>\n",
       "    </tr>\n",
       "  </thead>\n",
       "  <tbody>\n",
       "    <tr>\n",
       "      <td>33148</td>\n",
       "      <td>0</td>\n",
       "      <td>0</td>\n",
       "      <td>0</td>\n",
       "      <td>0</td>\n",
       "      <td>0</td>\n",
       "      <td>0</td>\n",
       "      <td>0</td>\n",
       "      <td>0</td>\n",
       "      <td>0</td>\n",
       "      <td>0</td>\n",
       "      <td>...</td>\n",
       "      <td>1</td>\n",
       "      <td>1</td>\n",
       "      <td>0</td>\n",
       "      <td>-1.182984</td>\n",
       "      <td>-0.651460</td>\n",
       "      <td>-1.199007</td>\n",
       "      <td>-1.172918</td>\n",
       "      <td>-1.237193</td>\n",
       "      <td>-1.348603</td>\n",
       "      <td>-0.944859</td>\n",
       "    </tr>\n",
       "    <tr>\n",
       "      <td>27585</td>\n",
       "      <td>0</td>\n",
       "      <td>0</td>\n",
       "      <td>0</td>\n",
       "      <td>0</td>\n",
       "      <td>0</td>\n",
       "      <td>0</td>\n",
       "      <td>0</td>\n",
       "      <td>0</td>\n",
       "      <td>1</td>\n",
       "      <td>0</td>\n",
       "      <td>...</td>\n",
       "      <td>1</td>\n",
       "      <td>1</td>\n",
       "      <td>0</td>\n",
       "      <td>0.100062</td>\n",
       "      <td>0.663413</td>\n",
       "      <td>-0.118526</td>\n",
       "      <td>-0.644728</td>\n",
       "      <td>-0.332420</td>\n",
       "      <td>0.226981</td>\n",
       "      <td>0.393573</td>\n",
       "    </tr>\n",
       "    <tr>\n",
       "      <td>15722</td>\n",
       "      <td>1</td>\n",
       "      <td>0</td>\n",
       "      <td>0</td>\n",
       "      <td>0</td>\n",
       "      <td>0</td>\n",
       "      <td>0</td>\n",
       "      <td>0</td>\n",
       "      <td>0</td>\n",
       "      <td>0</td>\n",
       "      <td>0</td>\n",
       "      <td>...</td>\n",
       "      <td>1</td>\n",
       "      <td>1</td>\n",
       "      <td>0</td>\n",
       "      <td>-0.590809</td>\n",
       "      <td>-0.651460</td>\n",
       "      <td>0.834840</td>\n",
       "      <td>0.590583</td>\n",
       "      <td>-0.483215</td>\n",
       "      <td>0.768913</td>\n",
       "      <td>0.840640</td>\n",
       "    </tr>\n",
       "    <tr>\n",
       "      <td>40349</td>\n",
       "      <td>0</td>\n",
       "      <td>0</td>\n",
       "      <td>0</td>\n",
       "      <td>0</td>\n",
       "      <td>0</td>\n",
       "      <td>0</td>\n",
       "      <td>0</td>\n",
       "      <td>0</td>\n",
       "      <td>0</td>\n",
       "      <td>0</td>\n",
       "      <td>...</td>\n",
       "      <td>0</td>\n",
       "      <td>0</td>\n",
       "      <td>1</td>\n",
       "      <td>-1.182984</td>\n",
       "      <td>-0.213169</td>\n",
       "      <td>-1.135450</td>\n",
       "      <td>0.778116</td>\n",
       "      <td>0.464642</td>\n",
       "      <td>-1.574841</td>\n",
       "      <td>-2.432774</td>\n",
       "    </tr>\n",
       "    <tr>\n",
       "      <td>2576</td>\n",
       "      <td>0</td>\n",
       "      <td>0</td>\n",
       "      <td>0</td>\n",
       "      <td>0</td>\n",
       "      <td>0</td>\n",
       "      <td>0</td>\n",
       "      <td>1</td>\n",
       "      <td>0</td>\n",
       "      <td>0</td>\n",
       "      <td>0</td>\n",
       "      <td>...</td>\n",
       "      <td>1</td>\n",
       "      <td>1</td>\n",
       "      <td>0</td>\n",
       "      <td>1.481803</td>\n",
       "      <td>-0.213169</td>\n",
       "      <td>0.644167</td>\n",
       "      <td>0.721340</td>\n",
       "      <td>0.873944</td>\n",
       "      <td>0.708890</td>\n",
       "      <td>0.327136</td>\n",
       "    </tr>\n",
       "  </tbody>\n",
       "</table>\n",
       "<p>5 rows × 50 columns</p>\n",
       "</div>"
      ],
      "text/plain": [
       "       job_blue-collar  job_entrepreneur  job_housemaid  job_management  \\\n",
       "33148                0                 0              0               0   \n",
       "27585                0                 0              0               0   \n",
       "15722                1                 0              0               0   \n",
       "40349                0                 0              0               0   \n",
       "2576                 0                 0              0               0   \n",
       "\n",
       "       job_retired  job_self-employed  job_services  job_student  \\\n",
       "33148            0                  0             0            0   \n",
       "27585            0                  0             0            0   \n",
       "15722            0                  0             0            0   \n",
       "40349            0                  0             0            0   \n",
       "2576             0                  0             1            0   \n",
       "\n",
       "       job_technician  job_unemployed  ...  previous_Never contacted  \\\n",
       "33148               0               0  ...                         1   \n",
       "27585               1               0  ...                         1   \n",
       "15722               0               0  ...                         1   \n",
       "40349               0               0  ...                         0   \n",
       "2576                0               0  ...                         1   \n",
       "\n",
       "       poutcome_nonexistent  poutcome_success       age  campaign  \\\n",
       "33148                     1                 0 -1.182984 -0.651460   \n",
       "27585                     1                 0  0.100062  0.663413   \n",
       "15722                     1                 0 -0.590809 -0.651460   \n",
       "40349                     0                 1 -1.182984 -0.213169   \n",
       "2576                      1                 0  1.481803 -0.213169   \n",
       "\n",
       "       emp.var.rate  cons.price.idx  cons.conf.idx  euribor3m  nr.employed  \n",
       "33148     -1.199007       -1.172918      -1.237193  -1.348603    -0.944859  \n",
       "27585     -0.118526       -0.644728      -0.332420   0.226981     0.393573  \n",
       "15722      0.834840        0.590583      -0.483215   0.768913     0.840640  \n",
       "40349     -1.135450        0.778116       0.464642  -1.574841    -2.432774  \n",
       "2576       0.644167        0.721340       0.873944   0.708890     0.327136  \n",
       "\n",
       "[5 rows x 50 columns]"
      ]
     },
     "execution_count": 198,
     "metadata": {},
     "output_type": "execute_result"
    }
   ],
   "source": [
    "X_test.head()"
   ]
  },
  {
   "cell_type": "code",
   "execution_count": 199,
   "metadata": {},
   "outputs": [
    {
     "data": {
      "text/html": [
       "<div>\n",
       "<style scoped>\n",
       "    .dataframe tbody tr th:only-of-type {\n",
       "        vertical-align: middle;\n",
       "    }\n",
       "\n",
       "    .dataframe tbody tr th {\n",
       "        vertical-align: top;\n",
       "    }\n",
       "\n",
       "    .dataframe thead th {\n",
       "        text-align: right;\n",
       "    }\n",
       "</style>\n",
       "<table border=\"1\" class=\"dataframe\">\n",
       "  <thead>\n",
       "    <tr style=\"text-align: right;\">\n",
       "      <th></th>\n",
       "      <th>job_blue-collar</th>\n",
       "      <th>job_entrepreneur</th>\n",
       "      <th>job_housemaid</th>\n",
       "      <th>job_management</th>\n",
       "      <th>job_retired</th>\n",
       "      <th>job_self-employed</th>\n",
       "      <th>job_services</th>\n",
       "      <th>job_student</th>\n",
       "      <th>job_technician</th>\n",
       "      <th>job_unemployed</th>\n",
       "      <th>...</th>\n",
       "      <th>previous_Never contacted</th>\n",
       "      <th>poutcome_nonexistent</th>\n",
       "      <th>poutcome_success</th>\n",
       "      <th>age</th>\n",
       "      <th>campaign</th>\n",
       "      <th>emp.var.rate</th>\n",
       "      <th>cons.price.idx</th>\n",
       "      <th>cons.conf.idx</th>\n",
       "      <th>euribor3m</th>\n",
       "      <th>nr.employed</th>\n",
       "    </tr>\n",
       "  </thead>\n",
       "  <tbody>\n",
       "    <tr>\n",
       "      <td>7019</td>\n",
       "      <td>0</td>\n",
       "      <td>0</td>\n",
       "      <td>0</td>\n",
       "      <td>0</td>\n",
       "      <td>0</td>\n",
       "      <td>0</td>\n",
       "      <td>0</td>\n",
       "      <td>0</td>\n",
       "      <td>0</td>\n",
       "      <td>0</td>\n",
       "      <td>...</td>\n",
       "      <td>1</td>\n",
       "      <td>1</td>\n",
       "      <td>0</td>\n",
       "      <td>-0.877019</td>\n",
       "      <td>0.646930</td>\n",
       "      <td>0.649758</td>\n",
       "      <td>0.723298</td>\n",
       "      <td>0.891826</td>\n",
       "      <td>0.715448</td>\n",
       "      <td>0.333618</td>\n",
       "    </tr>\n",
       "    <tr>\n",
       "      <td>27175</td>\n",
       "      <td>0</td>\n",
       "      <td>0</td>\n",
       "      <td>0</td>\n",
       "      <td>0</td>\n",
       "      <td>0</td>\n",
       "      <td>0</td>\n",
       "      <td>0</td>\n",
       "      <td>0</td>\n",
       "      <td>1</td>\n",
       "      <td>0</td>\n",
       "      <td>...</td>\n",
       "      <td>1</td>\n",
       "      <td>1</td>\n",
       "      <td>0</td>\n",
       "      <td>1.084499</td>\n",
       "      <td>0.213946</td>\n",
       "      <td>-0.114599</td>\n",
       "      <td>-0.650827</td>\n",
       "      <td>-0.319720</td>\n",
       "      <td>0.231937</td>\n",
       "      <td>0.400051</td>\n",
       "    </tr>\n",
       "    <tr>\n",
       "      <td>15817</td>\n",
       "      <td>0</td>\n",
       "      <td>0</td>\n",
       "      <td>0</td>\n",
       "      <td>0</td>\n",
       "      <td>0</td>\n",
       "      <td>0</td>\n",
       "      <td>0</td>\n",
       "      <td>0</td>\n",
       "      <td>0</td>\n",
       "      <td>0</td>\n",
       "      <td>...</td>\n",
       "      <td>1</td>\n",
       "      <td>1</td>\n",
       "      <td>0</td>\n",
       "      <td>-0.092412</td>\n",
       "      <td>0.213946</td>\n",
       "      <td>0.840847</td>\n",
       "      <td>0.591769</td>\n",
       "      <td>-0.471164</td>\n",
       "      <td>0.773077</td>\n",
       "      <td>0.847088</td>\n",
       "    </tr>\n",
       "    <tr>\n",
       "      <td>40971</td>\n",
       "      <td>0</td>\n",
       "      <td>0</td>\n",
       "      <td>0</td>\n",
       "      <td>0</td>\n",
       "      <td>1</td>\n",
       "      <td>0</td>\n",
       "      <td>0</td>\n",
       "      <td>0</td>\n",
       "      <td>0</td>\n",
       "      <td>0</td>\n",
       "      <td>...</td>\n",
       "      <td>0</td>\n",
       "      <td>0</td>\n",
       "      <td>0</td>\n",
       "      <td>2.751789</td>\n",
       "      <td>0.646930</td>\n",
       "      <td>-0.751563</td>\n",
       "      <td>1.773794</td>\n",
       "      <td>-1.942327</td>\n",
       "      <td>-1.509050</td>\n",
       "      <td>-2.813633</td>\n",
       "    </tr>\n",
       "    <tr>\n",
       "      <td>8467</td>\n",
       "      <td>0</td>\n",
       "      <td>0</td>\n",
       "      <td>0</td>\n",
       "      <td>0</td>\n",
       "      <td>0</td>\n",
       "      <td>0</td>\n",
       "      <td>0</td>\n",
       "      <td>0</td>\n",
       "      <td>1</td>\n",
       "      <td>0</td>\n",
       "      <td>...</td>\n",
       "      <td>1</td>\n",
       "      <td>1</td>\n",
       "      <td>0</td>\n",
       "      <td>-0.288564</td>\n",
       "      <td>0.213946</td>\n",
       "      <td>0.840847</td>\n",
       "      <td>1.538427</td>\n",
       "      <td>-0.276451</td>\n",
       "      <td>0.717753</td>\n",
       "      <td>0.847088</td>\n",
       "    </tr>\n",
       "  </tbody>\n",
       "</table>\n",
       "<p>5 rows × 50 columns</p>\n",
       "</div>"
      ],
      "text/plain": [
       "       job_blue-collar  job_entrepreneur  job_housemaid  job_management  \\\n",
       "7019                 0                 0              0               0   \n",
       "27175                0                 0              0               0   \n",
       "15817                0                 0              0               0   \n",
       "40971                0                 0              0               0   \n",
       "8467                 0                 0              0               0   \n",
       "\n",
       "       job_retired  job_self-employed  job_services  job_student  \\\n",
       "7019             0                  0             0            0   \n",
       "27175            0                  0             0            0   \n",
       "15817            0                  0             0            0   \n",
       "40971            1                  0             0            0   \n",
       "8467             0                  0             0            0   \n",
       "\n",
       "       job_technician  job_unemployed  ...  previous_Never contacted  \\\n",
       "7019                0               0  ...                         1   \n",
       "27175               1               0  ...                         1   \n",
       "15817               0               0  ...                         1   \n",
       "40971               0               0  ...                         0   \n",
       "8467                1               0  ...                         1   \n",
       "\n",
       "       poutcome_nonexistent  poutcome_success       age  campaign  \\\n",
       "7019                      1                 0 -0.877019  0.646930   \n",
       "27175                     1                 0  1.084499  0.213946   \n",
       "15817                     1                 0 -0.092412  0.213946   \n",
       "40971                     0                 0  2.751789  0.646930   \n",
       "8467                      1                 0 -0.288564  0.213946   \n",
       "\n",
       "       emp.var.rate  cons.price.idx  cons.conf.idx  euribor3m  nr.employed  \n",
       "7019       0.649758        0.723298       0.891826   0.715448     0.333618  \n",
       "27175     -0.114599       -0.650827      -0.319720   0.231937     0.400051  \n",
       "15817      0.840847        0.591769      -0.471164   0.773077     0.847088  \n",
       "40971     -0.751563        1.773794      -1.942327  -1.509050    -2.813633  \n",
       "8467       0.840847        1.538427      -0.276451   0.717753     0.847088  \n",
       "\n",
       "[5 rows x 50 columns]"
      ]
     },
     "execution_count": 199,
     "metadata": {},
     "output_type": "execute_result"
    }
   ],
   "source": [
    "X_train.head()"
   ]
  },
  {
   "cell_type": "code",
   "execution_count": 200,
   "metadata": {},
   "outputs": [],
   "source": [
    "X_test['probs'] = y_pred_prob"
   ]
  },
  {
   "cell_type": "markdown",
   "metadata": {},
   "source": [
    "### - Sort the data points in decreasing order of the probability of response"
   ]
  },
  {
   "cell_type": "code",
   "execution_count": 201,
   "metadata": {},
   "outputs": [],
   "source": [
    "X_test_new = X_test.sort_values(by='probs',axis=0,ascending=False)"
   ]
  },
  {
   "cell_type": "code",
   "execution_count": 202,
   "metadata": {},
   "outputs": [
    {
     "data": {
      "text/plain": [
       "(12357, 51)"
      ]
     },
     "execution_count": 202,
     "metadata": {},
     "output_type": "execute_result"
    }
   ],
   "source": [
    "X_test_new.shape"
   ]
  },
  {
   "cell_type": "code",
   "execution_count": 203,
   "metadata": {},
   "outputs": [
    {
     "data": {
      "text/html": [
       "<div>\n",
       "<style scoped>\n",
       "    .dataframe tbody tr th:only-of-type {\n",
       "        vertical-align: middle;\n",
       "    }\n",
       "\n",
       "    .dataframe tbody tr th {\n",
       "        vertical-align: top;\n",
       "    }\n",
       "\n",
       "    .dataframe thead th {\n",
       "        text-align: right;\n",
       "    }\n",
       "</style>\n",
       "<table border=\"1\" class=\"dataframe\">\n",
       "  <thead>\n",
       "    <tr style=\"text-align: right;\">\n",
       "      <th></th>\n",
       "      <th>job_blue-collar</th>\n",
       "      <th>job_entrepreneur</th>\n",
       "      <th>job_housemaid</th>\n",
       "      <th>job_management</th>\n",
       "      <th>job_retired</th>\n",
       "      <th>job_self-employed</th>\n",
       "      <th>job_services</th>\n",
       "      <th>job_student</th>\n",
       "      <th>job_technician</th>\n",
       "      <th>job_unemployed</th>\n",
       "      <th>...</th>\n",
       "      <th>poutcome_nonexistent</th>\n",
       "      <th>poutcome_success</th>\n",
       "      <th>age</th>\n",
       "      <th>campaign</th>\n",
       "      <th>emp.var.rate</th>\n",
       "      <th>cons.price.idx</th>\n",
       "      <th>cons.conf.idx</th>\n",
       "      <th>euribor3m</th>\n",
       "      <th>nr.employed</th>\n",
       "      <th>probs</th>\n",
       "    </tr>\n",
       "  </thead>\n",
       "  <tbody>\n",
       "    <tr>\n",
       "      <td>40276</td>\n",
       "      <td>0</td>\n",
       "      <td>0</td>\n",
       "      <td>0</td>\n",
       "      <td>0</td>\n",
       "      <td>1</td>\n",
       "      <td>0</td>\n",
       "      <td>0</td>\n",
       "      <td>0</td>\n",
       "      <td>0</td>\n",
       "      <td>0</td>\n",
       "      <td>...</td>\n",
       "      <td>0</td>\n",
       "      <td>1</td>\n",
       "      <td>2.764849</td>\n",
       "      <td>-0.651460</td>\n",
       "      <td>-1.135450</td>\n",
       "      <td>1.101568</td>\n",
       "      <td>0.033798</td>\n",
       "      <td>-1.576573</td>\n",
       "      <td>-2.432774</td>\n",
       "      <td>0.950308</td>\n",
       "    </tr>\n",
       "    <tr>\n",
       "      <td>40278</td>\n",
       "      <td>0</td>\n",
       "      <td>0</td>\n",
       "      <td>0</td>\n",
       "      <td>0</td>\n",
       "      <td>0</td>\n",
       "      <td>0</td>\n",
       "      <td>0</td>\n",
       "      <td>1</td>\n",
       "      <td>0</td>\n",
       "      <td>0</td>\n",
       "      <td>...</td>\n",
       "      <td>0</td>\n",
       "      <td>1</td>\n",
       "      <td>-1.577767</td>\n",
       "      <td>-0.213169</td>\n",
       "      <td>-1.135450</td>\n",
       "      <td>1.101568</td>\n",
       "      <td>0.033798</td>\n",
       "      <td>-1.576573</td>\n",
       "      <td>-2.432774</td>\n",
       "      <td>0.950295</td>\n",
       "    </tr>\n",
       "    <tr>\n",
       "      <td>40559</td>\n",
       "      <td>0</td>\n",
       "      <td>0</td>\n",
       "      <td>0</td>\n",
       "      <td>0</td>\n",
       "      <td>0</td>\n",
       "      <td>0</td>\n",
       "      <td>0</td>\n",
       "      <td>1</td>\n",
       "      <td>0</td>\n",
       "      <td>0</td>\n",
       "      <td>...</td>\n",
       "      <td>0</td>\n",
       "      <td>1</td>\n",
       "      <td>-1.577767</td>\n",
       "      <td>-0.651460</td>\n",
       "      <td>-0.754103</td>\n",
       "      <td>1.074040</td>\n",
       "      <td>0.636980</td>\n",
       "      <td>-1.582344</td>\n",
       "      <td>-2.820324</td>\n",
       "      <td>0.949724</td>\n",
       "    </tr>\n",
       "    <tr>\n",
       "      <td>40575</td>\n",
       "      <td>0</td>\n",
       "      <td>0</td>\n",
       "      <td>0</td>\n",
       "      <td>0</td>\n",
       "      <td>1</td>\n",
       "      <td>0</td>\n",
       "      <td>0</td>\n",
       "      <td>0</td>\n",
       "      <td>0</td>\n",
       "      <td>0</td>\n",
       "      <td>...</td>\n",
       "      <td>0</td>\n",
       "      <td>1</td>\n",
       "      <td>3.060936</td>\n",
       "      <td>-0.213169</td>\n",
       "      <td>-0.754103</td>\n",
       "      <td>1.074040</td>\n",
       "      <td>0.636980</td>\n",
       "      <td>-1.582344</td>\n",
       "      <td>-2.820324</td>\n",
       "      <td>0.949423</td>\n",
       "    </tr>\n",
       "    <tr>\n",
       "      <td>40044</td>\n",
       "      <td>0</td>\n",
       "      <td>0</td>\n",
       "      <td>0</td>\n",
       "      <td>0</td>\n",
       "      <td>0</td>\n",
       "      <td>0</td>\n",
       "      <td>0</td>\n",
       "      <td>0</td>\n",
       "      <td>0</td>\n",
       "      <td>0</td>\n",
       "      <td>...</td>\n",
       "      <td>0</td>\n",
       "      <td>1</td>\n",
       "      <td>-0.985592</td>\n",
       "      <td>-0.651460</td>\n",
       "      <td>-1.135450</td>\n",
       "      <td>1.101568</td>\n",
       "      <td>0.033798</td>\n",
       "      <td>-1.633709</td>\n",
       "      <td>-2.432774</td>\n",
       "      <td>0.948713</td>\n",
       "    </tr>\n",
       "    <tr>\n",
       "      <td>40854</td>\n",
       "      <td>0</td>\n",
       "      <td>0</td>\n",
       "      <td>0</td>\n",
       "      <td>0</td>\n",
       "      <td>0</td>\n",
       "      <td>0</td>\n",
       "      <td>0</td>\n",
       "      <td>0</td>\n",
       "      <td>0</td>\n",
       "      <td>0</td>\n",
       "      <td>...</td>\n",
       "      <td>0</td>\n",
       "      <td>1</td>\n",
       "      <td>0.198757</td>\n",
       "      <td>-0.651460</td>\n",
       "      <td>-0.754103</td>\n",
       "      <td>1.074040</td>\n",
       "      <td>0.636980</td>\n",
       "      <td>-1.582344</td>\n",
       "      <td>-2.820324</td>\n",
       "      <td>0.947347</td>\n",
       "    </tr>\n",
       "    <tr>\n",
       "      <td>40731</td>\n",
       "      <td>0</td>\n",
       "      <td>0</td>\n",
       "      <td>0</td>\n",
       "      <td>0</td>\n",
       "      <td>0</td>\n",
       "      <td>0</td>\n",
       "      <td>0</td>\n",
       "      <td>1</td>\n",
       "      <td>0</td>\n",
       "      <td>0</td>\n",
       "      <td>...</td>\n",
       "      <td>0</td>\n",
       "      <td>1</td>\n",
       "      <td>-2.071246</td>\n",
       "      <td>-0.213169</td>\n",
       "      <td>-0.754103</td>\n",
       "      <td>1.074040</td>\n",
       "      <td>0.636980</td>\n",
       "      <td>-1.588115</td>\n",
       "      <td>-2.820324</td>\n",
       "      <td>0.946761</td>\n",
       "    </tr>\n",
       "    <tr>\n",
       "      <td>40652</td>\n",
       "      <td>0</td>\n",
       "      <td>0</td>\n",
       "      <td>0</td>\n",
       "      <td>0</td>\n",
       "      <td>0</td>\n",
       "      <td>0</td>\n",
       "      <td>0</td>\n",
       "      <td>0</td>\n",
       "      <td>0</td>\n",
       "      <td>0</td>\n",
       "      <td>...</td>\n",
       "      <td>0</td>\n",
       "      <td>1</td>\n",
       "      <td>0.198757</td>\n",
       "      <td>-0.651460</td>\n",
       "      <td>-0.754103</td>\n",
       "      <td>1.074040</td>\n",
       "      <td>0.636980</td>\n",
       "      <td>-1.585807</td>\n",
       "      <td>-2.820324</td>\n",
       "      <td>0.946648</td>\n",
       "    </tr>\n",
       "    <tr>\n",
       "      <td>40728</td>\n",
       "      <td>0</td>\n",
       "      <td>0</td>\n",
       "      <td>0</td>\n",
       "      <td>0</td>\n",
       "      <td>0</td>\n",
       "      <td>0</td>\n",
       "      <td>0</td>\n",
       "      <td>1</td>\n",
       "      <td>0</td>\n",
       "      <td>0</td>\n",
       "      <td>...</td>\n",
       "      <td>0</td>\n",
       "      <td>1</td>\n",
       "      <td>-1.577767</td>\n",
       "      <td>-0.213169</td>\n",
       "      <td>-0.754103</td>\n",
       "      <td>1.074040</td>\n",
       "      <td>0.636980</td>\n",
       "      <td>-1.588115</td>\n",
       "      <td>-2.820324</td>\n",
       "      <td>0.946550</td>\n",
       "    </tr>\n",
       "    <tr>\n",
       "      <td>39828</td>\n",
       "      <td>0</td>\n",
       "      <td>0</td>\n",
       "      <td>0</td>\n",
       "      <td>0</td>\n",
       "      <td>0</td>\n",
       "      <td>0</td>\n",
       "      <td>0</td>\n",
       "      <td>0</td>\n",
       "      <td>0</td>\n",
       "      <td>0</td>\n",
       "      <td>...</td>\n",
       "      <td>0</td>\n",
       "      <td>1</td>\n",
       "      <td>-1.084288</td>\n",
       "      <td>-0.651460</td>\n",
       "      <td>-1.135450</td>\n",
       "      <td>0.826290</td>\n",
       "      <td>0.141509</td>\n",
       "      <td>-1.681034</td>\n",
       "      <td>-2.432774</td>\n",
       "      <td>0.946333</td>\n",
       "    </tr>\n",
       "  </tbody>\n",
       "</table>\n",
       "<p>10 rows × 51 columns</p>\n",
       "</div>"
      ],
      "text/plain": [
       "       job_blue-collar  job_entrepreneur  job_housemaid  job_management  \\\n",
       "40276                0                 0              0               0   \n",
       "40278                0                 0              0               0   \n",
       "40559                0                 0              0               0   \n",
       "40575                0                 0              0               0   \n",
       "40044                0                 0              0               0   \n",
       "40854                0                 0              0               0   \n",
       "40731                0                 0              0               0   \n",
       "40652                0                 0              0               0   \n",
       "40728                0                 0              0               0   \n",
       "39828                0                 0              0               0   \n",
       "\n",
       "       job_retired  job_self-employed  job_services  job_student  \\\n",
       "40276            1                  0             0            0   \n",
       "40278            0                  0             0            1   \n",
       "40559            0                  0             0            1   \n",
       "40575            1                  0             0            0   \n",
       "40044            0                  0             0            0   \n",
       "40854            0                  0             0            0   \n",
       "40731            0                  0             0            1   \n",
       "40652            0                  0             0            0   \n",
       "40728            0                  0             0            1   \n",
       "39828            0                  0             0            0   \n",
       "\n",
       "       job_technician  job_unemployed  ...  poutcome_nonexistent  \\\n",
       "40276               0               0  ...                     0   \n",
       "40278               0               0  ...                     0   \n",
       "40559               0               0  ...                     0   \n",
       "40575               0               0  ...                     0   \n",
       "40044               0               0  ...                     0   \n",
       "40854               0               0  ...                     0   \n",
       "40731               0               0  ...                     0   \n",
       "40652               0               0  ...                     0   \n",
       "40728               0               0  ...                     0   \n",
       "39828               0               0  ...                     0   \n",
       "\n",
       "       poutcome_success       age  campaign  emp.var.rate  cons.price.idx  \\\n",
       "40276                 1  2.764849 -0.651460     -1.135450        1.101568   \n",
       "40278                 1 -1.577767 -0.213169     -1.135450        1.101568   \n",
       "40559                 1 -1.577767 -0.651460     -0.754103        1.074040   \n",
       "40575                 1  3.060936 -0.213169     -0.754103        1.074040   \n",
       "40044                 1 -0.985592 -0.651460     -1.135450        1.101568   \n",
       "40854                 1  0.198757 -0.651460     -0.754103        1.074040   \n",
       "40731                 1 -2.071246 -0.213169     -0.754103        1.074040   \n",
       "40652                 1  0.198757 -0.651460     -0.754103        1.074040   \n",
       "40728                 1 -1.577767 -0.213169     -0.754103        1.074040   \n",
       "39828                 1 -1.084288 -0.651460     -1.135450        0.826290   \n",
       "\n",
       "       cons.conf.idx  euribor3m  nr.employed     probs  \n",
       "40276       0.033798  -1.576573    -2.432774  0.950308  \n",
       "40278       0.033798  -1.576573    -2.432774  0.950295  \n",
       "40559       0.636980  -1.582344    -2.820324  0.949724  \n",
       "40575       0.636980  -1.582344    -2.820324  0.949423  \n",
       "40044       0.033798  -1.633709    -2.432774  0.948713  \n",
       "40854       0.636980  -1.582344    -2.820324  0.947347  \n",
       "40731       0.636980  -1.588115    -2.820324  0.946761  \n",
       "40652       0.636980  -1.585807    -2.820324  0.946648  \n",
       "40728       0.636980  -1.588115    -2.820324  0.946550  \n",
       "39828       0.141509  -1.681034    -2.432774  0.946333  \n",
       "\n",
       "[10 rows x 51 columns]"
      ]
     },
     "execution_count": 203,
     "metadata": {},
     "output_type": "execute_result"
    }
   ],
   "source": [
    "X_test_new.head(10)"
   ]
  },
  {
   "cell_type": "markdown",
   "metadata": {},
   "source": [
    "### - Finding optimal probability cutoff :"
   ]
  },
  {
   "cell_type": "markdown",
   "metadata": {},
   "source": [
    "#### Now,we'll create a new dataframe named 'test_optimal' , with 'prospectId', 'response', 'probs'(probability of response) as the columns :  "
   ]
  },
  {
   "cell_type": "code",
   "execution_count": 204,
   "metadata": {},
   "outputs": [],
   "source": [
    "test_optimal = pd.DataFrame({'response_actual' : y_test,'probability' : X_test['probs']})"
   ]
  },
  {
   "cell_type": "code",
   "execution_count": 205,
   "metadata": {},
   "outputs": [
    {
     "data": {
      "text/html": [
       "<div>\n",
       "<style scoped>\n",
       "    .dataframe tbody tr th:only-of-type {\n",
       "        vertical-align: middle;\n",
       "    }\n",
       "\n",
       "    .dataframe tbody tr th {\n",
       "        vertical-align: top;\n",
       "    }\n",
       "\n",
       "    .dataframe thead th {\n",
       "        text-align: right;\n",
       "    }\n",
       "</style>\n",
       "<table border=\"1\" class=\"dataframe\">\n",
       "  <thead>\n",
       "    <tr style=\"text-align: right;\">\n",
       "      <th></th>\n",
       "      <th>response_actual</th>\n",
       "      <th>probability</th>\n",
       "    </tr>\n",
       "  </thead>\n",
       "  <tbody>\n",
       "    <tr>\n",
       "      <td>33148</td>\n",
       "      <td>0</td>\n",
       "      <td>0.502046</td>\n",
       "    </tr>\n",
       "    <tr>\n",
       "      <td>27585</td>\n",
       "      <td>0</td>\n",
       "      <td>0.332805</td>\n",
       "    </tr>\n",
       "    <tr>\n",
       "      <td>15722</td>\n",
       "      <td>0</td>\n",
       "      <td>0.278915</td>\n",
       "    </tr>\n",
       "    <tr>\n",
       "      <td>40349</td>\n",
       "      <td>1</td>\n",
       "      <td>0.931275</td>\n",
       "    </tr>\n",
       "    <tr>\n",
       "      <td>2576</td>\n",
       "      <td>0</td>\n",
       "      <td>0.201799</td>\n",
       "    </tr>\n",
       "  </tbody>\n",
       "</table>\n",
       "</div>"
      ],
      "text/plain": [
       "       response_actual  probability\n",
       "33148                0     0.502046\n",
       "27585                0     0.332805\n",
       "15722                0     0.278915\n",
       "40349                1     0.931275\n",
       "2576                 0     0.201799"
      ]
     },
     "execution_count": 205,
     "metadata": {},
     "output_type": "execute_result"
    }
   ],
   "source": [
    "test_optimal.head()"
   ]
  },
  {
   "cell_type": "code",
   "execution_count": 206,
   "metadata": {},
   "outputs": [
    {
     "data": {
      "text/html": [
       "<div>\n",
       "<style scoped>\n",
       "    .dataframe tbody tr th:only-of-type {\n",
       "        vertical-align: middle;\n",
       "    }\n",
       "\n",
       "    .dataframe tbody tr th {\n",
       "        vertical-align: top;\n",
       "    }\n",
       "\n",
       "    .dataframe thead th {\n",
       "        text-align: right;\n",
       "    }\n",
       "</style>\n",
       "<table border=\"1\" class=\"dataframe\">\n",
       "  <thead>\n",
       "    <tr style=\"text-align: right;\">\n",
       "      <th></th>\n",
       "      <th>response_actual</th>\n",
       "      <th>probability</th>\n",
       "      <th>0.0</th>\n",
       "      <th>0.1</th>\n",
       "      <th>0.2</th>\n",
       "      <th>0.3</th>\n",
       "      <th>0.4</th>\n",
       "      <th>0.5</th>\n",
       "      <th>0.6</th>\n",
       "      <th>0.7</th>\n",
       "      <th>0.8</th>\n",
       "      <th>0.9</th>\n",
       "    </tr>\n",
       "  </thead>\n",
       "  <tbody>\n",
       "    <tr>\n",
       "      <td>33148</td>\n",
       "      <td>0</td>\n",
       "      <td>0.502046</td>\n",
       "      <td>1</td>\n",
       "      <td>1</td>\n",
       "      <td>1</td>\n",
       "      <td>1</td>\n",
       "      <td>1</td>\n",
       "      <td>1</td>\n",
       "      <td>0</td>\n",
       "      <td>0</td>\n",
       "      <td>0</td>\n",
       "      <td>0</td>\n",
       "    </tr>\n",
       "    <tr>\n",
       "      <td>27585</td>\n",
       "      <td>0</td>\n",
       "      <td>0.332805</td>\n",
       "      <td>1</td>\n",
       "      <td>1</td>\n",
       "      <td>1</td>\n",
       "      <td>1</td>\n",
       "      <td>0</td>\n",
       "      <td>0</td>\n",
       "      <td>0</td>\n",
       "      <td>0</td>\n",
       "      <td>0</td>\n",
       "      <td>0</td>\n",
       "    </tr>\n",
       "    <tr>\n",
       "      <td>15722</td>\n",
       "      <td>0</td>\n",
       "      <td>0.278915</td>\n",
       "      <td>1</td>\n",
       "      <td>1</td>\n",
       "      <td>1</td>\n",
       "      <td>0</td>\n",
       "      <td>0</td>\n",
       "      <td>0</td>\n",
       "      <td>0</td>\n",
       "      <td>0</td>\n",
       "      <td>0</td>\n",
       "      <td>0</td>\n",
       "    </tr>\n",
       "    <tr>\n",
       "      <td>40349</td>\n",
       "      <td>1</td>\n",
       "      <td>0.931275</td>\n",
       "      <td>1</td>\n",
       "      <td>1</td>\n",
       "      <td>1</td>\n",
       "      <td>1</td>\n",
       "      <td>1</td>\n",
       "      <td>1</td>\n",
       "      <td>1</td>\n",
       "      <td>1</td>\n",
       "      <td>1</td>\n",
       "      <td>1</td>\n",
       "    </tr>\n",
       "    <tr>\n",
       "      <td>2576</td>\n",
       "      <td>0</td>\n",
       "      <td>0.201799</td>\n",
       "      <td>1</td>\n",
       "      <td>1</td>\n",
       "      <td>1</td>\n",
       "      <td>0</td>\n",
       "      <td>0</td>\n",
       "      <td>0</td>\n",
       "      <td>0</td>\n",
       "      <td>0</td>\n",
       "      <td>0</td>\n",
       "      <td>0</td>\n",
       "    </tr>\n",
       "    <tr>\n",
       "      <td>33359</td>\n",
       "      <td>1</td>\n",
       "      <td>0.476554</td>\n",
       "      <td>1</td>\n",
       "      <td>1</td>\n",
       "      <td>1</td>\n",
       "      <td>1</td>\n",
       "      <td>1</td>\n",
       "      <td>0</td>\n",
       "      <td>0</td>\n",
       "      <td>0</td>\n",
       "      <td>0</td>\n",
       "      <td>0</td>\n",
       "    </tr>\n",
       "    <tr>\n",
       "      <td>26890</td>\n",
       "      <td>0</td>\n",
       "      <td>0.348731</td>\n",
       "      <td>1</td>\n",
       "      <td>1</td>\n",
       "      <td>1</td>\n",
       "      <td>1</td>\n",
       "      <td>0</td>\n",
       "      <td>0</td>\n",
       "      <td>0</td>\n",
       "      <td>0</td>\n",
       "      <td>0</td>\n",
       "      <td>0</td>\n",
       "    </tr>\n",
       "    <tr>\n",
       "      <td>8032</td>\n",
       "      <td>0</td>\n",
       "      <td>0.174171</td>\n",
       "      <td>1</td>\n",
       "      <td>1</td>\n",
       "      <td>0</td>\n",
       "      <td>0</td>\n",
       "      <td>0</td>\n",
       "      <td>0</td>\n",
       "      <td>0</td>\n",
       "      <td>0</td>\n",
       "      <td>0</td>\n",
       "      <td>0</td>\n",
       "    </tr>\n",
       "    <tr>\n",
       "      <td>13180</td>\n",
       "      <td>0</td>\n",
       "      <td>0.354884</td>\n",
       "      <td>1</td>\n",
       "      <td>1</td>\n",
       "      <td>1</td>\n",
       "      <td>1</td>\n",
       "      <td>0</td>\n",
       "      <td>0</td>\n",
       "      <td>0</td>\n",
       "      <td>0</td>\n",
       "      <td>0</td>\n",
       "      <td>0</td>\n",
       "    </tr>\n",
       "    <tr>\n",
       "      <td>10102</td>\n",
       "      <td>0</td>\n",
       "      <td>0.307745</td>\n",
       "      <td>1</td>\n",
       "      <td>1</td>\n",
       "      <td>1</td>\n",
       "      <td>1</td>\n",
       "      <td>0</td>\n",
       "      <td>0</td>\n",
       "      <td>0</td>\n",
       "      <td>0</td>\n",
       "      <td>0</td>\n",
       "      <td>0</td>\n",
       "    </tr>\n",
       "    <tr>\n",
       "      <td>20715</td>\n",
       "      <td>1</td>\n",
       "      <td>0.313434</td>\n",
       "      <td>1</td>\n",
       "      <td>1</td>\n",
       "      <td>1</td>\n",
       "      <td>1</td>\n",
       "      <td>0</td>\n",
       "      <td>0</td>\n",
       "      <td>0</td>\n",
       "      <td>0</td>\n",
       "      <td>0</td>\n",
       "      <td>0</td>\n",
       "    </tr>\n",
       "    <tr>\n",
       "      <td>19226</td>\n",
       "      <td>0</td>\n",
       "      <td>0.389819</td>\n",
       "      <td>1</td>\n",
       "      <td>1</td>\n",
       "      <td>1</td>\n",
       "      <td>1</td>\n",
       "      <td>0</td>\n",
       "      <td>0</td>\n",
       "      <td>0</td>\n",
       "      <td>0</td>\n",
       "      <td>0</td>\n",
       "      <td>0</td>\n",
       "    </tr>\n",
       "    <tr>\n",
       "      <td>35201</td>\n",
       "      <td>0</td>\n",
       "      <td>0.465670</td>\n",
       "      <td>1</td>\n",
       "      <td>1</td>\n",
       "      <td>1</td>\n",
       "      <td>1</td>\n",
       "      <td>1</td>\n",
       "      <td>0</td>\n",
       "      <td>0</td>\n",
       "      <td>0</td>\n",
       "      <td>0</td>\n",
       "      <td>0</td>\n",
       "    </tr>\n",
       "    <tr>\n",
       "      <td>3682</td>\n",
       "      <td>0</td>\n",
       "      <td>0.209715</td>\n",
       "      <td>1</td>\n",
       "      <td>1</td>\n",
       "      <td>1</td>\n",
       "      <td>0</td>\n",
       "      <td>0</td>\n",
       "      <td>0</td>\n",
       "      <td>0</td>\n",
       "      <td>0</td>\n",
       "      <td>0</td>\n",
       "      <td>0</td>\n",
       "    </tr>\n",
       "    <tr>\n",
       "      <td>183</td>\n",
       "      <td>0</td>\n",
       "      <td>0.176253</td>\n",
       "      <td>1</td>\n",
       "      <td>1</td>\n",
       "      <td>0</td>\n",
       "      <td>0</td>\n",
       "      <td>0</td>\n",
       "      <td>0</td>\n",
       "      <td>0</td>\n",
       "      <td>0</td>\n",
       "      <td>0</td>\n",
       "      <td>0</td>\n",
       "    </tr>\n",
       "    <tr>\n",
       "      <td>32842</td>\n",
       "      <td>0</td>\n",
       "      <td>0.376271</td>\n",
       "      <td>1</td>\n",
       "      <td>1</td>\n",
       "      <td>1</td>\n",
       "      <td>1</td>\n",
       "      <td>0</td>\n",
       "      <td>0</td>\n",
       "      <td>0</td>\n",
       "      <td>0</td>\n",
       "      <td>0</td>\n",
       "      <td>0</td>\n",
       "    </tr>\n",
       "    <tr>\n",
       "      <td>18653</td>\n",
       "      <td>0</td>\n",
       "      <td>0.279367</td>\n",
       "      <td>1</td>\n",
       "      <td>1</td>\n",
       "      <td>1</td>\n",
       "      <td>0</td>\n",
       "      <td>0</td>\n",
       "      <td>0</td>\n",
       "      <td>0</td>\n",
       "      <td>0</td>\n",
       "      <td>0</td>\n",
       "      <td>0</td>\n",
       "    </tr>\n",
       "    <tr>\n",
       "      <td>25456</td>\n",
       "      <td>0</td>\n",
       "      <td>0.384701</td>\n",
       "      <td>1</td>\n",
       "      <td>1</td>\n",
       "      <td>1</td>\n",
       "      <td>1</td>\n",
       "      <td>0</td>\n",
       "      <td>0</td>\n",
       "      <td>0</td>\n",
       "      <td>0</td>\n",
       "      <td>0</td>\n",
       "      <td>0</td>\n",
       "    </tr>\n",
       "    <tr>\n",
       "      <td>27125</td>\n",
       "      <td>0</td>\n",
       "      <td>0.296138</td>\n",
       "      <td>1</td>\n",
       "      <td>1</td>\n",
       "      <td>1</td>\n",
       "      <td>0</td>\n",
       "      <td>0</td>\n",
       "      <td>0</td>\n",
       "      <td>0</td>\n",
       "      <td>0</td>\n",
       "      <td>0</td>\n",
       "      <td>0</td>\n",
       "    </tr>\n",
       "    <tr>\n",
       "      <td>25235</td>\n",
       "      <td>0</td>\n",
       "      <td>0.345727</td>\n",
       "      <td>1</td>\n",
       "      <td>1</td>\n",
       "      <td>1</td>\n",
       "      <td>1</td>\n",
       "      <td>0</td>\n",
       "      <td>0</td>\n",
       "      <td>0</td>\n",
       "      <td>0</td>\n",
       "      <td>0</td>\n",
       "      <td>0</td>\n",
       "    </tr>\n",
       "  </tbody>\n",
       "</table>\n",
       "</div>"
      ],
      "text/plain": [
       "       response_actual  probability  0.0  0.1  0.2  0.3  0.4  0.5  0.6  0.7  \\\n",
       "33148                0     0.502046    1    1    1    1    1    1    0    0   \n",
       "27585                0     0.332805    1    1    1    1    0    0    0    0   \n",
       "15722                0     0.278915    1    1    1    0    0    0    0    0   \n",
       "40349                1     0.931275    1    1    1    1    1    1    1    1   \n",
       "2576                 0     0.201799    1    1    1    0    0    0    0    0   \n",
       "33359                1     0.476554    1    1    1    1    1    0    0    0   \n",
       "26890                0     0.348731    1    1    1    1    0    0    0    0   \n",
       "8032                 0     0.174171    1    1    0    0    0    0    0    0   \n",
       "13180                0     0.354884    1    1    1    1    0    0    0    0   \n",
       "10102                0     0.307745    1    1    1    1    0    0    0    0   \n",
       "20715                1     0.313434    1    1    1    1    0    0    0    0   \n",
       "19226                0     0.389819    1    1    1    1    0    0    0    0   \n",
       "35201                0     0.465670    1    1    1    1    1    0    0    0   \n",
       "3682                 0     0.209715    1    1    1    0    0    0    0    0   \n",
       "183                  0     0.176253    1    1    0    0    0    0    0    0   \n",
       "32842                0     0.376271    1    1    1    1    0    0    0    0   \n",
       "18653                0     0.279367    1    1    1    0    0    0    0    0   \n",
       "25456                0     0.384701    1    1    1    1    0    0    0    0   \n",
       "27125                0     0.296138    1    1    1    0    0    0    0    0   \n",
       "25235                0     0.345727    1    1    1    1    0    0    0    0   \n",
       "\n",
       "       0.8  0.9  \n",
       "33148    0    0  \n",
       "27585    0    0  \n",
       "15722    0    0  \n",
       "40349    1    1  \n",
       "2576     0    0  \n",
       "33359    0    0  \n",
       "26890    0    0  \n",
       "8032     0    0  \n",
       "13180    0    0  \n",
       "10102    0    0  \n",
       "20715    0    0  \n",
       "19226    0    0  \n",
       "35201    0    0  \n",
       "3682     0    0  \n",
       "183      0    0  \n",
       "32842    0    0  \n",
       "18653    0    0  \n",
       "25456    0    0  \n",
       "27125    0    0  \n",
       "25235    0    0  "
      ]
     },
     "execution_count": 206,
     "metadata": {},
     "output_type": "execute_result"
    }
   ],
   "source": [
    "# Let's create columns with different probability cutoffs \n",
    "numbers = [float(x)/10 for x in range(10)]\n",
    "for i in numbers:\n",
    "    test_optimal[i] = X_test.probs.map(lambda x: 1 if x > i else 0)\n",
    "test_optimal.head(20)"
   ]
  },
  {
   "cell_type": "code",
   "execution_count": 207,
   "metadata": {},
   "outputs": [
    {
     "name": "stdout",
     "output_type": "stream",
     "text": [
      "     prob  accuracy     sensi     speci  precision    recall\n",
      "0.0   0.0  0.111839  1.000000  0.000000   0.111839  1.000000\n",
      "0.1   0.1  0.111920  1.000000  0.000091   0.111848  1.000000\n",
      "0.2   0.2  0.213725  0.979016  0.117358   0.122554  0.979016\n",
      "0.3   0.3  0.464352  0.861071  0.414396   0.156229  0.861071\n",
      "0.4   0.4  0.723396  0.699711  0.726378   0.243577  0.699711\n",
      "0.5   0.5  0.809096  0.612880  0.833804   0.317110  0.612880\n",
      "0.6   0.6  0.841790  0.570188  0.875991   0.366682  0.570188\n",
      "0.7   0.7  0.870195  0.481910  0.919089   0.428571  0.481910\n",
      "0.8   0.8  0.881282  0.397250  0.942232   0.464074  0.397250\n",
      "0.9   0.9  0.896334  0.187410  0.985604   0.621103  0.187410\n"
     ]
    }
   ],
   "source": [
    "# Now let's calculate accuracy sensitivity and specificity for various probability cutoffs.\n",
    "cutoff_df = pd.DataFrame( columns = ['prob','accuracy','sensi','speci','precision','recall'])\n",
    "from sklearn.metrics import confusion_matrix\n",
    "\n",
    "# TP = confusion[1,1] # true positive \n",
    "# TN = confusion[0,0] # true negatives\n",
    "# FP = confusion[0,1] # false positives\n",
    "# FN = confusion[1,0] # false negatives\n",
    "\n",
    "num = [0.0,0.1,0.2,0.3,0.4,0.5,0.6,0.7,0.8,0.9]\n",
    "for i in num:\n",
    "    cm1 = metrics.confusion_matrix(test_optimal.response_actual, test_optimal[i] )\n",
    "    total1=sum(sum(cm1))\n",
    "    accuracy = (cm1[0,0]+cm1[1,1])/total1\n",
    "    \n",
    "    speci = cm1[0,0]/(cm1[0,0]+cm1[0,1])\n",
    "    sensi = cm1[1,1]/(cm1[1,0]+cm1[1,1])\n",
    "    precision = cm1[1,1]/(cm1[0,1]+cm1[1,1])\n",
    "    recall = cm1[1,1]/(cm1[1,0]+cm1[1,1])\n",
    "    cutoff_df.loc[i] =[ i ,accuracy,sensi,speci,precision,recall]\n",
    "print(cutoff_df)"
   ]
  },
  {
   "cell_type": "code",
   "execution_count": 208,
   "metadata": {},
   "outputs": [
    {
     "data": {
      "text/plain": [
       "<Figure size 225x150 with 0 Axes>"
      ]
     },
     "metadata": {},
     "output_type": "display_data"
    },
    {
     "data": {
      "image/png": "[encoded data removed]",
      "text/plain": [
       "<Figure size 432x288 with 1 Axes>"
      ]
     },
     "metadata": {},
     "output_type": "display_data"
    }
   ],
   "source": [
    "# Let's plot accuracy sensitivity and specificity for various probabilities.\n",
    "plt.figure(figsize=(15,10),dpi=15)\n",
    "sns.set(font_scale=1)\n",
    "cutoff_df.plot.line(x='prob', y=['accuracy','sensi','speci'])\n",
    "plt.show()"
   ]
  },
  {
   "cell_type": "markdown",
   "metadata": {},
   "source": [
    "#### Hence,it can be seen from the above calculations that the optimal cut-off for this dataset would be 0.4.However,we still choose the cut-off as 0.5,as precision is important here. And the accuracy,sensitivity,specificity,precision and recall at this particular point can be shown as follows :"
   ]
  },
  {
   "cell_type": "code",
   "execution_count": 209,
   "metadata": {},
   "outputs": [
    {
     "name": "stdout",
     "output_type": "stream",
     "text": [
      "Accuracy :  0.8090960589139758 \n",
      "Sensitivity :  0.6128798842257598 \n",
      "Specificity :  0.8338041002277904 \n",
      "Precision :  0.31710969674279293 \n",
      "Recall :  0.6128798842257598\n"
     ]
    }
   ],
   "source": [
    "# At a probability cut-off of 0.4,we have :\n",
    "print('Accuracy : ',cutoff_df.loc[0.5,'accuracy'],'\\nSensitivity : ',cutoff_df.loc[0.5,'sensi'],'\\nSpecificity : ',cutoff_df.loc[0.5,'speci'],'\\nPrecision : ',cutoff_df.loc[0.5,'precision'],'\\nRecall : ',cutoff_df.loc[0.5,'recall'])"
   ]
  },
  {
   "cell_type": "markdown",
   "metadata": {},
   "source": [
    "#### Although,precision and recall values for this aforementioned threshold are very low,we still go with this cut-off point. This is owing to the fact that positive responses being such minimal,the precision and recall values are coming low,at any sensible probability cut-off."
   ]
  },
  {
   "cell_type": "markdown",
   "metadata": {},
   "source": [
    "### 3. Create a data frame with the variables prospectId,actual response, predicted response, predicted probability of response, duration of the call in seconds and cost of the call :"
   ]
  },
  {
   "cell_type": "markdown",
   "metadata": {},
   "source": [
    "#### We already have a dataframe named 'test_optimal',with the variables actual response,and predicted probability of response."
   ]
  },
  {
   "cell_type": "code",
   "execution_count": 210,
   "metadata": {},
   "outputs": [
    {
     "data": {
      "text/html": [
       "<div>\n",
       "<style scoped>\n",
       "    .dataframe tbody tr th:only-of-type {\n",
       "        vertical-align: middle;\n",
       "    }\n",
       "\n",
       "    .dataframe tbody tr th {\n",
       "        vertical-align: top;\n",
       "    }\n",
       "\n",
       "    .dataframe thead th {\n",
       "        text-align: right;\n",
       "    }\n",
       "</style>\n",
       "<table border=\"1\" class=\"dataframe\">\n",
       "  <thead>\n",
       "    <tr style=\"text-align: right;\">\n",
       "      <th></th>\n",
       "      <th>response_actual</th>\n",
       "      <th>probability</th>\n",
       "      <th>0.0</th>\n",
       "      <th>0.1</th>\n",
       "      <th>0.2</th>\n",
       "      <th>0.3</th>\n",
       "      <th>0.4</th>\n",
       "      <th>0.5</th>\n",
       "      <th>0.6</th>\n",
       "      <th>0.7</th>\n",
       "      <th>0.8</th>\n",
       "      <th>0.9</th>\n",
       "    </tr>\n",
       "  </thead>\n",
       "  <tbody>\n",
       "    <tr>\n",
       "      <td>33148</td>\n",
       "      <td>0</td>\n",
       "      <td>0.502046</td>\n",
       "      <td>1</td>\n",
       "      <td>1</td>\n",
       "      <td>1</td>\n",
       "      <td>1</td>\n",
       "      <td>1</td>\n",
       "      <td>1</td>\n",
       "      <td>0</td>\n",
       "      <td>0</td>\n",
       "      <td>0</td>\n",
       "      <td>0</td>\n",
       "    </tr>\n",
       "    <tr>\n",
       "      <td>27585</td>\n",
       "      <td>0</td>\n",
       "      <td>0.332805</td>\n",
       "      <td>1</td>\n",
       "      <td>1</td>\n",
       "      <td>1</td>\n",
       "      <td>1</td>\n",
       "      <td>0</td>\n",
       "      <td>0</td>\n",
       "      <td>0</td>\n",
       "      <td>0</td>\n",
       "      <td>0</td>\n",
       "      <td>0</td>\n",
       "    </tr>\n",
       "    <tr>\n",
       "      <td>15722</td>\n",
       "      <td>0</td>\n",
       "      <td>0.278915</td>\n",
       "      <td>1</td>\n",
       "      <td>1</td>\n",
       "      <td>1</td>\n",
       "      <td>0</td>\n",
       "      <td>0</td>\n",
       "      <td>0</td>\n",
       "      <td>0</td>\n",
       "      <td>0</td>\n",
       "      <td>0</td>\n",
       "      <td>0</td>\n",
       "    </tr>\n",
       "    <tr>\n",
       "      <td>40349</td>\n",
       "      <td>1</td>\n",
       "      <td>0.931275</td>\n",
       "      <td>1</td>\n",
       "      <td>1</td>\n",
       "      <td>1</td>\n",
       "      <td>1</td>\n",
       "      <td>1</td>\n",
       "      <td>1</td>\n",
       "      <td>1</td>\n",
       "      <td>1</td>\n",
       "      <td>1</td>\n",
       "      <td>1</td>\n",
       "    </tr>\n",
       "    <tr>\n",
       "      <td>2576</td>\n",
       "      <td>0</td>\n",
       "      <td>0.201799</td>\n",
       "      <td>1</td>\n",
       "      <td>1</td>\n",
       "      <td>1</td>\n",
       "      <td>0</td>\n",
       "      <td>0</td>\n",
       "      <td>0</td>\n",
       "      <td>0</td>\n",
       "      <td>0</td>\n",
       "      <td>0</td>\n",
       "      <td>0</td>\n",
       "    </tr>\n",
       "  </tbody>\n",
       "</table>\n",
       "</div>"
      ],
      "text/plain": [
       "       response_actual  probability  0.0  0.1  0.2  0.3  0.4  0.5  0.6  0.7  \\\n",
       "33148                0     0.502046    1    1    1    1    1    1    0    0   \n",
       "27585                0     0.332805    1    1    1    1    0    0    0    0   \n",
       "15722                0     0.278915    1    1    1    0    0    0    0    0   \n",
       "40349                1     0.931275    1    1    1    1    1    1    1    1   \n",
       "2576                 0     0.201799    1    1    1    0    0    0    0    0   \n",
       "\n",
       "       0.8  0.9  \n",
       "33148    0    0  \n",
       "27585    0    0  \n",
       "15722    0    0  \n",
       "40349    1    1  \n",
       "2576     0    0  "
      ]
     },
     "execution_count": 210,
     "metadata": {},
     "output_type": "execute_result"
    }
   ],
   "source": [
    "test_optimal.head()"
   ]
  },
  {
   "cell_type": "code",
   "execution_count": 211,
   "metadata": {},
   "outputs": [],
   "source": [
    "test_optimal_1 = test_optimal.drop([0.0,0.1,0.2,0.3,0.4,0.5,0.6,0.7,0.8,0.9],axis=1)"
   ]
  },
  {
   "cell_type": "markdown",
   "metadata": {},
   "source": [
    "#### Now,we'll add the remaining columns of prospectId,predicted response,duration of the call in seconds and cost of the call :"
   ]
  },
  {
   "cell_type": "code",
   "execution_count": 212,
   "metadata": {},
   "outputs": [
    {
     "data": {
      "text/html": [
       "<div>\n",
       "<style scoped>\n",
       "    .dataframe tbody tr th:only-of-type {\n",
       "        vertical-align: middle;\n",
       "    }\n",
       "\n",
       "    .dataframe tbody tr th {\n",
       "        vertical-align: top;\n",
       "    }\n",
       "\n",
       "    .dataframe thead th {\n",
       "        text-align: right;\n",
       "    }\n",
       "</style>\n",
       "<table border=\"1\" class=\"dataframe\">\n",
       "  <thead>\n",
       "    <tr style=\"text-align: right;\">\n",
       "      <th></th>\n",
       "      <th>response_actual</th>\n",
       "      <th>probability</th>\n",
       "      <th>prospectId</th>\n",
       "    </tr>\n",
       "  </thead>\n",
       "  <tbody>\n",
       "    <tr>\n",
       "      <td>33148</td>\n",
       "      <td>0</td>\n",
       "      <td>0.502046</td>\n",
       "      <td>0</td>\n",
       "    </tr>\n",
       "    <tr>\n",
       "      <td>27585</td>\n",
       "      <td>0</td>\n",
       "      <td>0.332805</td>\n",
       "      <td>1</td>\n",
       "    </tr>\n",
       "    <tr>\n",
       "      <td>15722</td>\n",
       "      <td>0</td>\n",
       "      <td>0.278915</td>\n",
       "      <td>2</td>\n",
       "    </tr>\n",
       "    <tr>\n",
       "      <td>40349</td>\n",
       "      <td>1</td>\n",
       "      <td>0.931275</td>\n",
       "      <td>3</td>\n",
       "    </tr>\n",
       "    <tr>\n",
       "      <td>2576</td>\n",
       "      <td>0</td>\n",
       "      <td>0.201799</td>\n",
       "      <td>4</td>\n",
       "    </tr>\n",
       "  </tbody>\n",
       "</table>\n",
       "</div>"
      ],
      "text/plain": [
       "       response_actual  probability  prospectId\n",
       "33148                0     0.502046           0\n",
       "27585                0     0.332805           1\n",
       "15722                0     0.278915           2\n",
       "40349                1     0.931275           3\n",
       "2576                 0     0.201799           4"
      ]
     },
     "execution_count": 212,
     "metadata": {},
     "output_type": "execute_result"
    }
   ],
   "source": [
    "test_optimal_1['prospectId'] = np.arange(0,test_optimal_1.shape[0],1) \n",
    "test_optimal_1.head()"
   ]
  },
  {
   "cell_type": "code",
   "execution_count": 213,
   "metadata": {},
   "outputs": [],
   "source": [
    "# Adding the column of predicted response :\n",
    "test_optimal_1['response_predicted'] = test_optimal_1['probability'].apply(lambda x : 0 if x<=0.5 else 1)"
   ]
  },
  {
   "cell_type": "code",
   "execution_count": 214,
   "metadata": {},
   "outputs": [
    {
     "data": {
      "text/html": [
       "<div>\n",
       "<style scoped>\n",
       "    .dataframe tbody tr th:only-of-type {\n",
       "        vertical-align: middle;\n",
       "    }\n",
       "\n",
       "    .dataframe tbody tr th {\n",
       "        vertical-align: top;\n",
       "    }\n",
       "\n",
       "    .dataframe thead th {\n",
       "        text-align: right;\n",
       "    }\n",
       "</style>\n",
       "<table border=\"1\" class=\"dataframe\">\n",
       "  <thead>\n",
       "    <tr style=\"text-align: right;\">\n",
       "      <th></th>\n",
       "      <th>duration</th>\n",
       "      <th>job_blue-collar</th>\n",
       "      <th>job_entrepreneur</th>\n",
       "      <th>job_housemaid</th>\n",
       "      <th>job_management</th>\n",
       "      <th>job_retired</th>\n",
       "      <th>job_self-employed</th>\n",
       "      <th>job_services</th>\n",
       "      <th>job_student</th>\n",
       "      <th>job_technician</th>\n",
       "      <th>...</th>\n",
       "      <th>poutcome_nonexistent</th>\n",
       "      <th>poutcome_success</th>\n",
       "      <th>age</th>\n",
       "      <th>campaign</th>\n",
       "      <th>emp.var.rate</th>\n",
       "      <th>cons.price.idx</th>\n",
       "      <th>cons.conf.idx</th>\n",
       "      <th>euribor3m</th>\n",
       "      <th>nr.employed</th>\n",
       "      <th>prospectId</th>\n",
       "    </tr>\n",
       "  </thead>\n",
       "  <tbody>\n",
       "    <tr>\n",
       "      <td>33148</td>\n",
       "      <td>52</td>\n",
       "      <td>0</td>\n",
       "      <td>0</td>\n",
       "      <td>0</td>\n",
       "      <td>0</td>\n",
       "      <td>0</td>\n",
       "      <td>0</td>\n",
       "      <td>0</td>\n",
       "      <td>0</td>\n",
       "      <td>0</td>\n",
       "      <td>...</td>\n",
       "      <td>1</td>\n",
       "      <td>0</td>\n",
       "      <td>-1.182984</td>\n",
       "      <td>-0.651460</td>\n",
       "      <td>-1.199007</td>\n",
       "      <td>-1.172918</td>\n",
       "      <td>-1.237193</td>\n",
       "      <td>-1.348603</td>\n",
       "      <td>-0.944859</td>\n",
       "      <td>0</td>\n",
       "    </tr>\n",
       "    <tr>\n",
       "      <td>27585</td>\n",
       "      <td>407</td>\n",
       "      <td>0</td>\n",
       "      <td>0</td>\n",
       "      <td>0</td>\n",
       "      <td>0</td>\n",
       "      <td>0</td>\n",
       "      <td>0</td>\n",
       "      <td>0</td>\n",
       "      <td>0</td>\n",
       "      <td>1</td>\n",
       "      <td>...</td>\n",
       "      <td>1</td>\n",
       "      <td>0</td>\n",
       "      <td>0.100062</td>\n",
       "      <td>0.663413</td>\n",
       "      <td>-0.118526</td>\n",
       "      <td>-0.644728</td>\n",
       "      <td>-0.332420</td>\n",
       "      <td>0.226981</td>\n",
       "      <td>0.393573</td>\n",
       "      <td>1</td>\n",
       "    </tr>\n",
       "    <tr>\n",
       "      <td>15722</td>\n",
       "      <td>177</td>\n",
       "      <td>1</td>\n",
       "      <td>0</td>\n",
       "      <td>0</td>\n",
       "      <td>0</td>\n",
       "      <td>0</td>\n",
       "      <td>0</td>\n",
       "      <td>0</td>\n",
       "      <td>0</td>\n",
       "      <td>0</td>\n",
       "      <td>...</td>\n",
       "      <td>1</td>\n",
       "      <td>0</td>\n",
       "      <td>-0.590809</td>\n",
       "      <td>-0.651460</td>\n",
       "      <td>0.834840</td>\n",
       "      <td>0.590583</td>\n",
       "      <td>-0.483215</td>\n",
       "      <td>0.768913</td>\n",
       "      <td>0.840640</td>\n",
       "      <td>2</td>\n",
       "    </tr>\n",
       "    <tr>\n",
       "      <td>40349</td>\n",
       "      <td>187</td>\n",
       "      <td>0</td>\n",
       "      <td>0</td>\n",
       "      <td>0</td>\n",
       "      <td>0</td>\n",
       "      <td>0</td>\n",
       "      <td>0</td>\n",
       "      <td>0</td>\n",
       "      <td>0</td>\n",
       "      <td>0</td>\n",
       "      <td>...</td>\n",
       "      <td>0</td>\n",
       "      <td>1</td>\n",
       "      <td>-1.182984</td>\n",
       "      <td>-0.213169</td>\n",
       "      <td>-1.135450</td>\n",
       "      <td>0.778116</td>\n",
       "      <td>0.464642</td>\n",
       "      <td>-1.574841</td>\n",
       "      <td>-2.432774</td>\n",
       "      <td>3</td>\n",
       "    </tr>\n",
       "    <tr>\n",
       "      <td>2576</td>\n",
       "      <td>165</td>\n",
       "      <td>0</td>\n",
       "      <td>0</td>\n",
       "      <td>0</td>\n",
       "      <td>0</td>\n",
       "      <td>0</td>\n",
       "      <td>0</td>\n",
       "      <td>1</td>\n",
       "      <td>0</td>\n",
       "      <td>0</td>\n",
       "      <td>...</td>\n",
       "      <td>1</td>\n",
       "      <td>0</td>\n",
       "      <td>1.481803</td>\n",
       "      <td>-0.213169</td>\n",
       "      <td>0.644167</td>\n",
       "      <td>0.721340</td>\n",
       "      <td>0.873944</td>\n",
       "      <td>0.708890</td>\n",
       "      <td>0.327136</td>\n",
       "      <td>4</td>\n",
       "    </tr>\n",
       "  </tbody>\n",
       "</table>\n",
       "<p>5 rows × 52 columns</p>\n",
       "</div>"
      ],
      "text/plain": [
       "       duration  job_blue-collar  job_entrepreneur  job_housemaid  \\\n",
       "33148        52                0                 0              0   \n",
       "27585       407                0                 0              0   \n",
       "15722       177                1                 0              0   \n",
       "40349       187                0                 0              0   \n",
       "2576        165                0                 0              0   \n",
       "\n",
       "       job_management  job_retired  job_self-employed  job_services  \\\n",
       "33148               0            0                  0             0   \n",
       "27585               0            0                  0             0   \n",
       "15722               0            0                  0             0   \n",
       "40349               0            0                  0             0   \n",
       "2576                0            0                  0             1   \n",
       "\n",
       "       job_student  job_technician  ...  poutcome_nonexistent  \\\n",
       "33148            0               0  ...                     1   \n",
       "27585            0               1  ...                     1   \n",
       "15722            0               0  ...                     1   \n",
       "40349            0               0  ...                     0   \n",
       "2576             0               0  ...                     1   \n",
       "\n",
       "       poutcome_success       age  campaign  emp.var.rate  cons.price.idx  \\\n",
       "33148                 0 -1.182984 -0.651460     -1.199007       -1.172918   \n",
       "27585                 0  0.100062  0.663413     -0.118526       -0.644728   \n",
       "15722                 0 -0.590809 -0.651460      0.834840        0.590583   \n",
       "40349                 1 -1.182984 -0.213169     -1.135450        0.778116   \n",
       "2576                  0  1.481803 -0.213169      0.644167        0.721340   \n",
       "\n",
       "       cons.conf.idx  euribor3m  nr.employed  prospectId  \n",
       "33148      -1.237193  -1.348603    -0.944859           0  \n",
       "27585      -0.332420   0.226981     0.393573           1  \n",
       "15722      -0.483215   0.768913     0.840640           2  \n",
       "40349       0.464642  -1.574841    -2.432774           3  \n",
       "2576        0.873944   0.708890     0.327136           4  \n",
       "\n",
       "[5 rows x 52 columns]"
      ]
     },
     "execution_count": 214,
     "metadata": {},
     "output_type": "execute_result"
    }
   ],
   "source": [
    "X_test_copy['prospectId'] = np.arange(0,test_optimal_1.shape[0],1) \n",
    "X_test_copy.head()"
   ]
  },
  {
   "cell_type": "code",
   "execution_count": 215,
   "metadata": {},
   "outputs": [],
   "source": [
    "test_optimal_1 = test_optimal_1.sort_values(by='prospectId',axis=0)\n",
    "X_test_copy = X_test_copy.sort_values(by='prospectId',axis=0)"
   ]
  },
  {
   "cell_type": "code",
   "execution_count": 216,
   "metadata": {},
   "outputs": [
    {
     "name": "stdout",
     "output_type": "stream",
     "text": [
      "(12357, 52)\n",
      "(12357, 4)\n"
     ]
    }
   ],
   "source": [
    "print(X_test_copy.shape)\n",
    "print(test_optimal_1.shape)"
   ]
  },
  {
   "cell_type": "code",
   "execution_count": 217,
   "metadata": {},
   "outputs": [],
   "source": [
    "test_optimal_1 = pd.merge(test_optimal_1,X_test_copy[['duration','prospectId']],on='prospectId',how='inner')"
   ]
  },
  {
   "cell_type": "markdown",
   "metadata": {},
   "source": [
    "#### So,now,for assigning the cost of call for each prospect,we make the following assumptions :\n",
    "- The cost of call is 1 paise per second(1 paise/sec) ."
   ]
  },
  {
   "cell_type": "markdown",
   "metadata": {},
   "source": [
    "#### The total cost for each individual prospect can be calculated as the product of the duration of the call(in seconds) and the cost of call(per second)."
   ]
  },
  {
   "cell_type": "code",
   "execution_count": 218,
   "metadata": {},
   "outputs": [
    {
     "data": {
      "text/plain": [
       "0     52\n",
       "1    407\n",
       "2    177\n",
       "3    187\n",
       "4    165\n",
       "Name: duration, dtype: int64"
      ]
     },
     "execution_count": 218,
     "metadata": {},
     "output_type": "execute_result"
    }
   ],
   "source": [
    "test_optimal_1['duration'].head()  "
   ]
  },
  {
   "cell_type": "code",
   "execution_count": 219,
   "metadata": {},
   "outputs": [],
   "source": [
    "test_optimal_1['Cost(in rupees)'] = test_optimal_1['duration']/100"
   ]
  },
  {
   "cell_type": "code",
   "execution_count": 220,
   "metadata": {},
   "outputs": [
    {
     "data": {
      "text/html": [
       "<div>\n",
       "<style scoped>\n",
       "    .dataframe tbody tr th:only-of-type {\n",
       "        vertical-align: middle;\n",
       "    }\n",
       "\n",
       "    .dataframe tbody tr th {\n",
       "        vertical-align: top;\n",
       "    }\n",
       "\n",
       "    .dataframe thead th {\n",
       "        text-align: right;\n",
       "    }\n",
       "</style>\n",
       "<table border=\"1\" class=\"dataframe\">\n",
       "  <thead>\n",
       "    <tr style=\"text-align: right;\">\n",
       "      <th></th>\n",
       "      <th>response_actual</th>\n",
       "      <th>probability</th>\n",
       "      <th>prospectId</th>\n",
       "      <th>response_predicted</th>\n",
       "      <th>duration</th>\n",
       "      <th>Cost(in rupees)</th>\n",
       "    </tr>\n",
       "  </thead>\n",
       "  <tbody>\n",
       "    <tr>\n",
       "      <td>0</td>\n",
       "      <td>0</td>\n",
       "      <td>0.502046</td>\n",
       "      <td>0</td>\n",
       "      <td>1</td>\n",
       "      <td>52</td>\n",
       "      <td>0.52</td>\n",
       "    </tr>\n",
       "    <tr>\n",
       "      <td>1</td>\n",
       "      <td>0</td>\n",
       "      <td>0.332805</td>\n",
       "      <td>1</td>\n",
       "      <td>0</td>\n",
       "      <td>407</td>\n",
       "      <td>4.07</td>\n",
       "    </tr>\n",
       "    <tr>\n",
       "      <td>2</td>\n",
       "      <td>0</td>\n",
       "      <td>0.278915</td>\n",
       "      <td>2</td>\n",
       "      <td>0</td>\n",
       "      <td>177</td>\n",
       "      <td>1.77</td>\n",
       "    </tr>\n",
       "    <tr>\n",
       "      <td>3</td>\n",
       "      <td>1</td>\n",
       "      <td>0.931275</td>\n",
       "      <td>3</td>\n",
       "      <td>1</td>\n",
       "      <td>187</td>\n",
       "      <td>1.87</td>\n",
       "    </tr>\n",
       "    <tr>\n",
       "      <td>4</td>\n",
       "      <td>0</td>\n",
       "      <td>0.201799</td>\n",
       "      <td>4</td>\n",
       "      <td>0</td>\n",
       "      <td>165</td>\n",
       "      <td>1.65</td>\n",
       "    </tr>\n",
       "  </tbody>\n",
       "</table>\n",
       "</div>"
      ],
      "text/plain": [
       "   response_actual  probability  prospectId  response_predicted  duration  \\\n",
       "0                0     0.502046           0                   1        52   \n",
       "1                0     0.332805           1                   0       407   \n",
       "2                0     0.278915           2                   0       177   \n",
       "3                1     0.931275           3                   1       187   \n",
       "4                0     0.201799           4                   0       165   \n",
       "\n",
       "   Cost(in rupees)  \n",
       "0             0.52  \n",
       "1             4.07  \n",
       "2             1.77  \n",
       "3             1.87  \n",
       "4             1.65  "
      ]
     },
     "execution_count": 220,
     "metadata": {},
     "output_type": "execute_result"
    }
   ],
   "source": [
    "test_optimal_1.head()"
   ]
  },
  {
   "cell_type": "markdown",
   "metadata": {},
   "source": [
    "### 4) Find the number of top X% prospects you should target to meet the business objective,of achieving 80% of total responders at the minimum possible cost :\n",
    "- Report the average call duration for targeting the top X% prospects to the CMO"
   ]
  },
  {
   "cell_type": "markdown",
   "metadata": {},
   "source": [
    "Let's first check out the actual total number of responders :"
   ]
  },
  {
   "cell_type": "code",
   "execution_count": 221,
   "metadata": {},
   "outputs": [
    {
     "data": {
      "text/plain": [
       "1382"
      ]
     },
     "execution_count": 221,
     "metadata": {},
     "output_type": "execute_result"
    }
   ],
   "source": [
    "test_optimal_1['response_actual'].sum()"
   ]
  },
  {
   "cell_type": "code",
   "execution_count": 222,
   "metadata": {},
   "outputs": [
    {
     "data": {
      "text/plain": [
       "31187.190000000002"
      ]
     },
     "execution_count": 222,
     "metadata": {},
     "output_type": "execute_result"
    }
   ],
   "source": [
    "test_optimal_1['Cost(in rupees)'].sum()"
   ]
  },
  {
   "cell_type": "markdown",
   "metadata": {},
   "source": [
    "So the actual total number of responders is 1382.And,our target is achieving 80% of these many responders,i.e.1106 responders at the minimum cost possible."
   ]
  },
  {
   "cell_type": "code",
   "execution_count": 223,
   "metadata": {},
   "outputs": [
    {
     "data": {
      "image/png": "[encoded data removed]",
      "text/plain": [
       "<Figure size 625x500 with 1 Axes>"
      ]
     },
     "metadata": {},
     "output_type": "display_data"
    }
   ],
   "source": [
    "plt.figure(figsize=(25,20),dpi=25)\n",
    "sns.set(font_scale=3)\n",
    "sns.lineplot(x=test_optimal_1['Cost(in rupees)'].cumsum(),y=test_optimal_1['response_actual'].cumsum())\n",
    "plt.show()"
   ]
  },
  {
   "cell_type": "markdown",
   "metadata": {},
   "source": [
    "#### So we can see from the graph that to get total responses of 1106,we had to spend a budget of almost 25000 rupees."
   ]
  },
  {
   "cell_type": "markdown",
   "metadata": {},
   "source": [
    "####  Now,the following points are to be noted :\n",
    "- The responses are different for both the realtime ,and the Logistic Regression model we built.\n",
    "- For predicting the top X % customers,for getting 80 % of the total responses,we've to use the realtime data,as the number of resonses itself,will be very different according to the model.\n",
    "- Thus,we'll take the decision by arranging the datapoints in the realtime responses,in the order of their decreasing probabilities,obtained from the logistic regression model.\n",
    "- Thus,in this way,we'll make use of the model in the realtime responses,and take the decision."
   ]
  },
  {
   "cell_type": "code",
   "execution_count": 224,
   "metadata": {},
   "outputs": [],
   "source": [
    "test_optimal_2 = test_optimal_1.sort_values(by='probability',ascending=False)"
   ]
  },
  {
   "cell_type": "code",
   "execution_count": 225,
   "metadata": {},
   "outputs": [
    {
     "data": {
      "text/html": [
       "<div>\n",
       "<style scoped>\n",
       "    .dataframe tbody tr th:only-of-type {\n",
       "        vertical-align: middle;\n",
       "    }\n",
       "\n",
       "    .dataframe tbody tr th {\n",
       "        vertical-align: top;\n",
       "    }\n",
       "\n",
       "    .dataframe thead th {\n",
       "        text-align: right;\n",
       "    }\n",
       "</style>\n",
       "<table border=\"1\" class=\"dataframe\">\n",
       "  <thead>\n",
       "    <tr style=\"text-align: right;\">\n",
       "      <th></th>\n",
       "      <th>response_actual</th>\n",
       "      <th>probability</th>\n",
       "      <th>prospectId</th>\n",
       "      <th>response_predicted</th>\n",
       "      <th>duration</th>\n",
       "      <th>Cost(in rupees)</th>\n",
       "    </tr>\n",
       "  </thead>\n",
       "  <tbody>\n",
       "    <tr>\n",
       "      <td>5214</td>\n",
       "      <td>1</td>\n",
       "      <td>0.950308</td>\n",
       "      <td>5214</td>\n",
       "      <td>1</td>\n",
       "      <td>340</td>\n",
       "      <td>3.40</td>\n",
       "    </tr>\n",
       "    <tr>\n",
       "      <td>4337</td>\n",
       "      <td>1</td>\n",
       "      <td>0.950295</td>\n",
       "      <td>4337</td>\n",
       "      <td>1</td>\n",
       "      <td>429</td>\n",
       "      <td>4.29</td>\n",
       "    </tr>\n",
       "    <tr>\n",
       "      <td>5682</td>\n",
       "      <td>1</td>\n",
       "      <td>0.949724</td>\n",
       "      <td>5682</td>\n",
       "      <td>1</td>\n",
       "      <td>300</td>\n",
       "      <td>3.00</td>\n",
       "    </tr>\n",
       "    <tr>\n",
       "      <td>11019</td>\n",
       "      <td>1</td>\n",
       "      <td>0.949423</td>\n",
       "      <td>11019</td>\n",
       "      <td>1</td>\n",
       "      <td>532</td>\n",
       "      <td>5.32</td>\n",
       "    </tr>\n",
       "    <tr>\n",
       "      <td>9707</td>\n",
       "      <td>0</td>\n",
       "      <td>0.948713</td>\n",
       "      <td>9707</td>\n",
       "      <td>1</td>\n",
       "      <td>212</td>\n",
       "      <td>2.12</td>\n",
       "    </tr>\n",
       "    <tr>\n",
       "      <td>844</td>\n",
       "      <td>1</td>\n",
       "      <td>0.947347</td>\n",
       "      <td>844</td>\n",
       "      <td>1</td>\n",
       "      <td>678</td>\n",
       "      <td>6.78</td>\n",
       "    </tr>\n",
       "    <tr>\n",
       "      <td>10369</td>\n",
       "      <td>1</td>\n",
       "      <td>0.946761</td>\n",
       "      <td>10369</td>\n",
       "      <td>1</td>\n",
       "      <td>396</td>\n",
       "      <td>3.96</td>\n",
       "    </tr>\n",
       "    <tr>\n",
       "      <td>3689</td>\n",
       "      <td>1</td>\n",
       "      <td>0.946648</td>\n",
       "      <td>3689</td>\n",
       "      <td>1</td>\n",
       "      <td>638</td>\n",
       "      <td>6.38</td>\n",
       "    </tr>\n",
       "    <tr>\n",
       "      <td>1565</td>\n",
       "      <td>1</td>\n",
       "      <td>0.946550</td>\n",
       "      <td>1565</td>\n",
       "      <td>1</td>\n",
       "      <td>251</td>\n",
       "      <td>2.51</td>\n",
       "    </tr>\n",
       "    <tr>\n",
       "      <td>1630</td>\n",
       "      <td>1</td>\n",
       "      <td>0.946333</td>\n",
       "      <td>1630</td>\n",
       "      <td>1</td>\n",
       "      <td>200</td>\n",
       "      <td>2.00</td>\n",
       "    </tr>\n",
       "    <tr>\n",
       "      <td>5632</td>\n",
       "      <td>1</td>\n",
       "      <td>0.945804</td>\n",
       "      <td>5632</td>\n",
       "      <td>1</td>\n",
       "      <td>232</td>\n",
       "      <td>2.32</td>\n",
       "    </tr>\n",
       "    <tr>\n",
       "      <td>10568</td>\n",
       "      <td>1</td>\n",
       "      <td>0.945711</td>\n",
       "      <td>10568</td>\n",
       "      <td>1</td>\n",
       "      <td>178</td>\n",
       "      <td>1.78</td>\n",
       "    </tr>\n",
       "    <tr>\n",
       "      <td>10860</td>\n",
       "      <td>1</td>\n",
       "      <td>0.945568</td>\n",
       "      <td>10860</td>\n",
       "      <td>1</td>\n",
       "      <td>293</td>\n",
       "      <td>2.93</td>\n",
       "    </tr>\n",
       "    <tr>\n",
       "      <td>7146</td>\n",
       "      <td>1</td>\n",
       "      <td>0.944376</td>\n",
       "      <td>7146</td>\n",
       "      <td>1</td>\n",
       "      <td>609</td>\n",
       "      <td>6.09</td>\n",
       "    </tr>\n",
       "    <tr>\n",
       "      <td>4033</td>\n",
       "      <td>1</td>\n",
       "      <td>0.944289</td>\n",
       "      <td>4033</td>\n",
       "      <td>1</td>\n",
       "      <td>150</td>\n",
       "      <td>1.50</td>\n",
       "    </tr>\n",
       "    <tr>\n",
       "      <td>12317</td>\n",
       "      <td>1</td>\n",
       "      <td>0.944230</td>\n",
       "      <td>12317</td>\n",
       "      <td>1</td>\n",
       "      <td>169</td>\n",
       "      <td>1.69</td>\n",
       "    </tr>\n",
       "    <tr>\n",
       "      <td>2691</td>\n",
       "      <td>0</td>\n",
       "      <td>0.944124</td>\n",
       "      <td>2691</td>\n",
       "      <td>1</td>\n",
       "      <td>180</td>\n",
       "      <td>1.80</td>\n",
       "    </tr>\n",
       "    <tr>\n",
       "      <td>3025</td>\n",
       "      <td>1</td>\n",
       "      <td>0.944049</td>\n",
       "      <td>3025</td>\n",
       "      <td>1</td>\n",
       "      <td>182</td>\n",
       "      <td>1.82</td>\n",
       "    </tr>\n",
       "    <tr>\n",
       "      <td>6132</td>\n",
       "      <td>1</td>\n",
       "      <td>0.943920</td>\n",
       "      <td>6132</td>\n",
       "      <td>1</td>\n",
       "      <td>529</td>\n",
       "      <td>5.29</td>\n",
       "    </tr>\n",
       "    <tr>\n",
       "      <td>751</td>\n",
       "      <td>1</td>\n",
       "      <td>0.943491</td>\n",
       "      <td>751</td>\n",
       "      <td>1</td>\n",
       "      <td>167</td>\n",
       "      <td>1.67</td>\n",
       "    </tr>\n",
       "    <tr>\n",
       "      <td>10381</td>\n",
       "      <td>1</td>\n",
       "      <td>0.943332</td>\n",
       "      <td>10381</td>\n",
       "      <td>1</td>\n",
       "      <td>666</td>\n",
       "      <td>6.66</td>\n",
       "    </tr>\n",
       "    <tr>\n",
       "      <td>2939</td>\n",
       "      <td>1</td>\n",
       "      <td>0.943049</td>\n",
       "      <td>2939</td>\n",
       "      <td>1</td>\n",
       "      <td>255</td>\n",
       "      <td>2.55</td>\n",
       "    </tr>\n",
       "    <tr>\n",
       "      <td>130</td>\n",
       "      <td>0</td>\n",
       "      <td>0.942985</td>\n",
       "      <td>130</td>\n",
       "      <td>1</td>\n",
       "      <td>706</td>\n",
       "      <td>7.06</td>\n",
       "    </tr>\n",
       "    <tr>\n",
       "      <td>1511</td>\n",
       "      <td>1</td>\n",
       "      <td>0.942975</td>\n",
       "      <td>1511</td>\n",
       "      <td>1</td>\n",
       "      <td>316</td>\n",
       "      <td>3.16</td>\n",
       "    </tr>\n",
       "    <tr>\n",
       "      <td>1348</td>\n",
       "      <td>1</td>\n",
       "      <td>0.942917</td>\n",
       "      <td>1348</td>\n",
       "      <td>1</td>\n",
       "      <td>395</td>\n",
       "      <td>3.95</td>\n",
       "    </tr>\n",
       "    <tr>\n",
       "      <td>406</td>\n",
       "      <td>0</td>\n",
       "      <td>0.942222</td>\n",
       "      <td>406</td>\n",
       "      <td>1</td>\n",
       "      <td>156</td>\n",
       "      <td>1.56</td>\n",
       "    </tr>\n",
       "    <tr>\n",
       "      <td>3568</td>\n",
       "      <td>1</td>\n",
       "      <td>0.942103</td>\n",
       "      <td>3568</td>\n",
       "      <td>1</td>\n",
       "      <td>392</td>\n",
       "      <td>3.92</td>\n",
       "    </tr>\n",
       "    <tr>\n",
       "      <td>6765</td>\n",
       "      <td>1</td>\n",
       "      <td>0.941931</td>\n",
       "      <td>6765</td>\n",
       "      <td>1</td>\n",
       "      <td>263</td>\n",
       "      <td>2.63</td>\n",
       "    </tr>\n",
       "    <tr>\n",
       "      <td>3103</td>\n",
       "      <td>1</td>\n",
       "      <td>0.941772</td>\n",
       "      <td>3103</td>\n",
       "      <td>1</td>\n",
       "      <td>216</td>\n",
       "      <td>2.16</td>\n",
       "    </tr>\n",
       "    <tr>\n",
       "      <td>1997</td>\n",
       "      <td>1</td>\n",
       "      <td>0.941630</td>\n",
       "      <td>1997</td>\n",
       "      <td>1</td>\n",
       "      <td>806</td>\n",
       "      <td>8.06</td>\n",
       "    </tr>\n",
       "  </tbody>\n",
       "</table>\n",
       "</div>"
      ],
      "text/plain": [
       "       response_actual  probability  prospectId  response_predicted  duration  \\\n",
       "5214                 1     0.950308        5214                   1       340   \n",
       "4337                 1     0.950295        4337                   1       429   \n",
       "5682                 1     0.949724        5682                   1       300   \n",
       "11019                1     0.949423       11019                   1       532   \n",
       "9707                 0     0.948713        9707                   1       212   \n",
       "844                  1     0.947347         844                   1       678   \n",
       "10369                1     0.946761       10369                   1       396   \n",
       "3689                 1     0.946648        3689                   1       638   \n",
       "1565                 1     0.946550        1565                   1       251   \n",
       "1630                 1     0.946333        1630                   1       200   \n",
       "5632                 1     0.945804        5632                   1       232   \n",
       "10568                1     0.945711       10568                   1       178   \n",
       "10860                1     0.945568       10860                   1       293   \n",
       "7146                 1     0.944376        7146                   1       609   \n",
       "4033                 1     0.944289        4033                   1       150   \n",
       "12317                1     0.944230       12317                   1       169   \n",
       "2691                 0     0.944124        2691                   1       180   \n",
       "3025                 1     0.944049        3025                   1       182   \n",
       "6132                 1     0.943920        6132                   1       529   \n",
       "751                  1     0.943491         751                   1       167   \n",
       "10381                1     0.943332       10381                   1       666   \n",
       "2939                 1     0.943049        2939                   1       255   \n",
       "130                  0     0.942985         130                   1       706   \n",
       "1511                 1     0.942975        1511                   1       316   \n",
       "1348                 1     0.942917        1348                   1       395   \n",
       "406                  0     0.942222         406                   1       156   \n",
       "3568                 1     0.942103        3568                   1       392   \n",
       "6765                 1     0.941931        6765                   1       263   \n",
       "3103                 1     0.941772        3103                   1       216   \n",
       "1997                 1     0.941630        1997                   1       806   \n",
       "\n",
       "       Cost(in rupees)  \n",
       "5214              3.40  \n",
       "4337              4.29  \n",
       "5682              3.00  \n",
       "11019             5.32  \n",
       "9707              2.12  \n",
       "844               6.78  \n",
       "10369             3.96  \n",
       "3689              6.38  \n",
       "1565              2.51  \n",
       "1630              2.00  \n",
       "5632              2.32  \n",
       "10568             1.78  \n",
       "10860             2.93  \n",
       "7146              6.09  \n",
       "4033              1.50  \n",
       "12317             1.69  \n",
       "2691              1.80  \n",
       "3025              1.82  \n",
       "6132              5.29  \n",
       "751               1.67  \n",
       "10381             6.66  \n",
       "2939              2.55  \n",
       "130               7.06  \n",
       "1511              3.16  \n",
       "1348              3.95  \n",
       "406               1.56  \n",
       "3568              3.92  \n",
       "6765              2.63  \n",
       "3103              2.16  \n",
       "1997              8.06  "
      ]
     },
     "execution_count": 225,
     "metadata": {},
     "output_type": "execute_result"
    }
   ],
   "source": [
    "test_optimal_2.head(30)"
   ]
  },
  {
   "cell_type": "markdown",
   "metadata": {},
   "source": [
    "### Using realtime responses,by arranging the datapoints in the order of their decreasing probability of response (obtained from model) :"
   ]
  },
  {
   "cell_type": "code",
   "execution_count": 226,
   "metadata": {},
   "outputs": [
    {
     "data": {
      "image/png": "[encoded data removed]",
      "text/plain": [
       "<Figure size 625x500 with 1 Axes>"
      ]
     },
     "metadata": {},
     "output_type": "display_data"
    }
   ],
   "source": [
    "plt.figure(figsize=(25,20),dpi=25)\n",
    "sns.set(font_scale=3)\n",
    "sns.lineplot(x=test_optimal_2['Cost(in rupees)'].cumsum(),y=test_optimal_2['response_actual'].cumsum())\n",
    "plt.show()"
   ]
  },
  {
   "cell_type": "markdown",
   "metadata": {},
   "source": [
    "Hence,now,based on just arranging our prospects in the order of their **decreasing probabilities**,obtained from our **logistic regression model**,by doing a targetted campaigning of a budget of **Rs.15000 approx.** we can get a response of nearly **80% of the total responses we got,i.e. 1100 responses approx.\n",
    "Thus,in this way,we can make reduce our expenses by Rs.10000,i.e.a 40% reduction in budget."
   ]
  },
  {
   "cell_type": "markdown",
   "metadata": {},
   "source": [
    "Now,the top X% of prospects that we should target to achieve a response of 80% of the total responses can be found as follows : "
   ]
  },
  {
   "cell_type": "code",
   "execution_count": 227,
   "metadata": {},
   "outputs": [],
   "source": [
    "test_optimal_2['cum_response_actual'] = test_optimal_2['response_actual'].cumsum()"
   ]
  },
  {
   "cell_type": "code",
   "execution_count": 228,
   "metadata": {},
   "outputs": [
    {
     "data": {
      "text/html": [
       "<div>\n",
       "<style scoped>\n",
       "    .dataframe tbody tr th:only-of-type {\n",
       "        vertical-align: middle;\n",
       "    }\n",
       "\n",
       "    .dataframe tbody tr th {\n",
       "        vertical-align: top;\n",
       "    }\n",
       "\n",
       "    .dataframe thead th {\n",
       "        text-align: right;\n",
       "    }\n",
       "</style>\n",
       "<table border=\"1\" class=\"dataframe\">\n",
       "  <thead>\n",
       "    <tr style=\"text-align: right;\">\n",
       "      <th></th>\n",
       "      <th>response_actual</th>\n",
       "      <th>probability</th>\n",
       "      <th>prospectId</th>\n",
       "      <th>response_predicted</th>\n",
       "      <th>duration</th>\n",
       "      <th>Cost(in rupees)</th>\n",
       "      <th>cum_response_actual</th>\n",
       "    </tr>\n",
       "  </thead>\n",
       "  <tbody>\n",
       "    <tr>\n",
       "      <td>5214</td>\n",
       "      <td>1</td>\n",
       "      <td>0.950308</td>\n",
       "      <td>5214</td>\n",
       "      <td>1</td>\n",
       "      <td>340</td>\n",
       "      <td>3.40</td>\n",
       "      <td>1</td>\n",
       "    </tr>\n",
       "    <tr>\n",
       "      <td>4337</td>\n",
       "      <td>1</td>\n",
       "      <td>0.950295</td>\n",
       "      <td>4337</td>\n",
       "      <td>1</td>\n",
       "      <td>429</td>\n",
       "      <td>4.29</td>\n",
       "      <td>2</td>\n",
       "    </tr>\n",
       "    <tr>\n",
       "      <td>5682</td>\n",
       "      <td>1</td>\n",
       "      <td>0.949724</td>\n",
       "      <td>5682</td>\n",
       "      <td>1</td>\n",
       "      <td>300</td>\n",
       "      <td>3.00</td>\n",
       "      <td>3</td>\n",
       "    </tr>\n",
       "    <tr>\n",
       "      <td>11019</td>\n",
       "      <td>1</td>\n",
       "      <td>0.949423</td>\n",
       "      <td>11019</td>\n",
       "      <td>1</td>\n",
       "      <td>532</td>\n",
       "      <td>5.32</td>\n",
       "      <td>4</td>\n",
       "    </tr>\n",
       "    <tr>\n",
       "      <td>9707</td>\n",
       "      <td>0</td>\n",
       "      <td>0.948713</td>\n",
       "      <td>9707</td>\n",
       "      <td>1</td>\n",
       "      <td>212</td>\n",
       "      <td>2.12</td>\n",
       "      <td>4</td>\n",
       "    </tr>\n",
       "    <tr>\n",
       "      <td>844</td>\n",
       "      <td>1</td>\n",
       "      <td>0.947347</td>\n",
       "      <td>844</td>\n",
       "      <td>1</td>\n",
       "      <td>678</td>\n",
       "      <td>6.78</td>\n",
       "      <td>5</td>\n",
       "    </tr>\n",
       "    <tr>\n",
       "      <td>10369</td>\n",
       "      <td>1</td>\n",
       "      <td>0.946761</td>\n",
       "      <td>10369</td>\n",
       "      <td>1</td>\n",
       "      <td>396</td>\n",
       "      <td>3.96</td>\n",
       "      <td>6</td>\n",
       "    </tr>\n",
       "    <tr>\n",
       "      <td>3689</td>\n",
       "      <td>1</td>\n",
       "      <td>0.946648</td>\n",
       "      <td>3689</td>\n",
       "      <td>1</td>\n",
       "      <td>638</td>\n",
       "      <td>6.38</td>\n",
       "      <td>7</td>\n",
       "    </tr>\n",
       "    <tr>\n",
       "      <td>1565</td>\n",
       "      <td>1</td>\n",
       "      <td>0.946550</td>\n",
       "      <td>1565</td>\n",
       "      <td>1</td>\n",
       "      <td>251</td>\n",
       "      <td>2.51</td>\n",
       "      <td>8</td>\n",
       "    </tr>\n",
       "    <tr>\n",
       "      <td>1630</td>\n",
       "      <td>1</td>\n",
       "      <td>0.946333</td>\n",
       "      <td>1630</td>\n",
       "      <td>1</td>\n",
       "      <td>200</td>\n",
       "      <td>2.00</td>\n",
       "      <td>9</td>\n",
       "    </tr>\n",
       "  </tbody>\n",
       "</table>\n",
       "</div>"
      ],
      "text/plain": [
       "       response_actual  probability  prospectId  response_predicted  duration  \\\n",
       "5214                 1     0.950308        5214                   1       340   \n",
       "4337                 1     0.950295        4337                   1       429   \n",
       "5682                 1     0.949724        5682                   1       300   \n",
       "11019                1     0.949423       11019                   1       532   \n",
       "9707                 0     0.948713        9707                   1       212   \n",
       "844                  1     0.947347         844                   1       678   \n",
       "10369                1     0.946761       10369                   1       396   \n",
       "3689                 1     0.946648        3689                   1       638   \n",
       "1565                 1     0.946550        1565                   1       251   \n",
       "1630                 1     0.946333        1630                   1       200   \n",
       "\n",
       "       Cost(in rupees)  cum_response_actual  \n",
       "5214              3.40                    1  \n",
       "4337              4.29                    2  \n",
       "5682              3.00                    3  \n",
       "11019             5.32                    4  \n",
       "9707              2.12                    4  \n",
       "844               6.78                    5  \n",
       "10369             3.96                    6  \n",
       "3689              6.38                    7  \n",
       "1565              2.51                    8  \n",
       "1630              2.00                    9  "
      ]
     },
     "execution_count": 228,
     "metadata": {},
     "output_type": "execute_result"
    }
   ],
   "source": [
    "test_optimal_2.head(10)"
   ]
  },
  {
   "cell_type": "code",
   "execution_count": 229,
   "metadata": {},
   "outputs": [],
   "source": [
    "# We're calling the dataset of top X % prospects for meeting the business objective as 'test_optimal_X',and following is how we obtain it :\n",
    "test_optimal_X = test_optimal_2[test_optimal_2['cum_response_actual'] <= 0.8*test_optimal_2['response_actual'].sum()]"
   ]
  },
  {
   "cell_type": "code",
   "execution_count": 230,
   "metadata": {},
   "outputs": [
    {
     "name": "stdout",
     "output_type": "stream",
     "text": [
      "For fulfilling the business objective,the top X % prospects we should target are 49.3 % .\n"
     ]
    }
   ],
   "source": [
    "print('For fulfilling the business objective,the top X % prospects we should target are', 100*round(len(test_optimal_X)/len(test_optimal_1),4),'% .')"
   ]
  },
  {
   "cell_type": "markdown",
   "metadata": {},
   "source": [
    "#### Thus, for fulfilling the business objective of achieving 80 % of total responses,we have to target just the top 49.28 % (50 % approx.) of prospects."
   ]
  },
  {
   "cell_type": "code",
   "execution_count": 231,
   "metadata": {},
   "outputs": [
    {
     "name": "stdout",
     "output_type": "stream",
     "text": [
      "The average call durartion for targetting the top 49.28 % (50% approx.) of prospects is 261.82 seconds.\n"
     ]
    }
   ],
   "source": [
    "print('The average call durartion for targetting the top 49.28 % (50% approx.) of prospects is',round(test_optimal_X['duration'].mean(),2),'seconds.')"
   ]
  },
  {
   "cell_type": "markdown",
   "metadata": {},
   "source": [
    "### 6) Create a lift chart :\n",
    "- The x-axis should show the number of prospects contacted; the y-axis should show the ratio of the response rate using the model and the response rate without using the model"
   ]
  },
  {
   "cell_type": "code",
   "execution_count": 232,
   "metadata": {},
   "outputs": [],
   "source": [
    "test_optimal_1 = test_optimal_1.sort_values(by='prospectId',axis=0,ascending=True)"
   ]
  },
  {
   "cell_type": "code",
   "execution_count": 233,
   "metadata": {},
   "outputs": [],
   "source": [
    "decile_df = test_optimal_1[['response_actual','probability','response_predicted']].reset_index(drop=True)"
   ]
  },
  {
   "cell_type": "code",
   "execution_count": 234,
   "metadata": {},
   "outputs": [],
   "source": [
    "decile_df['decile'] = pd.qcut(decile_df['probability'], 10, labels=np.arange(10, 0, -1))"
   ]
  },
  {
   "cell_type": "code",
   "execution_count": 237,
   "metadata": {},
   "outputs": [
    {
     "data": {
      "text/plain": [
       "0        3\n",
       "1        5\n",
       "2        7\n",
       "3        1\n",
       "4        9\n",
       "        ..\n",
       "12352    3\n",
       "12353    5\n",
       "12354    3\n",
       "12355    1\n",
       "12356    1\n",
       "Name: decile, Length: 12357, dtype: category\n",
       "Categories (10, int64): [10 < 9 < 8 < 7 ... 4 < 3 < 2 < 1]"
      ]
     },
     "execution_count": 237,
     "metadata": {},
     "output_type": "execute_result"
    }
   ],
   "source": [
    "decile_df['decile']"
   ]
  },
  {
   "cell_type": "code",
   "execution_count": null,
   "metadata": {},
   "outputs": [],
   "source": [
    "lift_df = decile_df.groupby('decile')['probability'].count().reset_index()"
   ]
  },
  {
   "cell_type": "code",
   "execution_count": null,
   "metadata": {},
   "outputs": [],
   "source": [
    "lift_df.rename({'probability':'total'}, axis=1, inplace=True) "
   ]
  },
  {
   "cell_type": "code",
   "execution_count": null,
   "metadata": {},
   "outputs": [],
   "source": [
    "lift_df_actual = decile_df[decile_df['response_actual']==1].groupby('decile')['response_actual'].count().reset_index()"
   ]
  },
  {
   "cell_type": "code",
   "execution_count": null,
   "metadata": {},
   "outputs": [],
   "source": [
    "lift_df_pred = decile_df[decile_df['response_predicted']==1].groupby('decile')['response_predicted'].count().reset_index()"
   ]
  },
  {
   "cell_type": "code",
   "execution_count": null,
   "metadata": {},
   "outputs": [],
   "source": [
    "lift_df.info()"
   ]
  },
  {
   "cell_type": "code",
   "execution_count": null,
   "metadata": {},
   "outputs": [],
   "source": [
    "lift_df_final = lift_df.merge(lift_df_actual,on = 'decile')\n",
    "lift_df_final = lift_df_final.merge(lift_df_pred,on = 'decile')"
   ]
  },
  {
   "cell_type": "code",
   "execution_count": null,
   "metadata": {},
   "outputs": [],
   "source": [
    "lift_df_final"
   ]
  },
  {
   "cell_type": "code",
   "execution_count": null,
   "metadata": {},
   "outputs": [],
   "source": [
    "lift_df_final = lift_df_final.sort_values(['decile'], ascending=False)"
   ]
  },
  {
   "cell_type": "code",
   "execution_count": null,
   "metadata": {},
   "outputs": [],
   "source": [
    "lift_df_final['cumresp_actual'] = lift_df_final['response_actual'].cumsum()\n",
    "lift_df_final['cumresp_predicted'] = lift_df_final['response_predicted'].cumsum()"
   ]
  },
  {
   "cell_type": "code",
   "execution_count": null,
   "metadata": {},
   "outputs": [],
   "source": [
    "lift_df_final['gain_actual'] = 100*(lift_df_final['cumresp_actual']/sum(lift_df_final['response_actual']))\n",
    "lift_df_final['gain_predicted'] = 100*(lift_df_final['cumresp_predicted']/sum(lift_df_final['response_predicted']))"
   ]
  },
  {
   "cell_type": "code",
   "execution_count": null,
   "metadata": {},
   "outputs": [],
   "source": [
    "lift_df_final['lift'] = lift_df_final['gain_predicted']/lift_df_final['gain_actual']"
   ]
  },
  {
   "cell_type": "code",
   "execution_count": null,
   "metadata": {},
   "outputs": [],
   "source": [
    "lift_df_final"
   ]
  },
  {
   "cell_type": "markdown",
   "metadata": {},
   "source": [
    "Hence we can clearly see here that by targetting approximately 50 % of the total customers,we can get a respnse of slightly above 80 %,which is the business objective. Hence,this is in line with our finding earlier of **49.28 %** in **Part 4**."
   ]
  },
  {
   "cell_type": "code",
   "execution_count": null,
   "metadata": {},
   "outputs": [],
   "source": [
    "lift_df_final['cumlift'] = lift_df_final['lift'].cumsum()\n",
    "lift_df_final"
   ]
  },
  {
   "cell_type": "markdown",
   "metadata": {},
   "source": [
    "#### This is the lift chart we finally obtain :"
   ]
  },
  {
   "cell_type": "code",
   "execution_count": null,
   "metadata": {},
   "outputs": [],
   "source": [
    "plt.figure(figsize=(25,20),dpi=25)\n",
    "sns.set(font_scale=3)\n",
    "sns.lineplot(x=lift_df_final['total'].cumsum(), y=lift_df_final['lift'])\n",
    "plt.xlabel('Prospects contacted')\n",
    "plt.ylabel('Lift')\n",
    "plt.title('Lift chart')\n",
    "plt.show()"
   ]
  },
  {
   "cell_type": "markdown",
   "metadata": {},
   "source": [
    "#### This is the cumulative lift chart we finally obtain :"
   ]
  },
  {
   "cell_type": "code",
   "execution_count": null,
   "metadata": {},
   "outputs": [],
   "source": [
    "plt.figure(figsize=(25,20),dpi=25)\n",
    "sns.set(font_scale=3)\n",
    "sns.lineplot(x=lift_df_final['total'].cumsum(), y=lift_df_final['cumlift'])\n",
    "plt.xlabel('Prospects contacted')\n",
    "plt.ylabel('cumlift')\n",
    "plt.title('Prospects contacted vs Cumulative Lift')\n",
    "plt.show()"
   ]
  },
  {
   "cell_type": "markdown",
   "metadata": {},
   "source": [
    "### 6) Determine the cost of acquisition :"
   ]
  },
  {
   "cell_type": "markdown",
   "metadata": {},
   "source": [
    "No,we've to determine the total cost of acquisition,as well as the cost incurred for acquiring 80% of customers using the predictive model"
   ]
  },
  {
   "cell_type": "code",
   "execution_count": null,
   "metadata": {},
   "outputs": [],
   "source": [
    "test_optimal_1.head()"
   ]
  },
  {
   "cell_type": "code",
   "execution_count": null,
   "metadata": {},
   "outputs": [],
   "source": [
    "# This is the total customers acquired,in the current campaign.\n",
    "total_customers_acquired = test_optimal_1['response_actual'].sum() \n",
    "total_cost_of_acquisition = 1*total_customers_acquired # Obviously,the total_customers_acquired = total_cost_of_acquisition "
   ]
  },
  {
   "cell_type": "code",
   "execution_count": null,
   "metadata": {},
   "outputs": [],
   "source": [
    "print('The total cost of acquisition is =',total_cost_of_acquisition)"
   ]
  },
  {
   "cell_type": "code",
   "execution_count": null,
   "metadata": {},
   "outputs": [],
   "source": [
    "# Now,based on the predictive model :\n",
    "total_customers_acquired_predicted = test_optimal_1['response_predicted'].sum()\n",
    "total_cost_of_acquisition_predicted = total_customers_acquired_predicted"
   ]
  },
  {
   "cell_type": "code",
   "execution_count": null,
   "metadata": {},
   "outputs": [],
   "source": [
    "print('The total cost of acquisition of 80% customers,according to the predictive model is =',0.8*total_cost_of_acquisition_predicted)"
   ]
  },
  {
   "cell_type": "markdown",
   "metadata": {},
   "source": [
    "#### Thus,the cost incurred for the acquisition of 80% customers,according to the predictive model is 2138.4. This is owing to the fact that the number of people predicted to respond by the model is much higher than the actual number of people who responded."
   ]
  }
 ],
 "metadata": {
  "kernelspec": {
   "display_name": "Python 3",
   "language": "python",
   "name": "python3"
  },
  "language_info": {
   "codemirror_mode": {
    "name": "ipython",
    "version": 3
   },
   "file_extension": ".py",
   "mimetype": "text/x-python",
   "name": "python",
   "nbconvert_exporter": "python",
   "pygments_lexer": "ipython3",
   "version": "3.7.4"
  }
 },
 "nbformat": 4,
 "nbformat_minor": 2
}
